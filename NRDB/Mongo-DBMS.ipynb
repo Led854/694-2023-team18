{
 "cells": [
  {
   "cell_type": "markdown",
   "id": "a1839738",
   "metadata": {},
   "source": [
    "   # Procesing Twitter Dataset and loading into MongoDB database system"
   ]
  },
  {
   "cell_type": "markdown",
   "id": "8173dc70",
   "metadata": {},
   "source": [
    "### Following constrains are used to reduce the querrying time\n"
   ]
  },
  {
   "cell_type": "markdown",
   "id": "e1d12447",
   "metadata": {},
   "source": [
    "1) Irrelevant  data fields are dropped.\n",
    " "
   ]
  },
  {
   "cell_type": "markdown",
   "id": "39c3de4d",
   "metadata": {},
   "source": [
    "2) Tweets are stored before retweets.\n"
   ]
  },
  {
   "cell_type": "markdown",
   "id": "adb57a4f",
   "metadata": {},
   "source": [
    "3) Order of appearance of attributes is changed."
   ]
  },
  {
   "cell_type": "markdown",
   "id": "569a8a4e",
   "metadata": {},
   "source": [
    "### Importing reuired libraried"
   ]
  },
  {
   "cell_type": "code",
   "execution_count": 33,
   "id": "10225395",
   "metadata": {},
   "outputs": [],
   "source": [
    "import os\n",
    "import json\n",
    "import tweepy \n",
    "import pandas as pd \n",
    "import pymongo\n",
    "import time"
   ]
  },
  {
   "cell_type": "markdown",
   "id": "ed348ce1",
   "metadata": {},
   "source": [
    "###                                       Setting up mongoDB client connection "
   ]
  },
  {
   "cell_type": "code",
   "execution_count": 34,
   "id": "72c59c90",
   "metadata": {},
   "outputs": [],
   "source": [
    "client=pymongo.MongoClient(\"mongodb://localhost:27017\")"
   ]
  },
  {
   "cell_type": "markdown",
   "id": "050bc917",
   "metadata": {},
   "source": [
    "Creating an empty database"
   ]
  },
  {
   "cell_type": "code",
   "execution_count": 37,
   "id": "2d4bf86b",
   "metadata": {},
   "outputs": [],
   "source": [
    "db=client[\"corona3\"]"
   ]
  },
  {
   "cell_type": "code",
   "execution_count": 39,
   "id": "edd2b179",
   "metadata": {},
   "outputs": [
    {
     "name": "stdout",
     "output_type": "stream",
     "text": [
      "Inserting tweets in MongoDB\n",
      "Tweets Inserted\n",
      "Inserting Retweets\n",
      "Retweets inserted\n",
      "Complete\n",
      " time_taken= 113.21362590789795 seconds\n"
     ]
    }
   ],
   "source": [
    "start_time= time.time()\n",
    "with open('corona-out-3.json', 'r') as f:\n",
    "    print(\"Inserting tweets in MongoDB\")\n",
    "    \n",
    "    retweeted_status_keys=[\"created_at\",\"id_str\",\"text\",\"in_reply_to_status_id_str\",\"in_reply_to_user_id_str\",\"in_reply_to_screen_name\",\"user\",\"quoted_status_id_str\",\"quote_count\",\"reply_count\",\"retweet_count\",\"favorite_count\",\"entities\",\"lang\"]\n",
    "    # Process tweets\n",
    "    for line in f:\n",
    "        if(line=='\\n'):\n",
    "            continue            \n",
    "        tweet = json.loads(line)\n",
    "        \n",
    "        dictz = {\"user\":None,'text':None,\"entities\":None,'created_at': None, 'id_str':None, \"in_reply_to_screen_name\":None ,\"in_reply_to_user_id_str\": None,\"in_reply_to_status_id_str\": None,\"quoted_status_id_str\": None, \"quote_count\" : None,\"reply_count\" : None,\"retweet_count\": None,\"favorite_count\": None, \"lang\": None}\n",
    "        \n",
    "        # Check if tweet has not been retweeted\n",
    "        if \"retweeted_status\" not in tweet:\n",
    "            # Extract information from tweet\n",
    "            if \"user\" in tweet:\n",
    "                user=tweet[\"user\"]\n",
    "                dictz[\"user\"]={\"id_str\":user[\"id_str\"]} \n",
    "            if \"entities\" in tweet:                             \n",
    "                entities=tweet[\"entities\"]\n",
    "                dictz[\"entities\"]={\"hasgtages\":entities[\"hashtags\"]}           \n",
    "            for line2 in tweet:\n",
    "                if line2 in dictz:\n",
    "                    dictz[line2]=tweet[line2]\n",
    "                    \n",
    "            # Insert tweet into MongoDB collection\n",
    "            db.tweets.insert_one(dictz)\n",
    "    print(\"Tweets Inserted\")\n",
    "    # Reset file pointer to beginning of file\n",
    "    f.seek(0)\n",
    "    \n",
    "    print(\"Inserting Retweets\")\n",
    "    \n",
    "    # Process retweets\n",
    "    for line in f:\n",
    "        if(line=='\\n'):\n",
    "            continue            \n",
    "        tweet = json.loads(line)\n",
    "        \n",
    "       \n",
    "        dictz = {\"user\":None,'text':None,\"entities\":None,'created_at': None, 'id_str':None,\"retweeted_status\": None , \"in_reply_to_screen_name\":None ,\"in_reply_to_user_id_str\": None,\"in_reply_to_status_id_str\": None,\"quoted_status_id_str\": None, \"quote_count\" : None,\"reply_count\" : None,\"retweet_count\": None,\"favorite_count\": None, \"lang\": None}\n",
    "        \n",
    "        # Check if tweet has been retweeted\n",
    "        if \"retweeted_status\" in tweet:\n",
    "            # Extract information from retweeted status\n",
    "            rts= tweet[\"retweeted_status\"]                       \n",
    "            retweeted_status={}                 \n",
    "            for key in retweeted_status_keys:\n",
    "                if key in rts:                       \n",
    "                    retweeted_status[key] = rts[key]                   \n",
    "                dictz['retweeted_status'] = retweeted_status\n",
    "            \n",
    "            # Insert retweet into MongoDB collection\n",
    "            db.tweets.insert_one(dictz)\n",
    "    print(\"Retweets inserted\")\n",
    "    print(\"Complete\")\n",
    "    time_taken=time.time()-start_time\n",
    "    print(\" time_taken=\", time_taken,\"seconds\")"
   ]
  },
  {
   "cell_type": "code",
   "execution_count": null,
   "id": "732dbdc7",
   "metadata": {},
   "outputs": [],
   "source": []
  },
  {
   "cell_type": "code",
   "execution_count": null,
   "id": "41ea70e7",
   "metadata": {},
   "outputs": [],
   "source": []
  }
 ],
 "metadata": {
  "kernelspec": {
   "display_name": "Python 3 (ipykernel)",
   "language": "python",
   "name": "python3"
  },
  "language_info": {
   "codemirror_mode": {
    "name": "ipython",
    "version": 3
   },
   "file_extension": ".py",
   "mimetype": "text/x-python",
   "name": "python",
   "nbconvert_exporter": "python",
   "pygments_lexer": "ipython3",
   "version": "3.9.13"
  }
 },
 "nbformat": 4,
 "nbformat_minor": 5
}
