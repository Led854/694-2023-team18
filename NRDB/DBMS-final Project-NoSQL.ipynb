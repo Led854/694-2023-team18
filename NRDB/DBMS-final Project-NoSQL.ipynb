{
 "cells": [
  {
   "cell_type": "markdown",
   "id": "a1839738",
   "metadata": {},
   "source": [
    "   # Procesing Tweets and Retweets Dataset and loading into MongoDB database system"
   ]
  },
  {
   "cell_type": "markdown",
   "id": "8173dc70",
   "metadata": {},
   "source": [
    "### Following constrains are used to reduce the querrying time\n"
   ]
  },
  {
   "cell_type": "markdown",
   "id": "e1d12447",
   "metadata": {},
   "source": [
    "1) Irrelevant  data fields are dropped.\n",
    " "
   ]
  },
  {
   "cell_type": "markdown",
   "id": "adb57a4f",
   "metadata": {},
   "source": [
    "2) Order of appearance of attributes is changed."
   ]
  },
  {
   "cell_type": "markdown",
   "id": "fe814553",
   "metadata": {},
   "source": [
    "3) a compound index is created on \"id_str user's sub-attribute \" id_str\" "
   ]
  },
  {
   "cell_type": "markdown",
   "id": "569a8a4e",
   "metadata": {},
   "source": [
    "### Importing reuired libraried"
   ]
  },
  {
   "cell_type": "code",
   "execution_count": 7,
   "id": "10225395",
   "metadata": {},
   "outputs": [],
   "source": [
    "import os\n",
    "import json\n",
    "import tweepy \n",
    "import pandas as pd \n",
    "import pymongo\n",
    "import time\n",
    "import datetime\n",
    "from datetime import datetime, date"
   ]
  },
  {
   "cell_type": "markdown",
   "id": "ed348ce1",
   "metadata": {},
   "source": [
    "###                                       Setting up mongoDB client connection "
   ]
  },
  {
   "cell_type": "code",
   "execution_count": 8,
   "id": "72c59c90",
   "metadata": {},
   "outputs": [],
   "source": [
    "client=pymongo.MongoClient(\"mongodb://localhost:27017\")"
   ]
  },
  {
   "cell_type": "markdown",
   "id": "050bc917",
   "metadata": {},
   "source": [
    "### Creating an empty database"
   ]
  },
  {
   "cell_type": "code",
   "execution_count": 9,
   "id": "2d4bf86b",
   "metadata": {},
   "outputs": [],
   "source": [
    "db=client[\"corona_3\"]"
   ]
  },
  {
   "cell_type": "code",
   "execution_count": 10,
   "id": "af43d35a",
   "metadata": {},
   "outputs": [],
   "source": [
    "#this function is used to parse date in YYYY-MM-DD format in created_at attribute of both, the post and the user.\n",
    "\n",
    "\n",
    "def parse_date(date_string):\n",
    "    # parse the created_at attributes to datetime formart\n",
    "    \n",
    "    date_format = \"%a %b %d %H:%M:%S %z %Y\"\n",
    "    date_object = time.strptime(date_string, date_format)\n",
    "    \n",
    "    year = date_object.tm_year\n",
    "    month = date_object.tm_mon\n",
    "    day = date_object.tm_mday\n",
    "    \n",
    "    new_date_object = datetime(year=year, month=month, day=day)\n",
    "    formatted_date = new_date_object.strftime(\"%Y-%m-%d\")\n",
    "    \n",
    "    return(formatted_date)"
   ]
  },
  {
   "cell_type": "code",
   "execution_count": 11,
   "id": "edd2b179",
   "metadata": {},
   "outputs": [
    {
     "name": "stdout",
     "output_type": "stream",
     "text": [
      "Inserting tweets in MongoDB\n",
      "tweets inserted\n",
      "complete\n"
     ]
    }
   ],
   "source": [
    "# This is used to store tweets in database\n",
    "with open('corona-out-3.json', 'r') as f:\n",
    "    print(\"Inserting tweets in MongoDB\")\n",
    "    retweeted_status_keys=[\"created_at\",\"id_str\",\"text\",\"in_reply_to_status_id_str\",\"in_reply_to_user_id_str\",\"in_reply_to_screen_name\",\"user\",\"quoted_status_id_str\",\"quote_count\",\"reply_count\",\"retweet_count\",\"favorite_count\",\"entities\",\"lang\"]\n",
    "    # Process tweets\n",
    "    for line in f:\n",
    "        if(line=='\\n'):\n",
    "            continue            \n",
    "        tweet = json.loads(line)\n",
    "        dictz = {\"user\":None,'text':None,\"entities\":None,'created_at': None, 'id_str':None,\"in_reply_to_screen_name\":None ,\"in_reply_to_user_id_str\": None,\"in_reply_to_status_id_str\": None,\"quoted_status_id_str\": None, \"quote_count\" : None,\"reply_count\" : None,\"retweet_count\": None,\"favorite_count\": None, \"lang\": None}\n",
    "        \n",
    "        \n",
    "        # Check if tweet has not been retweeted\n",
    "        if \"retweeted_status\" not in tweet:\n",
    "            # Extract information from tweet\n",
    "            for line2 in tweet:\n",
    "                if line2 in dictz:\n",
    "                    dictz[line2]=tweet[line2]\n",
    "            if \"created_at\" in tweet:\n",
    "                created_at=tweet[\"user\"]\n",
    "                dictz[\"created_at\"]=parse_date(tweet[\"created_at\"])\n",
    "            if \"user\" in tweet:\n",
    "                user=tweet[\"user\"]\n",
    "               \n",
    "                 \n",
    "                dictz[\"user\"]={\"id_str\":user[\"id_str\"],\"name\":user[\"name\"],\"screen_name\":user[\"screen_name\"],\"followers_count\":user[\"followers_count\"],\"favourites_count\":user[\"favourites_count\"],\"statuses_count\":user[\"statuses_count\"]}     \n",
    "            \n",
    "                    \n",
    "            # Insert tweet into MongoDB collection\n",
    "            db.tweets.insert_one(dictz)\n",
    "    print(\"tweets inserted\")\n",
    "    print(\"complete\")"
   ]
  },
  {
   "cell_type": "markdown",
   "id": "9d2938a4",
   "metadata": {},
   "source": [
    "### Creating an compound index on id_str and user's sub-attribute id_str of tweets collection\n"
   ]
  },
  {
   "cell_type": "code",
   "execution_count": 5,
   "id": "732dbdc7",
   "metadata": {},
   "outputs": [
    {
     "data": {
      "text/plain": [
       "'user.id_str_1_id_str_1'"
      ]
     },
     "execution_count": 5,
     "metadata": {},
     "output_type": "execute_result"
    }
   ],
   "source": [
    "db.tweets.create_index([(\"user.id_str\", 1), (\"id_str\", 1)])"
   ]
  },
  {
   "cell_type": "code",
   "execution_count": 20,
   "id": "41ea70e7",
   "metadata": {},
   "outputs": [
    {
     "name": "stdout",
     "output_type": "stream",
     "text": [
      "Inserting Retweets in MongoDB\n",
      "Retweets inserted\n",
      "complete\n"
     ]
    }
   ],
   "source": [
    "# This is used to store retweets in database\n",
    "\n",
    "with open('corona-out-2.json', 'r') as f:\n",
    "    print(\"Inserting Retweets in MongoDB\")\n",
    "    retweeted_status_keys=[\"id_str\",\"text\",\"in_reply_to_status_id_str\",\"in_reply_to_user_id_str\",\"in_reply_to_screen_name\",\"quoted_status_id_str\",\"quote_count\",\"reply_count\",\"retweet_count\",\"favorite_count\",\"entities\",\"lang\"]\n",
    "    # Process tweets\n",
    "    for line in f:\n",
    "        if(line=='\\n'):\n",
    "            continue            \n",
    "        retweet = json.loads(line)\n",
    "        dictz = {\"user\":None,'text':None,\"entities\":None,'created_at': None, 'id_str':None,\"in_reply_to_screen_name\":None ,\"in_reply_to_user_id_str\": None,\"in_reply_to_status_id_str\": None,\"quoted_status_id_str\": None, \"quote_count\" : None,\"reply_count\" : None,\"retweet_count\": None,\"favorite_count\": None, \"lang\": None}\n",
    "        \n",
    "        # Check if tweet has not been retweeted\n",
    "        if \"retweeted_status\" in retweet:\n",
    "            rts= tweet[\"retweeted_status\"]\n",
    "\n",
    "\n",
    "\n",
    "            retweeted_status={}                 \n",
    "            for key in retweeted_status_keys:\n",
    "                if key in rts: \n",
    "\n",
    "                    retweeted_status[key] = rts[key]                   \n",
    "                dictz['retweeted_status'] = retweeted_status\n",
    "            # Extract information from tweet\n",
    "            for line2 in tweet:\n",
    "                if line2 in dictz:\n",
    "                    dictz[line2]=tweet[line2]\n",
    "            if \"created_at\" in tweet:\n",
    "                created_at=tweet[\"user\"]\n",
    "                dictz[\"created_at\"]=parse_date(tweet[\"created_at\"])\n",
    "            if \"user\" in retweet:\n",
    "                user=tweet[\"user\"]           \n",
    "                dictz[\"user\"]={\"id_str\":user[\"id_str\"],\"created_at\":parse_date(user[\"created_at\"])}                  \n",
    "                    \n",
    "            \n",
    "            # Insert retweet into MongoDB collection\n",
    "            db.retweets.insert_one(dictz)\n",
    "    \n",
    "    \n",
    "    \n",
    "    print(\"Retweets inserted\")\n",
    "    print(\"complete\")"
   ]
  },
  {
   "cell_type": "markdown",
   "id": "6b1225ee",
   "metadata": {},
   "source": [
    "### Creating an compound index on id_str and user's sub-attribute id_str of retweets collection"
   ]
  },
  {
   "cell_type": "code",
   "execution_count": 6,
   "id": "c83fda66",
   "metadata": {},
   "outputs": [
    {
     "data": {
      "text/plain": [
       "'user.id_str_1_id_str_1'"
      ]
     },
     "execution_count": 6,
     "metadata": {},
     "output_type": "execute_result"
    }
   ],
   "source": [
    "db.retweets.create_index([(\"user.id_str\", 1), (\"id_str\", 1)])"
   ]
  }
 ],
 "metadata": {
  "kernelspec": {
   "display_name": "Python 3 (ipykernel)",
   "language": "python",
   "name": "python3"
  },
  "language_info": {
   "codemirror_mode": {
    "name": "ipython",
    "version": 3
   },
   "file_extension": ".py",
   "mimetype": "text/x-python",
   "name": "python",
   "nbconvert_exporter": "python",
   "pygments_lexer": "ipython3",
   "version": "3.9.13"
  }
 },
 "nbformat": 4,
 "nbformat_minor": 5
}
