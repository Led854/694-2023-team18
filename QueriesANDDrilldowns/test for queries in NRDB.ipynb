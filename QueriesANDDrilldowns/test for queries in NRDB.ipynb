{
 "cells": [
  {
   "cell_type": "markdown",
   "id": "8dbe8eea",
   "metadata": {},
   "source": [
    "# Test for queries in NRDB"
   ]
  },
  {
   "cell_type": "markdown",
   "id": "94699591-68d9-46c8-8a81-5c3fc8601597",
   "metadata": {},
   "source": [
    "## 3.2 Queries in NRDB for the search application"
   ]
  },
  {
   "cell_type": "markdown",
   "id": "5fb3442f-803b-4d57-bb78-9b3bef78b15b",
   "metadata": {},
   "source": [
    "### 3.2.1 Search by keyword"
   ]
  },
  {
   "cell_type": "code",
   "execution_count": 9,
   "id": "700a69f0-852b-4da9-a718-1eb101871b4b",
   "metadata": {},
   "outputs": [],
   "source": [
    "#Find tweets with keyword\n",
    "def search_word():\n",
    "    user_input = input(\"Please enter a keyword: \")\n",
    "    if user_input != \"\":\n",
    "        myquery = {\"$text\":{\"$search\": user_input}}\n",
    "        twts = pd.DataFrame(tweets.find(myquery)).drop(['_id','source','media'],axis=1).sort_values([\"retweet\",\n",
    "                                    \"FavCount\",\"retweet_count\"],ascending=[True,False,False]).reset_index()\n",
    "    else:\n",
    "        twts=pd.DataFrame(tweets)\n",
    "    return twts.head(10)"
   ]
  },
  {
   "cell_type": "markdown",
   "id": "bf503148",
   "metadata": {},
   "source": [
    "### 3.2.2 Search by hashtag"
   ]
  },
  {
   "cell_type": "code",
   "execution_count": null,
   "id": "7b550ac5",
   "metadata": {},
   "outputs": [],
   "source": [
    "#Find tweets with hastage\n",
    "def search_hashtag():\n",
    "    user_input = input(\"Please enter a hashtag: \")\n",
    "    if user_input !=\"\":\n",
    "        hashtage_input = \"#\"+user_input\n",
    "        myquery = {\"hashtags\": { \"$in\" : [hashtag_input]}}\n",
    "        twts = pd.DataFrame(tweets.find(myquery)).drop(['_id','source','media'],axis=1).sort_values([\"retweet\",\n",
    "                                                    \"FavCount\",\"retweet_count\"],ascending=[True,False,False]).reset_index()\n",
    "    else:\n",
    "        twts=pd.DataFrame(tweets)\n",
    "    return twts.head(10)"
   ]
  },
  {
   "cell_type": "markdown",
   "id": "86b7c498",
   "metadata": {},
   "source": [
    "### 3.2.3 Search by user"
   ]
  },
  {
   "cell_type": "code",
   "execution_count": null,
   "id": "06c31db3",
   "metadata": {},
   "outputs": [],
   "source": [
    "def search_user_name():\n",
    "    user_input = input(\"Please enter a user_name: \")\n",
    "    if user_input !=\"\":\n",
    "        twts = pd.DataFrame(tweets.find({\"user_name\":user_input})).drop(['_id','source',\n",
    "                    'media'],axis=1).sort_values([\"retweet\",\"FavCount\",\"retweet_count\"],ascending=[True,False,False]).reset_index()\n",
    "    else:\n",
    "        twts=pd.DataFrame(tweets)\n",
    "    return twts.head(10)"
   ]
  },
  {
   "cell_type": "markdown",
   "id": "09b23b61",
   "metadata": {},
   "source": [
    "### 3.2.4 Search by time range"
   ]
  },
  {
   "cell_type": "code",
   "execution_count": 12,
   "id": "fb31849b",
   "metadata": {},
   "outputs": [],
   "source": [
    "def search_date():\n",
    "    start_date = input(\"Please enter a start date(format:yyyy-mm-dd hh:mm:ss): \")\n",
    "    end_date = input(\"Please enter a end date(format:yyyy-mm-dd hh:mm:ss): \")\n",
    "    if start_date !=\"\" and end_date !=\"\":\n",
    "        twts = pd.DataFrame(tweets.find({\"created_at\":{ \"$gte\": start_date, \"$lt\": end_date }})).drop(['_id','source',\n",
    "                    'media'],axis=1).sort_values([\"retweet\",\"FavCount\",\"retweet_count\"],ascending=[True,False,False]).reset_index()\n",
    "    else:\n",
    "        twts=pd.DataFrame(tweets)\n",
    "    return twts.head(10)"
   ]
  }
 ],
 "metadata": {
  "kernelspec": {
   "display_name": "Python 3 (ipykernel)",
   "language": "python",
   "name": "python3"
  },
  "language_info": {
   "codemirror_mode": {
    "name": "ipython",
    "version": 3
   },
   "file_extension": ".py",
   "mimetype": "text/x-python",
   "name": "python",
   "nbconvert_exporter": "python",
   "pygments_lexer": "ipython3",
   "version": "3.9.13"
  }
 },
 "nbformat": 4,
 "nbformat_minor": 5
}
