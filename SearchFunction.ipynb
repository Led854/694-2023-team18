{
 "cells": [
  {
   "cell_type": "code",
   "execution_count": 1,
   "id": "3a704739-c7e4-436f-8813-fed7a2682ecc",
   "metadata": {},
   "outputs": [],
   "source": [
    "!pip install --quiet duckdb\n",
    "!pip install --quiet jupysql \n",
    "!pip install --quiet duckdb-engine\n",
    "!pip install --quiet pandas\n",
    "!pip install --quiet matplotlib"
   ]
  },
  {
   "cell_type": "code",
   "execution_count": 2,
   "id": "254bd731-6ac9-417c-afe5-0e0c458f25be",
   "metadata": {},
   "outputs": [],
   "source": [
    "import duckdb\n",
    "import pandas as pd\n",
    "# No need to import sqlalchemy or duckdb_engine\n",
    "#  JupySQL will use SQLAlchemy to auto-detect the driver needed based on your connection string!\n",
    "\n",
    "# Import jupysql Jupyter extension to create SQL cells\n",
    "%load_ext sql"
   ]
  },
  {
   "cell_type": "code",
   "execution_count": 3,
   "id": "4317f941-5d54-4d60-b6c4-7f0ef6060759",
   "metadata": {},
   "outputs": [],
   "source": [
    "%config SqlMagic.autopandas = True\n",
    "%config SqlMagic.feedback = False\n",
    "%config SqlMagic.displaycon = False"
   ]
  },
  {
   "cell_type": "code",
   "execution_count": 4,
   "id": "1185dab0-77fd-4637-8e87-dba9feef6f6b",
   "metadata": {},
   "outputs": [],
   "source": [
    "%sql duckdb:///:memory:\n",
    "# %sql duckdb:///path/to/file.db"
   ]
  },
  {
   "cell_type": "code",
   "execution_count": 5,
   "id": "03d244e2-54b2-4be7-bb15-8d46deadda98",
   "metadata": {},
   "outputs": [
    {
     "data": {
      "text/html": [
       "<div>\n",
       "<style scoped>\n",
       "    .dataframe tbody tr th:only-of-type {\n",
       "        vertical-align: middle;\n",
       "    }\n",
       "\n",
       "    .dataframe tbody tr th {\n",
       "        vertical-align: top;\n",
       "    }\n",
       "\n",
       "    .dataframe thead th {\n",
       "        text-align: right;\n",
       "    }\n",
       "</style>\n",
       "<table border=\"1\" class=\"dataframe\">\n",
       "  <thead>\n",
       "    <tr style=\"text-align: right;\">\n",
       "      <th></th>\n",
       "      <th>schema_name</th>\n",
       "      <th>function_name</th>\n",
       "    </tr>\n",
       "  </thead>\n",
       "  <tbody>\n",
       "    <tr>\n",
       "      <th>0</th>\n",
       "      <td>pg_catalog</td>\n",
       "      <td>shobj_description</td>\n",
       "    </tr>\n",
       "    <tr>\n",
       "      <th>1</th>\n",
       "      <td>pg_catalog</td>\n",
       "      <td>shobj_description</td>\n",
       "    </tr>\n",
       "    <tr>\n",
       "      <th>2</th>\n",
       "      <td>pg_catalog</td>\n",
       "      <td>shobj_description</td>\n",
       "    </tr>\n",
       "    <tr>\n",
       "      <th>3</th>\n",
       "      <td>pg_catalog</td>\n",
       "      <td>pg_typeof</td>\n",
       "    </tr>\n",
       "    <tr>\n",
       "      <th>4</th>\n",
       "      <td>pg_catalog</td>\n",
       "      <td>pg_typeof</td>\n",
       "    </tr>\n",
       "  </tbody>\n",
       "</table>\n",
       "</div>"
      ],
      "text/plain": [
       "  schema_name      function_name\n",
       "0  pg_catalog  shobj_description\n",
       "1  pg_catalog  shobj_description\n",
       "2  pg_catalog  shobj_description\n",
       "3  pg_catalog          pg_typeof\n",
       "4  pg_catalog          pg_typeof"
      ]
     },
     "execution_count": 5,
     "metadata": {},
     "output_type": "execute_result"
    }
   ],
   "source": [
    "%%sql\n",
    "SELECT\n",
    "    schema_name,\n",
    "    function_name\n",
    "FROM duckdb_functions()\n",
    "ORDER BY ALL DESC\n",
    "LIMIT 5"
   ]
  },
  {
   "cell_type": "code",
   "execution_count": 6,
   "id": "a3d0d630-7011-4da6-8adb-8307250385e0",
   "metadata": {},
   "outputs": [
    {
     "name": "stdout",
     "output_type": "stream",
     "text": [
      "(duckdb.CatalogException) Catalog Error: Table with name tweets does not exist!\n",
      "Did you mean \"information_schema.tables\"?\n",
      "LINE 2: FROM tweets \n",
      "             ^\n",
      "[SQL: SELECT * \n",
      "FROM tweets \n",
      "WHERE content LIKE '%{keyword}%']\n",
      "(Background on this error at: https://sqlalche.me/e/14/f405)\n"
     ]
    }
   ],
   "source": [
    "%%sql\n",
    "WHERE t.timestamp BETWEEN '{start_date}' AND '{end_date}'"
   ]
  },
  {
   "cell_type": "code",
   "execution_count": null,
   "id": "960c964e-42c7-4291-82aa-e13bb4e72af4",
   "metadata": {},
   "outputs": [],
   "source": [
    "def search_tweets(conn, search_type, keyword, start_date, end_date):\n",
    "    cursor = conn.cursor()\n",
    "    if search_type == \"string\":\n",
    "        query = f'''SELECT * \n",
    "                    FROM tweets \n",
    "                    WHERE content LIKE '%{keyword}%' AND timestamp BETWEEN '{start_date}' AND '{end_date}' \n",
    "                    ORDER BY timestamp DESC;'''\n",
    "    elif search_type == \"hashtag\":\n",
    "        query = f'''SELECT t.* FROM tweets t\n",
    "                    JOIN tweet_hashtags th ON t.tweet_id = th.tweet_id\n",
    "                    JOIN hashtags h ON th.hashtag_id = h.hashtag_id\n",
    "                    WHERE h.hashtag_text = '{keyword}' AND t.timestamp BETWEEN '{start_date}' AND '{end_date}'\n",
    "                    ORDER BY t.timestamp DESC;'''\n",
    "    elif search_type == \"user\":\n",
    "        query = f\"SELECT * FROM tweets WHERE user_id = {keyword} AND timestamp BETWEEN '{start_date}' AND '{end_date}' ORDER BY timestamp DESC;\"\n",
    "    cursor.execute(query)\n",
    "    return cursor.fetchall()"
   ]
  },
  {
   "cell_type": "code",
   "execution_count": null,
   "id": "3fce8e25-3dec-402c-9849-28bf91f43ce9",
   "metadata": {},
   "outputs": [],
   "source": [
    "def test_query_performance(conn,sqlstrings):\n",
    "    test_queries = sqlstrings\n",
    "    for query in test_queries:\n",
    "        start_time = time.time()\n",
    "        cursor = conn.cursor()\n",
    "        cursor.execute(query)\n",
    "        cursor.fetchall()\n",
    "        end_time = time.time()\n",
    "        print(f\"Query:{query} took {end_time - start_time:.4f} seconds\")"
   ]
  }
 ],
 "metadata": {
  "kernelspec": {
   "display_name": "Python 3 (ipykernel)",
   "language": "python",
   "name": "python3"
  },
  "language_info": {
   "codemirror_mode": {
    "name": "ipython",
    "version": 3
   },
   "file_extension": ".py",
   "mimetype": "text/x-python",
   "name": "python",
   "nbconvert_exporter": "python",
   "pygments_lexer": "ipython3",
   "version": "3.9.13"
  }
 },
 "nbformat": 4,
 "nbformat_minor": 5
}
