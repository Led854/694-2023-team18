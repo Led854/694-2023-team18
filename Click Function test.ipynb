{
 "cells": [
  {
   "cell_type": "markdown",
   "id": "0c48af43",
   "metadata": {},
   "source": [
    "# Test - click and run a certain code"
   ]
  },
  {
   "cell_type": "code",
   "execution_count": 1,
   "id": "3bb594ce",
   "metadata": {},
   "outputs": [
    {
     "name": "stdout",
     "output_type": "stream",
     "text": [
      "Requirement already satisfied: pymongo in c:\\users\\c3415\\anaconda3\\lib\\site-packages (4.3.3)\n",
      "Requirement already satisfied: dnspython<3.0.0,>=1.16.0 in c:\\users\\c3415\\anaconda3\\lib\\site-packages (from pymongo) (2.3.0)\n",
      "Note: you may need to restart the kernel to use updated packages.\n"
     ]
    }
   ],
   "source": [
    "pip install pymongo"
   ]
  },
  {
   "cell_type": "code",
   "execution_count": null,
   "id": "9ece0e50",
   "metadata": {},
   "outputs": [],
   "source": [
    "import tkinter as tk\n",
    "from pymongo import MongoClient\n",
    "\n",
    "# load the pakage\n",
    "import pymongo"
   ]
  },
  {
   "cell_type": "code",
   "execution_count": null,
   "id": "21653c69",
   "metadata": {},
   "outputs": [],
   "source": [
    "# connect to MongoDB\n",
    "client = MongoClient(\"mongodb://localhost:27017/\")\n",
    "db = client[\"tweet\"] \n",
    "retweets_collection = db[\"tweet_df\"]  \n",
    "\n",
    "# define a function to load data from MongoDB\n",
    "def load_retweets():\n",
    "    retweets = list(retweets_collection.find({}, {\"_id\": 0}))\n",
    "    return retweets\n",
    "\n",
    "def show_retweets():\n",
    "    retweets = load_retweets()\n",
    "    retweet_info = \"\"\n",
    "    for retweet in retweets:\n",
    "        retweet_info += f\"{retweet['username']} retweeted at {retweet['timestamp']}\\n\"\n",
    "    retweet_text.delete(1.0, tk.END)\n",
    "    retweet_text.insert(tk.END, retweet_info)\n",
    "\n",
    "root = tk.Tk()\n",
    "\n",
    "frame = tk.Frame(root)\n",
    "frame.pack()\n",
    "\n",
    "button = tk.Button(frame,\n",
    "                   text=\"Show Retweets\",\n",
    "                   command=show_retweets)\n",
    "button.pack(side=tk.LEFT)\n",
    "\n",
    "retweet_text = tk.Text(root, wrap=tk.WORD)\n",
    "retweet_text.pack(expand=True, fill=tk.BOTH)\n",
    "\n",
    "root.mainloop()"
   ]
  }
 ],
 "metadata": {
  "kernelspec": {
   "display_name": "Python 3 (ipykernel)",
   "language": "python",
   "name": "python3"
  },
  "language_info": {
   "codemirror_mode": {
    "name": "ipython",
    "version": 3
   },
   "file_extension": ".py",
   "mimetype": "text/x-python",
   "name": "python",
   "nbconvert_exporter": "python",
   "pygments_lexer": "ipython3",
   "version": "3.9.13"
  }
 },
 "nbformat": 4,
 "nbformat_minor": 5
}
