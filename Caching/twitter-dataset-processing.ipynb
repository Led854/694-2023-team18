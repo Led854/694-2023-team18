{
 "cells": [
  {
   "cell_type": "code",
   "execution_count": 1,
   "metadata": {},
   "outputs": [],
   "source": [
    "import json\n",
    "import os"
   ]
  },
  {
   "cell_type": "markdown",
   "metadata": {},
   "source": [
    "## Overview: check tweets data"
   ]
  },
  {
   "cell_type": "code",
   "execution_count": 2,
   "metadata": {},
   "outputs": [],
   "source": [
    "# this code block allows you to inspect 2 tweets and 2 retweets in the dataset\n",
    "# it also saves all the unique tweets/retweets in the dictionary tweets\n",
    "# this code will help you to understand the data\n",
    "# feel free to print out more fields\n",
    "\n",
    "lines=0\n",
    "num_tweets=0\n",
    "num_retweets=0\n",
    "print_tweet = 0\n",
    "print_retweet = 0\n",
    "tweets = {}"
   ]
  },
  {
   "cell_type": "code",
   "execution_count": 3,
   "metadata": {
    "tags": []
   },
   "outputs": [
    {
     "name": "stdout",
     "output_type": "stream",
     "text": [
      "RETWEET\n",
      " id-- 1249403767180668930 text-- RT @nuffsaidny: wishing death on people is weirdo behavior. \n",
      "\n",
      "User--  {'id': 1242817830946508801, 'id_str': '1242817830946508801', 'name': 'juwelz v', 'screen_name': 'juwelz_v', 'location': 'Lower East Side, Manhattan', 'url': 'https://linktr.ee/juwelzv', 'description': 'Event Lyfe LLC .. Brand Ambassador: #visionarysociety Music Manager: @ssizzzlee & @tmoneybeatsbang Production🎥📸 #BringNyCultureBack 🌊🌊🌊 !!', 'translator_type': 'none', 'protected': False, 'verified': False, 'followers_count': 43, 'friends_count': 118, 'listed_count': 0, 'favourites_count': 722, 'statuses_count': 906, 'created_at': 'Wed Mar 25 14:17:28 +0000 2020', 'utc_offset': None, 'time_zone': None, 'geo_enabled': False, 'lang': None, 'contributors_enabled': False, 'is_translator': False, 'profile_background_color': 'F5F8FA', 'profile_background_image_url': '', 'profile_background_image_url_https': '', 'profile_background_tile': False, 'profile_link_color': '1DA1F2', 'profile_sidebar_border_color': 'C0DEED', 'profile_sidebar_fill_color': 'DDEEF6', 'profile_text_color': '333333', 'profile_use_background_image': True, 'profile_image_url': 'http://pbs.twimg.com/profile_images/1246253579805089797/Ks1MrEDW_normal.jpg', 'profile_image_url_https': 'https://pbs.twimg.com/profile_images/1246253579805089797/Ks1MrEDW_normal.jpg', 'profile_banner_url': 'https://pbs.twimg.com/profile_banners/1242817830946508801/1585146985', 'default_profile': True, 'default_profile_image': False, 'following': None, 'follow_request_sent': None, 'notifications': None} \n",
      "\n",
      "retweetstatus-- {'created_at': 'Sun Apr 12 16:48:01 +0000 2020', 'id': 1249378751349231616, 'id_str': '1249378751349231616', 'text': 'wishing death on people is weirdo behavior.', 'source': '<a href=\"http://twitter.com/download/iphone\" rel=\"nofollow\">Twitter for iPhone</a>', 'truncated': False, 'in_reply_to_status_id': None, 'in_reply_to_status_id_str': None, 'in_reply_to_user_id': None, 'in_reply_to_user_id_str': None, 'in_reply_to_screen_name': None, 'user': {'id': 16144221, 'id_str': '16144221', 'name': 'NUFF', 'screen_name': 'nuffsaidny', 'location': None, 'url': None, 'description': 'instagram: @nuffsaidny 🇹🇹', 'translator_type': 'regular', 'protected': False, 'verified': False, 'followers_count': 17112, 'friends_count': 1515, 'listed_count': 874, 'favourites_count': 15790, 'statuses_count': 2599, 'created_at': 'Fri Sep 05 14:28:41 +0000 2008', 'utc_offset': None, 'time_zone': None, 'geo_enabled': True, 'lang': None, 'contributors_enabled': False, 'is_translator': False, 'profile_background_color': 'C0DEED', 'profile_background_image_url': 'http://abs.twimg.com/images/themes/theme1/bg.png', 'profile_background_image_url_https': 'https://abs.twimg.com/images/themes/theme1/bg.png', 'profile_background_tile': True, 'profile_link_color': 'E81C4F', 'profile_sidebar_border_color': '000000', 'profile_sidebar_fill_color': '000000', 'profile_text_color': '000000', 'profile_use_background_image': True, 'profile_image_url': 'http://pbs.twimg.com/profile_images/1240511913152282624/I024wGWG_normal.jpg', 'profile_image_url_https': 'https://pbs.twimg.com/profile_images/1240511913152282624/I024wGWG_normal.jpg', 'default_profile': False, 'default_profile_image': False, 'following': None, 'follow_request_sent': None, 'notifications': None}, 'geo': None, 'coordinates': None, 'place': None, 'contributors': None, 'quoted_status_id': 1249315454797168641, 'quoted_status_id_str': '1249315454797168641', 'quoted_status': {'created_at': 'Sun Apr 12 12:36:30 +0000 2020', 'id': 1249315454797168641, 'id_str': '1249315454797168641', 'text': 'I pray my haters die of corona virus 😷', 'source': '<a href=\"http://twitter.com/download/iphone\" rel=\"nofollow\">Twitter for iPhone</a>', 'truncated': False, 'in_reply_to_status_id': None, 'in_reply_to_status_id_str': None, 'in_reply_to_user_id': None, 'in_reply_to_user_id_str': None, 'in_reply_to_screen_name': None, 'user': {'id': 46769281, 'id_str': '46769281', 'name': 'Gucci Mane', 'screen_name': 'gucci1017', 'location': 'EAST ATLANTA', 'url': 'https://guccimane.lnk.to/Woptober2', 'description': 'Major Label Recording Artist, signed to Atlantic Records. | wizopbooking@gmail.com', 'translator_type': 'none', 'protected': False, 'verified': True, 'followers_count': 8483937, 'friends_count': 1, 'listed_count': 10366, 'favourites_count': 11016, 'statuses_count': 21123, 'created_at': 'Fri Jun 12 22:52:05 +0000 2009', 'utc_offset': None, 'time_zone': None, 'geo_enabled': False, 'lang': None, 'contributors_enabled': False, 'is_translator': False, 'profile_background_color': '000000', 'profile_background_image_url': 'http://abs.twimg.com/images/themes/theme14/bg.gif', 'profile_background_image_url_https': 'https://abs.twimg.com/images/themes/theme14/bg.gif', 'profile_background_tile': False, 'profile_link_color': '009999', 'profile_sidebar_border_color': 'FFFFFF', 'profile_sidebar_fill_color': 'EFEFEF', 'profile_text_color': '333333', 'profile_use_background_image': True, 'profile_image_url': 'http://pbs.twimg.com/profile_images/1236396637284700161/cq6xECoN_normal.jpg', 'profile_image_url_https': 'https://pbs.twimg.com/profile_images/1236396637284700161/cq6xECoN_normal.jpg', 'profile_banner_url': 'https://pbs.twimg.com/profile_banners/46769281/1583614905', 'default_profile': False, 'default_profile_image': False, 'following': None, 'follow_request_sent': None, 'notifications': None}, 'geo': None, 'coordinates': None, 'place': None, 'contributors': None, 'is_quote_status': False, 'quote_count': 3376, 'reply_count': 1956, 'retweet_count': 9246, 'favorite_count': 33006, 'entities': {'hashtags': [], 'urls': [], 'user_mentions': [], 'symbols': []}, 'favorited': False, 'retweeted': False, 'filter_level': 'low', 'lang': 'en'}, 'quoted_status_permalink': {'url': 'https://t.co/FdZ3Hxzfwl', 'expanded': 'https://twitter.com/gucci1017/status/1249315454797168641', 'display': 'twitter.com/gucci1017/stat…'}, 'is_quote_status': True, 'quote_count': 1, 'reply_count': 1, 'retweet_count': 24, 'favorite_count': 50, 'entities': {'hashtags': [], 'urls': [], 'user_mentions': [], 'symbols': []}, 'favorited': False, 'retweeted': False, 'filter_level': 'low', 'lang': 'en'} \n",
      "\n",
      "RETWEET\n",
      " id-- 1249403768023678982 text-- RT @lale_karanfil: In Turkey, there are 300 thousand prisoners and 150 thousand prison employees in prisons. \n",
      "Prisons are the most risky pl… \n",
      "\n",
      "User--  {'id': 1225145123920588805, 'id_str': '1225145123920588805', 'name': 'efe09', 'screen_name': 'efe0927183508', 'location': None, 'url': None, 'description': \"Allah'ın en değerli eseri insandır.\\nCanı yanan sabretsin.\\nCan yakan, canının yanacağı günü beklesin..\\n677 khk\\nRT düşüncem olduğu anlamına gelmez bilgi amaçlıdır\", 'translator_type': 'none', 'protected': False, 'verified': False, 'followers_count': 653, 'friends_count': 983, 'listed_count': 0, 'favourites_count': 1255, 'statuses_count': 4177, 'created_at': 'Wed Feb 05 19:52:38 +0000 2020', 'utc_offset': None, 'time_zone': None, 'geo_enabled': False, 'lang': None, 'contributors_enabled': False, 'is_translator': False, 'profile_background_color': 'F5F8FA', 'profile_background_image_url': '', 'profile_background_image_url_https': '', 'profile_background_tile': False, 'profile_link_color': '1DA1F2', 'profile_sidebar_border_color': 'C0DEED', 'profile_sidebar_fill_color': 'DDEEF6', 'profile_text_color': '333333', 'profile_use_background_image': True, 'profile_image_url': 'http://pbs.twimg.com/profile_images/1243137514665361409/95Mv0oRS_normal.jpg', 'profile_image_url_https': 'https://pbs.twimg.com/profile_images/1243137514665361409/95Mv0oRS_normal.jpg', 'profile_banner_url': 'https://pbs.twimg.com/profile_banners/1225145123920588805/1585222614', 'default_profile': True, 'default_profile_image': False, 'following': None, 'follow_request_sent': None, 'notifications': None} \n",
      "\n",
      "retweetstatus-- {'created_at': 'Sun Apr 12 18:02:41 +0000 2020', 'id': 1249397541596286979, 'id_str': '1249397541596286979', 'text': 'In Turkey, there are 300 thousand prisoners and 150 thousand prison employees in prisons. \\nPrisons are the most ris… https://t.co/GogsgfUxkE', 'source': '<a href=\"http://twitter.com/download/android\" rel=\"nofollow\">Twitter for Android</a>', 'truncated': True, 'in_reply_to_status_id': None, 'in_reply_to_status_id_str': None, 'in_reply_to_user_id': None, 'in_reply_to_user_id_str': None, 'in_reply_to_screen_name': None, 'user': {'id': 1087735689091928064, 'id_str': '1087735689091928064', 'name': 'Karanfil Lale', 'screen_name': 'lale_karanfil', 'location': None, 'url': None, 'description': None, 'translator_type': 'none', 'protected': False, 'verified': False, 'followers_count': 897, 'friends_count': 1120, 'listed_count': 1, 'favourites_count': 2776, 'statuses_count': 7986, 'created_at': 'Tue Jan 22 15:36:12 +0000 2019', 'utc_offset': None, 'time_zone': None, 'geo_enabled': False, 'lang': None, 'contributors_enabled': False, 'is_translator': False, 'profile_background_color': 'F5F8FA', 'profile_background_image_url': '', 'profile_background_image_url_https': '', 'profile_background_tile': False, 'profile_link_color': '1DA1F2', 'profile_sidebar_border_color': 'C0DEED', 'profile_sidebar_fill_color': 'DDEEF6', 'profile_text_color': '333333', 'profile_use_background_image': True, 'profile_image_url': 'http://pbs.twimg.com/profile_images/1248313542387757057/see_F0uX_normal.jpg', 'profile_image_url_https': 'https://pbs.twimg.com/profile_images/1248313542387757057/see_F0uX_normal.jpg', 'profile_banner_url': 'https://pbs.twimg.com/profile_banners/1087735689091928064/1571123765', 'default_profile': True, 'default_profile_image': False, 'following': None, 'follow_request_sent': None, 'notifications': None}, 'geo': None, 'coordinates': None, 'place': None, 'contributors': None, 'is_quote_status': False, 'extended_tweet': {'full_text': 'In Turkey, there are 300 thousand prisoners and 150 thousand prison employees in prisons. \\nPrisons are the most risky places in case of corona virus.\\nThe lives of thousands of people are at risk.\\n\\n#COVID19InTurkeysPrisons\\n\\n@SusannaCeccardi', 'display_text_range': [0, 239], 'entities': {'hashtags': [{'text': 'COVID19InTurkeysPrisons', 'indices': [197, 221]}], 'urls': [], 'user_mentions': [{'screen_name': 'SusannaCeccardi', 'name': 'Susanna Ceccardi', 'id': 406110645, 'id_str': '406110645', 'indices': [223, 239]}], 'symbols': []}}, 'quote_count': 0, 'reply_count': 1, 'retweet_count': 14, 'favorite_count': 6, 'entities': {'hashtags': [], 'urls': [{'url': 'https://t.co/GogsgfUxkE', 'expanded_url': 'https://twitter.com/i/web/status/1249397541596286979', 'display_url': 'twitter.com/i/web/status/1…', 'indices': [117, 140]}], 'user_mentions': [], 'symbols': []}, 'favorited': False, 'retweeted': False, 'filter_level': 'low', 'lang': 'en'} \n",
      "\n",
      "TWEET\n",
      " id-- 1249403770360016896 text-- SERÁ APENAS COINCIDÊNCIA?\n",
      "\n",
      "Após escudo do Remo aparecer em prédio, Prefeitura divulgou que 33 pessoas com corona se… https://t.co/lCcwYH2eg5 \n",
      "\n",
      "User--  {'id': 988174833849634816, 'id_str': '988174833849634816', 'name': 'TV Conservador / Metró', 'screen_name': 'TVConservador', 'location': 'Belém, Brasil', 'url': None, 'description': 'Emissora afiliada a Rede Metrópole (@cnt_pr) no estado do Pará. As notícias aqui dadas são FICTÍCIAS, não pegue corda ok 👍\\n\\n© Sistema O Conservador Ltda.', 'translator_type': 'none', 'protected': False, 'verified': False, 'followers_count': 7240, 'friends_count': 566, 'listed_count': 17, 'favourites_count': 18417, 'statuses_count': 22665, 'created_at': 'Sun Apr 22 21:56:54 +0000 2018', 'utc_offset': None, 'time_zone': None, 'geo_enabled': False, 'lang': None, 'contributors_enabled': False, 'is_translator': False, 'profile_background_color': '000000', 'profile_background_image_url': 'http://abs.twimg.com/images/themes/theme1/bg.png', 'profile_background_image_url_https': 'https://abs.twimg.com/images/themes/theme1/bg.png', 'profile_background_tile': False, 'profile_link_color': '1B95E0', 'profile_sidebar_border_color': '000000', 'profile_sidebar_fill_color': '000000', 'profile_text_color': '000000', 'profile_use_background_image': False, 'profile_image_url': 'http://pbs.twimg.com/profile_images/1245501760518701057/zUWjkVz__normal.jpg', 'profile_image_url_https': 'https://pbs.twimg.com/profile_images/1245501760518701057/zUWjkVz__normal.jpg', 'profile_banner_url': 'https://pbs.twimg.com/profile_banners/988174833849634816/1585783589', 'default_profile': False, 'default_profile_image': False, 'following': None, 'follow_request_sent': None, 'notifications': None} \n",
      "\n",
      "TWEET\n",
      " id-- 1249403771261722624 text-- #Bo der Osterhase hat nicht Corona, er ist gekommen. \n",
      "\n",
      "User--  {'id': 1171484224244744198, 'id_str': '1171484224244744198', 'name': 'Elfpunkt', 'screen_name': 'meElfpunkt', 'location': None, 'url': None, 'description': 'Mal 1 mal 0 mal Tilt', 'translator_type': 'none', 'protected': False, 'verified': False, 'followers_count': 3, 'friends_count': 53, 'listed_count': 0, 'favourites_count': 72, 'statuses_count': 60, 'created_at': 'Tue Sep 10 18:03:17 +0000 2019', 'utc_offset': None, 'time_zone': None, 'geo_enabled': False, 'lang': None, 'contributors_enabled': False, 'is_translator': False, 'profile_background_color': 'F5F8FA', 'profile_background_image_url': '', 'profile_background_image_url_https': '', 'profile_background_tile': False, 'profile_link_color': '1DA1F2', 'profile_sidebar_border_color': 'C0DEED', 'profile_sidebar_fill_color': 'DDEEF6', 'profile_text_color': '333333', 'profile_use_background_image': True, 'profile_image_url': 'http://abs.twimg.com/sticky/default_profile_images/default_profile_normal.png', 'profile_image_url_https': 'https://abs.twimg.com/sticky/default_profile_images/default_profile_normal.png', 'default_profile': True, 'default_profile_image': False, 'following': None, 'follow_request_sent': None, 'notifications': None} \n",
      "\n",
      "num of lines= 18518 num of tweets= 7356 num of retweets= 11162\n",
      "num of unique tweets/retweets= 18506\n"
     ]
    }
   ],
   "source": [
    "with open(\"./data/corona-out-2\", \"r\") as f1:\n",
    "    for line in f1:\n",
    "        try:\n",
    "            data = json.loads(line)\n",
    "            # one line is one tweet or retweet recording\n",
    "            lines = lines + 1\n",
    "\n",
    "            if ( data['text'].startswith('RT') ):\n",
    "                num_retweets += 1\n",
    "                #print out some fields of one retweet \n",
    "                #note that you should look at other fields too\n",
    "                if (print_retweet < 2):\n",
    "                    print_retweet += 1\n",
    "                    print('RETWEET\\n','id--',data['id'],'text--',data['text'],'\\n')\n",
    "                    \n",
    "                    print('User-- ',data['user'],'\\n')\n",
    "                  \n",
    "                    print('retweetstatus--',data['retweeted_status'],'\\n')\n",
    "\n",
    "            else:\n",
    "                num_tweets += 1\n",
    "                #print out some fields of one tweet \n",
    "                #note that you should look at other fields too\n",
    "                if (print_tweet < 2):\n",
    "                    print_tweet += 1\n",
    "                    print('TWEET\\n','id--',data['id'],'text--',data['text'],'\\n')\n",
    "                    print('User-- ',data['user'],'\\n')\n",
    "                    \n",
    "\n",
    "\n",
    "            if (data['id_str'] not in tweets):\n",
    "                tweets[data['id_str']] = data\n",
    "            \n",
    "        except:\n",
    "            # if there is an error loading the json of the tweet, skip\n",
    "            continue\n",
    "            \n",
    "print('num of lines=',lines, 'num of tweets=',num_tweets, 'num of retweets=',num_retweets)\n",
    "print('num of unique tweets/retweets=',len(tweets.keys()))"
   ]
  },
  {
   "cell_type": "markdown",
   "metadata": {},
   "source": [
    "## Check the attributes structure of tweets and retweets\n",
    "decide the attributes that need to be retrieved and cached.\n",
    "\n",
    "-  attributes structure \n",
    "    - \\# of fundamental attributes: 28\n",
    "    - optional attributes\n",
    "        - retweets can be distinguished from typical Tweets by the existence of a `retweeted_status` attribute.\n",
    "        - `display_text_range` & **`extended_tweet`** when `truncated` is True\n",
    "        - `quoted_status_id` & `quoted_status_id_str` when the Tweet is a quote Tweet\n",
    "    - child objects: `user`, `entities`"
   ]
  },
  {
   "cell_type": "code",
   "execution_count": 3,
   "metadata": {},
   "outputs": [],
   "source": [
    "# check the child attributes\n",
    "\n",
    "def find_child_attr(nested_dict, prefix=''):\n",
    "    # function to list several child objects keys\n",
    "    keys = []\n",
    "    for key, value in nested_dict.items():\n",
    "        if isinstance(value, dict):\n",
    "            nested_keys = find_nested_dict_keys(value, f\"{prefix}{key}.\")\n",
    "            keys.extend(nested_keys)\n",
    "            keys.append(f\"{prefix}{key}\")\n",
    "    return keys"
   ]
  },
  {
   "cell_type": "markdown",
   "metadata": {},
   "source": [
    "### tweet"
   ]
  },
  {
   "cell_type": "code",
   "execution_count": 5,
   "metadata": {},
   "outputs": [],
   "source": [
    "with open(\"./data/corona-out-2\", \"r\") as f1:\n",
    "    # get an original tweet data\n",
    "    for line in f1:\n",
    "        try:\n",
    "            tweet_data = json.loads(line)\n",
    "            \n",
    "            if not (tweet_data['text'].startswith('RT')):\n",
    "                # print(tweet_data)\n",
    "                break\n",
    "        except:\n",
    "            continue"
   ]
  },
  {
   "cell_type": "code",
   "execution_count": 6,
   "metadata": {},
   "outputs": [
    {
     "data": {
      "text/plain": [
       "30"
      ]
     },
     "execution_count": 6,
     "metadata": {},
     "output_type": "execute_result"
    }
   ],
   "source": [
    "len(tweet_data) # has an extra 'display_text_range' and 'extended_tweet' field when 'truncated' is True."
   ]
  },
  {
   "cell_type": "code",
   "execution_count": 7,
   "metadata": {},
   "outputs": [
    {
     "name": "stdout",
     "output_type": "stream",
     "text": [
      "Keys in the dictionary:\n",
      "- created_at\n",
      "- id\n",
      "- id_str\n",
      "- text\n",
      "- display_text_range\n",
      "- source\n",
      "- truncated\n",
      "- in_reply_to_status_id\n",
      "- in_reply_to_status_id_str\n",
      "- in_reply_to_user_id\n",
      "- in_reply_to_user_id_str\n",
      "- in_reply_to_screen_name\n",
      "- user\n",
      "- geo\n",
      "- coordinates\n",
      "- place\n",
      "- contributors\n",
      "- is_quote_status\n",
      "- extended_tweet\n",
      "- quote_count\n",
      "- reply_count\n",
      "- retweet_count\n",
      "- favorite_count\n",
      "- entities\n",
      "- favorited\n",
      "- retweeted\n",
      "- possibly_sensitive\n",
      "- filter_level\n",
      "- lang\n",
      "- timestamp_ms\n"
     ]
    }
   ],
   "source": [
    "tw_keys_str = \"\\n- \".join(tweet_data.keys())\n",
    "print(\"Keys in the dictionary:\\n- \" + tw_keys_str)"
   ]
  },
  {
   "cell_type": "code",
   "execution_count": 8,
   "metadata": {},
   "outputs": [
    {
     "data": {
      "text/plain": [
       "['user',\n",
       " 'extended_tweet.entities',\n",
       " 'extended_tweet.extended_entities',\n",
       " 'extended_tweet',\n",
       " 'entities']"
      ]
     },
     "execution_count": 8,
     "metadata": {},
     "output_type": "execute_result"
    }
   ],
   "source": [
    "find_child_attr(tweet_data)"
   ]
  },
  {
   "cell_type": "markdown",
   "metadata": {},
   "source": [
    "#### user"
   ]
  },
  {
   "cell_type": "code",
   "execution_count": 9,
   "metadata": {},
   "outputs": [
    {
     "data": {
      "text/plain": [
       "39"
      ]
     },
     "execution_count": 9,
     "metadata": {},
     "output_type": "execute_result"
    }
   ],
   "source": [
    "len(tweet_data['user']) # 39"
   ]
  },
  {
   "cell_type": "code",
   "execution_count": 10,
   "metadata": {},
   "outputs": [
    {
     "data": {
      "text/plain": [
       "{'id': 988174833849634816,\n",
       " 'id_str': '988174833849634816',\n",
       " 'name': 'TV Conservador / Metró',\n",
       " 'screen_name': 'TVConservador',\n",
       " 'location': 'Belém, Brasil',\n",
       " 'url': None,\n",
       " 'description': 'Emissora afiliada a Rede Metrópole (@cnt_pr) no estado do Pará. As notícias aqui dadas são FICTÍCIAS, não pegue corda ok 👍\\n\\n© Sistema O Conservador Ltda.',\n",
       " 'translator_type': 'none',\n",
       " 'protected': False,\n",
       " 'verified': False,\n",
       " 'followers_count': 7240,\n",
       " 'friends_count': 566,\n",
       " 'listed_count': 17,\n",
       " 'favourites_count': 18417,\n",
       " 'statuses_count': 22665,\n",
       " 'created_at': 'Sun Apr 22 21:56:54 +0000 2018',\n",
       " 'utc_offset': None,\n",
       " 'time_zone': None,\n",
       " 'geo_enabled': False,\n",
       " 'lang': None,\n",
       " 'contributors_enabled': False,\n",
       " 'is_translator': False,\n",
       " 'profile_background_color': '000000',\n",
       " 'profile_background_image_url': 'http://abs.twimg.com/images/themes/theme1/bg.png',\n",
       " 'profile_background_image_url_https': 'https://abs.twimg.com/images/themes/theme1/bg.png',\n",
       " 'profile_background_tile': False,\n",
       " 'profile_link_color': '1B95E0',\n",
       " 'profile_sidebar_border_color': '000000',\n",
       " 'profile_sidebar_fill_color': '000000',\n",
       " 'profile_text_color': '000000',\n",
       " 'profile_use_background_image': False,\n",
       " 'profile_image_url': 'http://pbs.twimg.com/profile_images/1245501760518701057/zUWjkVz__normal.jpg',\n",
       " 'profile_image_url_https': 'https://pbs.twimg.com/profile_images/1245501760518701057/zUWjkVz__normal.jpg',\n",
       " 'profile_banner_url': 'https://pbs.twimg.com/profile_banners/988174833849634816/1585783589',\n",
       " 'default_profile': False,\n",
       " 'default_profile_image': False,\n",
       " 'following': None,\n",
       " 'follow_request_sent': None,\n",
       " 'notifications': None}"
      ]
     },
     "execution_count": 10,
     "metadata": {},
     "output_type": "execute_result"
    }
   ],
   "source": [
    "tweet_data['user']"
   ]
  },
  {
   "cell_type": "markdown",
   "metadata": {},
   "source": [
    "#### entities"
   ]
  },
  {
   "cell_type": "code",
   "execution_count": 11,
   "metadata": {},
   "outputs": [
    {
     "data": {
      "text/plain": [
       "4"
      ]
     },
     "execution_count": 11,
     "metadata": {},
     "output_type": "execute_result"
    }
   ],
   "source": [
    "len(tweet_data['entities']) # 4"
   ]
  },
  {
   "cell_type": "code",
   "execution_count": 12,
   "metadata": {},
   "outputs": [
    {
     "data": {
      "text/plain": [
       "{'hashtags': [],\n",
       " 'urls': [{'url': 'https://t.co/lCcwYH2eg5',\n",
       "   'expanded_url': 'https://twitter.com/i/web/status/1249403770360016896',\n",
       "   'display_url': 'twitter.com/i/web/status/1…',\n",
       "   'indices': [117, 140]}],\n",
       " 'user_mentions': [],\n",
       " 'symbols': []}"
      ]
     },
     "execution_count": 12,
     "metadata": {},
     "output_type": "execute_result"
    }
   ],
   "source": [
    "tweet_data['entities']"
   ]
  },
  {
   "cell_type": "markdown",
   "metadata": {},
   "source": [
    "#### extended tweet"
   ]
  },
  {
   "cell_type": "code",
   "execution_count": 13,
   "metadata": {},
   "outputs": [
    {
     "name": "stdout",
     "output_type": "stream",
     "text": [
      "Keys in the dictionary:\n",
      "- full_text\n",
      "- display_text_range\n",
      "- entities\n",
      "- extended_entities\n"
     ]
    }
   ],
   "source": [
    "len(tweet_data['extended_tweet']) # 4\n",
    "\n",
    "tw_extd_keys_str = \"\\n- \".join(tweet_data['extended_tweet'].keys())\n",
    "print(\"Keys in the dictionary:\\n- \" + tw_extd_keys_str)"
   ]
  },
  {
   "cell_type": "code",
   "execution_count": 14,
   "metadata": {},
   "outputs": [
    {
     "data": {
      "text/plain": [
       "{'full_text': 'SERÁ APENAS COINCIDÊNCIA?\\n\\nApós escudo do Remo aparecer em prédio, Prefeitura divulgou que 33 pessoas com corona se recuperaram. Sim, 33! https://t.co/Q4HNeOJpn6',\n",
       " 'display_text_range': [0, 137],\n",
       " 'entities': {'hashtags': [],\n",
       "  'urls': [],\n",
       "  'user_mentions': [],\n",
       "  'symbols': [],\n",
       "  'media': [{'id': 1249403767126196226,\n",
       "    'id_str': '1249403767126196226',\n",
       "    'indices': [138, 161],\n",
       "    'media_url': 'http://pbs.twimg.com/media/EVbGG0iXgAI2FAm.jpg',\n",
       "    'media_url_https': 'https://pbs.twimg.com/media/EVbGG0iXgAI2FAm.jpg',\n",
       "    'url': 'https://t.co/Q4HNeOJpn6',\n",
       "    'display_url': 'pic.twitter.com/Q4HNeOJpn6',\n",
       "    'expanded_url': 'https://twitter.com/TVConservador/status/1249403770360016896/photo/1',\n",
       "    'type': 'photo',\n",
       "    'sizes': {'large': {'w': 498, 'h': 452, 'resize': 'fit'},\n",
       "     'thumb': {'w': 150, 'h': 150, 'resize': 'crop'},\n",
       "     'small': {'w': 498, 'h': 452, 'resize': 'fit'},\n",
       "     'medium': {'w': 498, 'h': 452, 'resize': 'fit'}}}]},\n",
       " 'extended_entities': {'media': [{'id': 1249403767126196226,\n",
       "    'id_str': '1249403767126196226',\n",
       "    'indices': [138, 161],\n",
       "    'media_url': 'http://pbs.twimg.com/media/EVbGG0iXgAI2FAm.jpg',\n",
       "    'media_url_https': 'https://pbs.twimg.com/media/EVbGG0iXgAI2FAm.jpg',\n",
       "    'url': 'https://t.co/Q4HNeOJpn6',\n",
       "    'display_url': 'pic.twitter.com/Q4HNeOJpn6',\n",
       "    'expanded_url': 'https://twitter.com/TVConservador/status/1249403770360016896/photo/1',\n",
       "    'type': 'photo',\n",
       "    'sizes': {'large': {'w': 498, 'h': 452, 'resize': 'fit'},\n",
       "     'thumb': {'w': 150, 'h': 150, 'resize': 'crop'},\n",
       "     'small': {'w': 498, 'h': 452, 'resize': 'fit'},\n",
       "     'medium': {'w': 498, 'h': 452, 'resize': 'fit'}}}]}}"
      ]
     },
     "execution_count": 14,
     "metadata": {},
     "output_type": "execute_result"
    }
   ],
   "source": [
    "tweet_data['extended_tweet']"
   ]
  },
  {
   "cell_type": "markdown",
   "metadata": {},
   "source": [
    "### retweet"
   ]
  },
  {
   "cell_type": "code",
   "execution_count": 15,
   "metadata": {
    "tags": []
   },
   "outputs": [
    {
     "name": "stdout",
     "output_type": "stream",
     "text": [
      "Keys in the dictionary:\n",
      "- created_at\n",
      "- id\n",
      "- id_str\n",
      "- text\n",
      "- source\n",
      "- truncated\n",
      "- in_reply_to_status_id\n",
      "- in_reply_to_status_id_str\n",
      "- in_reply_to_user_id\n",
      "- in_reply_to_user_id_str\n",
      "- in_reply_to_screen_name\n",
      "- user\n",
      "- geo\n",
      "- coordinates\n",
      "- place\n",
      "- contributors\n",
      "- retweeted_status\n",
      "- is_quote_status\n",
      "- quote_count\n",
      "- reply_count\n",
      "- retweet_count\n",
      "- favorite_count\n",
      "- entities\n",
      "- favorited\n",
      "- retweeted\n",
      "- possibly_sensitive\n",
      "- filter_level\n",
      "- lang\n",
      "- timestamp_ms\n"
     ]
    }
   ],
   "source": [
    "# the last data item is a retweet\n",
    "\n",
    "len(data) # check the num of keys in data: 29\n",
    "\n",
    "keys_str = \"\\n- \".join(data.keys())\n",
    "print(\"Keys in the dictionary:\\n- \" + keys_str)"
   ]
  },
  {
   "cell_type": "code",
   "execution_count": 16,
   "metadata": {},
   "outputs": [
    {
     "data": {
      "text/plain": [
       "['user',\n",
       " 'retweeted_status.user',\n",
       " 'retweeted_status.entities',\n",
       " 'retweeted_status',\n",
       " 'entities']"
      ]
     },
     "execution_count": 16,
     "metadata": {},
     "output_type": "execute_result"
    }
   ],
   "source": [
    "find_child_attr(data)\n",
    "# so we found that each tweets may contain two child attributes: `user`, `entities`\n",
    "# (suppose that retweets are tweets too)"
   ]
  },
  {
   "cell_type": "markdown",
   "metadata": {},
   "source": [
    "#### user"
   ]
  },
  {
   "cell_type": "code",
   "execution_count": 17,
   "metadata": {},
   "outputs": [
    {
     "name": "stdout",
     "output_type": "stream",
     "text": [
      "Keys in the dictionary:\n",
      "- id\n",
      "- id_str\n",
      "- name\n",
      "- screen_name\n",
      "- location\n",
      "- url\n",
      "- description\n",
      "- translator_type\n",
      "- protected\n",
      "- verified\n",
      "- followers_count\n",
      "- friends_count\n",
      "- listed_count\n",
      "- favourites_count\n",
      "- statuses_count\n",
      "- created_at\n",
      "- utc_offset\n",
      "- time_zone\n",
      "- geo_enabled\n",
      "- lang\n",
      "- contributors_enabled\n",
      "- is_translator\n",
      "- profile_background_color\n",
      "- profile_background_image_url\n",
      "- profile_background_image_url_https\n",
      "- profile_background_tile\n",
      "- profile_link_color\n",
      "- profile_sidebar_border_color\n",
      "- profile_sidebar_fill_color\n",
      "- profile_text_color\n",
      "- profile_use_background_image\n",
      "- profile_image_url\n",
      "- profile_image_url_https\n",
      "- profile_banner_url\n",
      "- default_profile\n",
      "- default_profile_image\n",
      "- following\n",
      "- follow_request_sent\n",
      "- notifications\n"
     ]
    }
   ],
   "source": [
    "len(data['user']) # 39\n",
    "\n",
    "# keys in data.user\n",
    "keys_str = \"\\n- \".join(data['user'].keys())\n",
    "print(\"Keys in the dictionary:\\n- \" + keys_str)"
   ]
  },
  {
   "cell_type": "markdown",
   "metadata": {},
   "source": [
    "#### entities"
   ]
  },
  {
   "cell_type": "code",
   "execution_count": 18,
   "metadata": {},
   "outputs": [
    {
     "name": "stdout",
     "output_type": "stream",
     "text": [
      "Keys in the dictionary:\n",
      "- hashtags\n",
      "- urls\n",
      "- user_mentions\n",
      "- symbols\n"
     ]
    }
   ],
   "source": [
    "# keys in data.entities\n",
    "keys_str = \"\\n- \".join(data['entities'].keys())\n",
    "print(\"Keys in the dictionary:\\n- \" + keys_str)"
   ]
  },
  {
   "cell_type": "markdown",
   "metadata": {},
   "source": [
    "#### retweet_status"
   ]
  },
  {
   "cell_type": "code",
   "execution_count": 19,
   "metadata": {},
   "outputs": [
    {
     "name": "stdout",
     "output_type": "stream",
     "text": [
      "Keys in the dictionary:\n",
      "- created_at\n",
      "- id\n",
      "- id_str\n",
      "- text\n",
      "- source\n",
      "- truncated\n",
      "- in_reply_to_status_id\n",
      "- in_reply_to_status_id_str\n",
      "- in_reply_to_user_id\n",
      "- in_reply_to_user_id_str\n",
      "- in_reply_to_screen_name\n",
      "- user\n",
      "- geo\n",
      "- coordinates\n",
      "- place\n",
      "- contributors\n",
      "- is_quote_status\n",
      "- quote_count\n",
      "- reply_count\n",
      "- retweet_count\n",
      "- favorite_count\n",
      "- entities\n",
      "- favorited\n",
      "- retweeted\n",
      "- possibly_sensitive\n",
      "- filter_level\n",
      "- lang\n"
     ]
    }
   ],
   "source": [
    "len(data['retweeted_status']) # 27\n",
    "\n",
    "# keys in data.retweeted_status\n",
    "keys_str = \"\\n- \".join(data['retweeted_status'].keys())\n",
    "print(\"Keys in the dictionary:\\n- \" + keys_str)"
   ]
  },
  {
   "cell_type": "code",
   "execution_count": 20,
   "metadata": {},
   "outputs": [
    {
     "data": {
      "text/plain": [
       "4"
      ]
     },
     "execution_count": 20,
     "metadata": {},
     "output_type": "execute_result"
    }
   ],
   "source": [
    "len(data['retweeted_status']['user']) #39\n",
    "\n",
    "len(data['retweeted_status']['entities']) #4"
   ]
  },
  {
   "cell_type": "code",
   "execution_count": 21,
   "metadata": {
    "tags": []
   },
   "outputs": [
    {
     "data": {
      "text/plain": [
       "{'id': 47596019,\n",
       " 'id_str': '47596019',\n",
       " 'name': 'Liputan6.com',\n",
       " 'screen_name': 'liputan6dotcom',\n",
       " 'location': 'Jakarta Indonesia',\n",
       " 'url': None,\n",
       " 'description': 'Download Apps https://t.co/Tg70sLl3Dc di sini https://t.co/DkBRaoqgmX \\nWebsite : https://t.co/Tg70sLl3Dc                                   \\nContact us: Liputan6Socmed@gmail.com',\n",
       " 'translator_type': 'regular',\n",
       " 'protected': False,\n",
       " 'verified': True,\n",
       " 'followers_count': 3675977,\n",
       " 'friends_count': 693,\n",
       " 'listed_count': 4806,\n",
       " 'favourites_count': 7055,\n",
       " 'statuses_count': 1375342,\n",
       " 'created_at': 'Tue Jun 16 10:48:24 +0000 2009',\n",
       " 'utc_offset': None,\n",
       " 'time_zone': None,\n",
       " 'geo_enabled': True,\n",
       " 'lang': None,\n",
       " 'contributors_enabled': False,\n",
       " 'is_translator': False,\n",
       " 'profile_background_color': 'E88317',\n",
       " 'profile_background_image_url': 'http://abs.twimg.com/images/themes/theme16/bg.gif',\n",
       " 'profile_background_image_url_https': 'https://abs.twimg.com/images/themes/theme16/bg.gif',\n",
       " 'profile_background_tile': False,\n",
       " 'profile_link_color': 'E88317',\n",
       " 'profile_sidebar_border_color': 'FFFFFF',\n",
       " 'profile_sidebar_fill_color': 'F05A31',\n",
       " 'profile_text_color': '0099CC',\n",
       " 'profile_use_background_image': False,\n",
       " 'profile_image_url': 'http://pbs.twimg.com/profile_images/1196221192916439041/SuL7oIar_normal.jpg',\n",
       " 'profile_image_url_https': 'https://pbs.twimg.com/profile_images/1196221192916439041/SuL7oIar_normal.jpg',\n",
       " 'profile_banner_url': 'https://pbs.twimg.com/profile_banners/47596019/1585833284',\n",
       " 'default_profile': False,\n",
       " 'default_profile_image': False,\n",
       " 'following': None,\n",
       " 'follow_request_sent': None,\n",
       " 'notifications': None}"
      ]
     },
     "execution_count": 21,
     "metadata": {},
     "output_type": "execute_result"
    }
   ],
   "source": [
    "# print the last data item\n",
    "data['retweeted_status']['user']\n",
    "# name for display\n",
    "# @screen_name"
   ]
  },
  {
   "cell_type": "code",
   "execution_count": 22,
   "metadata": {},
   "outputs": [
    {
     "data": {
      "text/plain": [
       "{'created_at': 'Sun Apr 12 18:47:53 +0000 2020',\n",
       " 'id': 1249408918196871168,\n",
       " 'id_str': '1249408918196871168',\n",
       " 'text': 'RT @liputan6dotcom: Lagi, 2 Dokter Senior Meninggal karena Corona Covid-19 https://t.co/eDbMsxFA84',\n",
       " 'source': '<a href=\"http://twitter.com/download/android\" rel=\"nofollow\">Twitter for Android</a>',\n",
       " 'truncated': False,\n",
       " 'in_reply_to_status_id': None,\n",
       " 'in_reply_to_status_id_str': None,\n",
       " 'in_reply_to_user_id': None,\n",
       " 'in_reply_to_user_id_str': None,\n",
       " 'in_reply_to_screen_name': None,\n",
       " 'user': {'id': 2283278160,\n",
       "  'id_str': '2283278160',\n",
       "  'name': 'Mr rius',\n",
       "  'screen_name': 'AwhexWibowo',\n",
       "  'location': 'Yogyakarta, Indonesia',\n",
       "  'url': None,\n",
       "  'description': 'have fun go mad',\n",
       "  'translator_type': 'none',\n",
       "  'protected': False,\n",
       "  'verified': False,\n",
       "  'followers_count': 451,\n",
       "  'friends_count': 608,\n",
       "  'listed_count': 2,\n",
       "  'favourites_count': 4625,\n",
       "  'statuses_count': 31160,\n",
       "  'created_at': 'Thu Jan 09 08:34:03 +0000 2014',\n",
       "  'utc_offset': None,\n",
       "  'time_zone': None,\n",
       "  'geo_enabled': True,\n",
       "  'lang': None,\n",
       "  'contributors_enabled': False,\n",
       "  'is_translator': False,\n",
       "  'profile_background_color': 'C0DEED',\n",
       "  'profile_background_image_url': 'http://abs.twimg.com/images/themes/theme1/bg.png',\n",
       "  'profile_background_image_url_https': 'https://abs.twimg.com/images/themes/theme1/bg.png',\n",
       "  'profile_background_tile': False,\n",
       "  'profile_link_color': '1DA1F2',\n",
       "  'profile_sidebar_border_color': 'C0DEED',\n",
       "  'profile_sidebar_fill_color': 'DDEEF6',\n",
       "  'profile_text_color': '333333',\n",
       "  'profile_use_background_image': True,\n",
       "  'profile_image_url': 'http://pbs.twimg.com/profile_images/1045333930910482432/9T4eZEsi_normal.jpg',\n",
       "  'profile_image_url_https': 'https://pbs.twimg.com/profile_images/1045333930910482432/9T4eZEsi_normal.jpg',\n",
       "  'profile_banner_url': 'https://pbs.twimg.com/profile_banners/2283278160/1585672135',\n",
       "  'default_profile': True,\n",
       "  'default_profile_image': False,\n",
       "  'following': None,\n",
       "  'follow_request_sent': None,\n",
       "  'notifications': None},\n",
       " 'geo': None,\n",
       " 'coordinates': None,\n",
       " 'place': None,\n",
       " 'contributors': None,\n",
       " 'retweeted_status': {'created_at': 'Sun Apr 12 17:22:04 +0000 2020',\n",
       "  'id': 1249387319229988865,\n",
       "  'id_str': '1249387319229988865',\n",
       "  'text': 'Lagi, 2 Dokter Senior Meninggal karena Corona Covid-19 https://t.co/eDbMsxFA84',\n",
       "  'source': '<a href=\"https://dlvrit.com/\" rel=\"nofollow\">dlvr.it</a>',\n",
       "  'truncated': False,\n",
       "  'in_reply_to_status_id': None,\n",
       "  'in_reply_to_status_id_str': None,\n",
       "  'in_reply_to_user_id': None,\n",
       "  'in_reply_to_user_id_str': None,\n",
       "  'in_reply_to_screen_name': None,\n",
       "  'user': {'id': 47596019,\n",
       "   'id_str': '47596019',\n",
       "   'name': 'Liputan6.com',\n",
       "   'screen_name': 'liputan6dotcom',\n",
       "   'location': 'Jakarta Indonesia',\n",
       "   'url': None,\n",
       "   'description': 'Download Apps https://t.co/Tg70sLl3Dc di sini https://t.co/DkBRaoqgmX \\nWebsite : https://t.co/Tg70sLl3Dc                                   \\nContact us: Liputan6Socmed@gmail.com',\n",
       "   'translator_type': 'regular',\n",
       "   'protected': False,\n",
       "   'verified': True,\n",
       "   'followers_count': 3675977,\n",
       "   'friends_count': 693,\n",
       "   'listed_count': 4806,\n",
       "   'favourites_count': 7055,\n",
       "   'statuses_count': 1375342,\n",
       "   'created_at': 'Tue Jun 16 10:48:24 +0000 2009',\n",
       "   'utc_offset': None,\n",
       "   'time_zone': None,\n",
       "   'geo_enabled': True,\n",
       "   'lang': None,\n",
       "   'contributors_enabled': False,\n",
       "   'is_translator': False,\n",
       "   'profile_background_color': 'E88317',\n",
       "   'profile_background_image_url': 'http://abs.twimg.com/images/themes/theme16/bg.gif',\n",
       "   'profile_background_image_url_https': 'https://abs.twimg.com/images/themes/theme16/bg.gif',\n",
       "   'profile_background_tile': False,\n",
       "   'profile_link_color': 'E88317',\n",
       "   'profile_sidebar_border_color': 'FFFFFF',\n",
       "   'profile_sidebar_fill_color': 'F05A31',\n",
       "   'profile_text_color': '0099CC',\n",
       "   'profile_use_background_image': False,\n",
       "   'profile_image_url': 'http://pbs.twimg.com/profile_images/1196221192916439041/SuL7oIar_normal.jpg',\n",
       "   'profile_image_url_https': 'https://pbs.twimg.com/profile_images/1196221192916439041/SuL7oIar_normal.jpg',\n",
       "   'profile_banner_url': 'https://pbs.twimg.com/profile_banners/47596019/1585833284',\n",
       "   'default_profile': False,\n",
       "   'default_profile_image': False,\n",
       "   'following': None,\n",
       "   'follow_request_sent': None,\n",
       "   'notifications': None},\n",
       "  'geo': None,\n",
       "  'coordinates': None,\n",
       "  'place': None,\n",
       "  'contributors': None,\n",
       "  'is_quote_status': False,\n",
       "  'quote_count': 7,\n",
       "  'reply_count': 12,\n",
       "  'retweet_count': 86,\n",
       "  'favorite_count': 108,\n",
       "  'entities': {'hashtags': [],\n",
       "   'urls': [{'url': 'https://t.co/eDbMsxFA84',\n",
       "     'expanded_url': 'http://dlvr.it/RTf5SD',\n",
       "     'display_url': 'dlvr.it/RTf5SD',\n",
       "     'indices': [55, 78]}],\n",
       "   'user_mentions': [],\n",
       "   'symbols': []},\n",
       "  'favorited': False,\n",
       "  'retweeted': False,\n",
       "  'possibly_sensitive': False,\n",
       "  'filter_level': 'low',\n",
       "  'lang': 'in'},\n",
       " 'is_quote_status': False,\n",
       " 'quote_count': 0,\n",
       " 'reply_count': 0,\n",
       " 'retweet_count': 0,\n",
       " 'favorite_count': 0,\n",
       " 'entities': {'hashtags': [],\n",
       "  'urls': [{'url': 'https://t.co/eDbMsxFA84',\n",
       "    'expanded_url': 'http://dlvr.it/RTf5SD',\n",
       "    'display_url': 'dlvr.it/RTf5SD',\n",
       "    'indices': [75, 98]}],\n",
       "  'user_mentions': [{'screen_name': 'liputan6dotcom',\n",
       "    'name': 'Liputan6.com',\n",
       "    'id': 47596019,\n",
       "    'id_str': '47596019',\n",
       "    'indices': [3, 18]}],\n",
       "  'symbols': []},\n",
       " 'favorited': False,\n",
       " 'retweeted': False,\n",
       " 'possibly_sensitive': False,\n",
       " 'filter_level': 'low',\n",
       " 'lang': 'in',\n",
       " 'timestamp_ms': '1586717273650'}"
      ]
     },
     "execution_count": 22,
     "metadata": {},
     "output_type": "execute_result"
    }
   ],
   "source": [
    "data"
   ]
  },
  {
   "cell_type": "markdown",
   "metadata": {},
   "source": [
    "## psuedocode template for processing"
   ]
  },
  {
   "cell_type": "code",
   "execution_count": 9,
   "metadata": {
    "collapsed": true,
    "jupyter": {
     "outputs_hidden": true
    },
    "tags": []
   },
   "outputs": [
    {
     "ename": "FileNotFoundError",
     "evalue": "[Errno 2] No such file or directory: 'corona-out-2'",
     "output_type": "error",
     "traceback": [
      "\u001b[0;31m---------------------------------------------------------------------------\u001b[0m",
      "\u001b[0;31mFileNotFoundError\u001b[0m                         Traceback (most recent call last)",
      "Input \u001b[0;32mIn [9]\u001b[0m, in \u001b[0;36m<cell line: 5>\u001b[0;34m()\u001b[0m\n\u001b[1;32m      1\u001b[0m \u001b[38;5;66;03m# this is a partial template for processing the dataset to store into the datastores.\u001b[39;00m\n\u001b[1;32m      2\u001b[0m \u001b[38;5;66;03m# you will need to write functions for the psuedocode sections and invoke them here\u001b[39;00m\n\u001b[1;32m      3\u001b[0m \n\u001b[1;32m      4\u001b[0m \u001b[38;5;66;03m#insert path and replace name of the file below as needed\u001b[39;00m\n\u001b[0;32m----> 5\u001b[0m \u001b[38;5;28;01mwith\u001b[39;00m \u001b[38;5;28;43mopen\u001b[39;49m\u001b[43m(\u001b[49m\u001b[38;5;124;43m\"\u001b[39;49m\u001b[38;5;124;43mcorona-out-2\u001b[39;49m\u001b[38;5;124;43m\"\u001b[39;49m\u001b[43m,\u001b[49m\u001b[43m \u001b[49m\u001b[38;5;124;43m\"\u001b[39;49m\u001b[38;5;124;43mr\u001b[39;49m\u001b[38;5;124;43m\"\u001b[39;49m\u001b[43m)\u001b[49m \u001b[38;5;28;01mas\u001b[39;00m f1:\n\u001b[1;32m      6\u001b[0m     \u001b[38;5;28;01mfor\u001b[39;00m line \u001b[38;5;129;01min\u001b[39;00m f1:\n\u001b[1;32m      7\u001b[0m         \u001b[38;5;28;01mtry\u001b[39;00m:\n",
      "\u001b[0;31mFileNotFoundError\u001b[0m: [Errno 2] No such file or directory: 'corona-out-2'"
     ]
    }
   ],
   "source": [
    "# this is a partial template for processing the dataset to store into the datastores.\n",
    "# you will need to write functions for the psuedocode sections and invoke them here\n",
    "\n",
    "#insert path and replace name of the file below as needed\n",
    "with open(\"corona-out-2\", \"r\") as f1:\n",
    "    for line in f1:\n",
    "        try:\n",
    "            data = json.loads(line)\n",
    "            # pseudocode: \n",
    "            # if tweet has been seen before, \n",
    "            #         continue (ignore this tweet, go to next iteration of loop)\n",
    "            \n",
    "            user = data['user']\n",
    "            # psuedocode: \n",
    "            # if user has not been seen before\n",
    "            #            add to user table \n",
    "            # update datastores with any metrics that you are tracking \n",
    "            \n",
    "            if ( data['text'].startswith('RT') ):\n",
    "                # psuedocode:\n",
    "                # update retweet information\n",
    "                # note that you may not have an entry for the original tweet \n",
    "                # if that is not in the dataset\n",
    "                pass  # does nothing right now\n",
    "                \n",
    "            else:\n",
    "                # psuedocode:\n",
    "                # add the new tweet to datastore\n",
    "                pass # does nothing right now\n",
    "        except:\n",
    "            continue\n"
   ]
  },
  {
   "cell_type": "markdown",
   "metadata": {},
   "source": [
    "## Process data & Schema design"
   ]
  },
  {
   "cell_type": "code",
   "execution_count": null,
   "metadata": {},
   "outputs": [],
   "source": [
    "import redis # for cache\n",
    "import pymongo # for NoSQL data store\n",
    "\n",
    "from redis.commands.json.path import Path\n",
    "import redis.commands.search.aggregation as aggregations\n",
    "import redis.commands.search.reducers as reducers\n",
    "from redis.commands.search.field import TextField, NumericField, TagField\n",
    "from redis.commands.search.indexDefinition import IndexDefinition, IndexType\n",
    "from redis.commands.search.query import NumericFilter, Query\n",
    "\n",
    "# connect to a Redis cluster\n",
    "from redis.cluster import RedisCluster\n",
    "from string import ascii_letters\n",
    "import random"
   ]
  },
  {
   "cell_type": "code",
   "execution_count": null,
   "metadata": {},
   "outputs": [],
   "source": [
    "r = redis.Redis(host='localhost', port=6379, decode_responses=True)"
   ]
  },
  {
   "cell_type": "code",
   "execution_count": null,
   "metadata": {},
   "outputs": [],
   "source": [
    "# remove all the data exists.\n",
    "for key in r.keys():\n",
    "    r.delete(key)"
   ]
  },
  {
   "cell_type": "markdown",
   "metadata": {},
   "source": [
    "### process data (just the json file)\n",
    "Select the attributes to be stored."
   ]
  },
  {
   "cell_type": "code",
   "execution_count": 26,
   "metadata": {},
   "outputs": [
    {
     "data": {
      "text/plain": [
       "27"
      ]
     },
     "execution_count": 26,
     "metadata": {},
     "output_type": "execute_result"
    }
   ],
   "source": [
    "# selected attributes in tweets\n",
    "twt_attributes = ['created_at',\n",
    "                       'id_str',\n",
    "                       'text',\n",
    "                       'in_reply_to_status_id_str',\n",
    "                       'in_reply_to_user_id_str',\n",
    "                       'in_reply_to_screen_name',\n",
    "                       'quoted_status_id_str',\n",
    "                       'quoted_status',\n",
    "                       'quote_count',\n",
    "                       'reply_count',\n",
    "                       'retweet_count',\n",
    "                       'favorite_count',\n",
    "                       'entities',\n",
    "                       'extended_entities',\n",
    "                       'user.id_str',\n",
    "                       'user.name',\n",
    "                       'user.screen_name',\n",
    "                       'user.url',\n",
    "                       'user.description',\n",
    "                       'user.protected',\n",
    "                       'user.verified',\n",
    "                       'user.followers_count',\n",
    "                       'user.friends_count',\n",
    "                       'user.listed_count',\n",
    "                       'user.favourites_count',\n",
    "                       'user.statuses_count',\n",
    "                       'user.created_at'\n",
    "                      ]\n",
    "len(twt_attributes) # 27"
   ]
  },
  {
   "cell_type": "code",
   "execution_count": 28,
   "metadata": {},
   "outputs": [
    {
     "data": {
      "text/plain": [
       "28"
      ]
     },
     "execution_count": 28,
     "metadata": {},
     "output_type": "execute_result"
    }
   ],
   "source": [
    "# so the selected retweets attributes has an extra \"retweeted_status.id_str\"\n",
    "retwt_attributes = ['created_at',\n",
    "                    'id_str',\n",
    "                    'text',\n",
    "                    'in_reply_to_status_id_str',\n",
    "                    'in_reply_to_user_id_str',\n",
    "                    'in_reply_to_screen_name',\n",
    "                    'quoted_status_id_str',\n",
    "                    'quoted_status',\n",
    "                    'quote_count',\n",
    "                    'reply_count',\n",
    "                    'retweet_count',\n",
    "                    'favorite_count',\n",
    "                    'entities',\n",
    "                    'extended_entities',\n",
    "                    'retweeted_status.id_str',\n",
    "                    'user.id_str',\n",
    "                    'user.name',\n",
    "                    'user.screen_name',\n",
    "                    'user.url',\n",
    "                    'user.description',\n",
    "                    'user.protected',\n",
    "                    'user.verified',\n",
    "                    'user.followers_count',\n",
    "                    'user.friends_count',\n",
    "                    'user.listed_count',\n",
    "                    'user.favourites_count',\n",
    "                    'user.statuses_count',\n",
    "                    'user.created_at']\n",
    "len(retwt_attributes) # 28"
   ]
  },
  {
   "cell_type": "code",
   "execution_count": 22,
   "metadata": {},
   "outputs": [
    {
     "data": {
      "text/plain": [
       "13"
      ]
     },
     "execution_count": 22,
     "metadata": {},
     "output_type": "execute_result"
    }
   ],
   "source": [
    "# selected attributes in user\n",
    "user_attr_tracking = ['id_str',\n",
    "                      'name',\n",
    "                      'screen_name',\n",
    "                      'url',\n",
    "                      'description',\n",
    "                      'protected',\n",
    "                      'verified',\n",
    "                      'followers_count',\n",
    "                      'friends_count',\n",
    "                      'listed_count',\n",
    "                      'favourites_count',\n",
    "                      'statuses_count',\n",
    "                      'created_at']\n",
    "\n",
    "len(user_attr_tracking) #13"
   ]
  },
  {
   "cell_type": "markdown",
   "metadata": {},
   "source": [
    "##### user_store function"
   ]
  },
  {
   "cell_type": "code",
   "execution_count": 115,
   "metadata": {},
   "outputs": [],
   "source": [
    "def user_store(user, userid_table):\n",
    "    \n",
    "    # if user has not been seen before, add id to userid_table\n",
    "    if user['id_str'] not in userid_table:\n",
    "        userid_table.append(user['id_str'])\n",
    "        \n",
    "        # update datastores with defined tracking attributes\n",
    "        user_attr_selected = {key: user[key] for key in user_attr_tracking if key in user}\n",
    "        user_list.append(user_attr_selected)"
   ]
  },
  {
   "cell_type": "code",
   "execution_count": 111,
   "metadata": {},
   "outputs": [],
   "source": [
    "# test test\n",
    "\n",
    "twt_id_record = []\n",
    "userid_table = [] # store userid\n",
    "user_list = [] # store every attributes of user needed tracking\n",
    "\n",
    "with open(\"./data/corona-out-2\", \"r\") as f1:\n",
    "    for line in f1:\n",
    "        try:\n",
    "            data = json.loads(line)\n",
    "            if data[\"id_str\"] not in twt_id_record:\n",
    "                twt_id_record.append(data[\"id_str\"])\n",
    "            # if tweet has been seen before \n",
    "            else:\n",
    "                # ignore this tweet, go to next iteration of loop\n",
    "                continue\n",
    "            \n",
    "            user = data['user']\n",
    "            user_store(user, userid_table)\n",
    "        except:\n",
    "            continue"
   ]
  },
  {
   "cell_type": "code",
   "execution_count": 112,
   "metadata": {},
   "outputs": [
    {
     "data": {
      "text/plain": [
       "15505"
      ]
     },
     "execution_count": 112,
     "metadata": {},
     "output_type": "execute_result"
    }
   ],
   "source": [
    "len(user_list)"
   ]
  },
  {
   "cell_type": "markdown",
   "metadata": {},
   "source": [
    "##### retweets store function"
   ]
  },
  {
   "cell_type": "code",
   "execution_count": 116,
   "metadata": {},
   "outputs": [],
   "source": [
    "# this is a partial template for processing the dataset to store into the datastores.\n",
    "# you will need to write functions for the psuedocode sections and invoke them here\n",
    "\n",
    "#insert path and replace name of the file below as needed\n",
    "\n",
    "twt_id_record = []\n",
    "userid_table = [] # store userid\n",
    "user_list = [] # store tracking attributes of user\n",
    "retwt_list = [] # list to store retweets\n",
    "retwt_lines = 0 # count # of retweets\n",
    "twt_list = []\n",
    "twt_lines = 0\n",
    "\n",
    "with open(\"./data/corona-out-2\", \"r\") as f1:\n",
    "    for line in f1:\n",
    "        try:\n",
    "            data = json.loads(line)\n",
    "            if data[\"id_str\"] not in twt_id_record:\n",
    "                twt_id_record.append(data[\"id_str\"])\n",
    "            # if tweet has been seen before \n",
    "            else:\n",
    "                # ignore this tweet, go to next iteration of loop\n",
    "                continue\n",
    "            \n",
    "            user = data['user']\n",
    "            user_store(user, userid_table)\n",
    "            \n",
    "            \n",
    "            if ( data['text'].startswith('RT') ):\n",
    "                # try:\n",
    "                    # update retweet information\n",
    "                    selected_dict = {}\n",
    "                    retwt_lines = retwt_lines + 1\n",
    "                    for attribute in retwt_attributes:\n",
    "                        try:\n",
    "                            # assigns the reference: any changes made to one will affect the other\n",
    "                            current_dict = data\n",
    "                            current_selected_dict = selected_dict\n",
    "                            # parent-child attributes\n",
    "                            for sub_attribute in attribute.split('.'):\n",
    "                                # parent attributes\n",
    "                                current_dict = current_dict[sub_attribute]\n",
    "                                # child attributes\n",
    "                                if sub_attribute == attribute.split('.')[-1]:\n",
    "                                    current_selected_dict[sub_attribute] = current_dict\n",
    "                                else:\n",
    "                                    if sub_attribute not in current_selected_dict:\n",
    "                                        current_selected_dict[sub_attribute] = {}\n",
    "                                    current_selected_dict = current_selected_dict[sub_attribute]\n",
    "                        except:\n",
    "                            continue\n",
    "                    retwt_list.append(selected_dict)\n",
    "                # except:\n",
    "                    # continue\n",
    "\n",
    "                # pass  # does nothing right now\n",
    "                \n",
    "            else:\n",
    "                # add the new tweet to datastore\n",
    "                    selected_dict = {}\n",
    "                    twt_lines = twt_lines + 1\n",
    "                    for attribute in twt_attributes:\n",
    "                        try:\n",
    "                            # assigns the reference: any changes made to one will affect the other\n",
    "                            current_dict = data\n",
    "                            current_selected_dict = selected_dict\n",
    "                            # parent-child attributes\n",
    "                            for sub_attribute in attribute.split('.'):\n",
    "                                # parent attributes\n",
    "                                current_dict = current_dict[sub_attribute]\n",
    "                                # child attributes\n",
    "                                if sub_attribute == attribute.split('.')[-1]:\n",
    "                                    current_selected_dict[sub_attribute] = current_dict\n",
    "                                else:\n",
    "                                    if sub_attribute not in current_selected_dict:\n",
    "                                        current_selected_dict[sub_attribute] = {}\n",
    "                                    current_selected_dict = current_selected_dict[sub_attribute]\n",
    "                        except:\n",
    "                            continue\n",
    "                    twt_list.append(selected_dict)\n",
    "        except:\n",
    "            continue"
   ]
  },
  {
   "cell_type": "code",
   "execution_count": 117,
   "metadata": {},
   "outputs": [
    {
     "data": {
      "text/plain": [
       "15505"
      ]
     },
     "execution_count": 117,
     "metadata": {},
     "output_type": "execute_result"
    }
   ],
   "source": [
    "len(userid_table)"
   ]
  },
  {
   "cell_type": "code",
   "execution_count": 118,
   "metadata": {},
   "outputs": [
    {
     "data": {
      "text/plain": [
       "15505"
      ]
     },
     "execution_count": 118,
     "metadata": {},
     "output_type": "execute_result"
    }
   ],
   "source": [
    "len(user_list)"
   ]
  },
  {
   "cell_type": "code",
   "execution_count": 119,
   "metadata": {},
   "outputs": [
    {
     "data": {
      "text/plain": [
       "{'id_str': '1225145123920588805',\n",
       " 'name': 'efe09',\n",
       " 'screen_name': 'efe0927183508',\n",
       " 'url': None,\n",
       " 'description': \"Allah'ın en değerli eseri insandır.\\nCanı yanan sabretsin.\\nCan yakan, canının yanacağı günü beklesin..\\n677 khk\\nRT düşüncem olduğu anlamına gelmez bilgi amaçlıdır\",\n",
       " 'protected': False,\n",
       " 'verified': False,\n",
       " 'followers_count': 653,\n",
       " 'friends_count': 983,\n",
       " 'listed_count': 0,\n",
       " 'favourites_count': 1255,\n",
       " 'statuses_count': 4177,\n",
       " 'created_at': 'Wed Feb 05 19:52:38 +0000 2020'}"
      ]
     },
     "execution_count": 119,
     "metadata": {},
     "output_type": "execute_result"
    }
   ],
   "source": [
    "user_list[1]"
   ]
  },
  {
   "cell_type": "code",
   "execution_count": 120,
   "metadata": {},
   "outputs": [
    {
     "data": {
      "text/plain": [
       "7349"
      ]
     },
     "execution_count": 120,
     "metadata": {},
     "output_type": "execute_result"
    }
   ],
   "source": [
    "twt_lines"
   ]
  },
  {
   "cell_type": "code",
   "execution_count": 121,
   "metadata": {},
   "outputs": [
    {
     "data": {
      "text/plain": [
       "7349"
      ]
     },
     "execution_count": 121,
     "metadata": {},
     "output_type": "execute_result"
    }
   ],
   "source": [
    "len(twt_list)"
   ]
  },
  {
   "cell_type": "code",
   "execution_count": 124,
   "metadata": {},
   "outputs": [
    {
     "data": {
      "text/plain": [
       "{'created_at': 'Sun Apr 12 18:27:26 +0000 2020',\n",
       " 'id_str': '1249403771261722624',\n",
       " 'text': '#Bo der Osterhase hat nicht Corona, er ist gekommen.',\n",
       " 'in_reply_to_status_id_str': None,\n",
       " 'in_reply_to_user_id_str': None,\n",
       " 'in_reply_to_screen_name': None,\n",
       " 'quote_count': 0,\n",
       " 'reply_count': 0,\n",
       " 'retweet_count': 0,\n",
       " 'favorite_count': 0,\n",
       " 'entities': {'hashtags': [{'text': 'Bo', 'indices': [0, 3]}],\n",
       "  'urls': [],\n",
       "  'user_mentions': [],\n",
       "  'symbols': []},\n",
       " 'user': {'id_str': '1171484224244744198',\n",
       "  'name': 'Elfpunkt',\n",
       "  'screen_name': 'meElfpunkt',\n",
       "  'url': None,\n",
       "  'description': 'Mal 1 mal 0 mal Tilt',\n",
       "  'protected': False,\n",
       "  'verified': False,\n",
       "  'followers_count': 3,\n",
       "  'friends_count': 53,\n",
       "  'listed_count': 0,\n",
       "  'favourites_count': 72,\n",
       "  'statuses_count': 60,\n",
       "  'created_at': 'Tue Sep 10 18:03:17 +0000 2019'}}"
      ]
     },
     "execution_count": 124,
     "metadata": {},
     "output_type": "execute_result"
    }
   ],
   "source": [
    "twt_list[1]"
   ]
  },
  {
   "cell_type": "code",
   "execution_count": 122,
   "metadata": {},
   "outputs": [
    {
     "data": {
      "text/plain": [
       "11157"
      ]
     },
     "execution_count": 122,
     "metadata": {},
     "output_type": "execute_result"
    }
   ],
   "source": [
    "retwt_lines"
   ]
  },
  {
   "cell_type": "code",
   "execution_count": 123,
   "metadata": {},
   "outputs": [
    {
     "data": {
      "text/plain": [
       "11157"
      ]
     },
     "execution_count": 123,
     "metadata": {},
     "output_type": "execute_result"
    }
   ],
   "source": [
    "len(retwt_list)"
   ]
  },
  {
   "cell_type": "code",
   "execution_count": 125,
   "metadata": {},
   "outputs": [
    {
     "data": {
      "text/plain": [
       "{'created_at': 'Sun Apr 12 18:27:25 +0000 2020',\n",
       " 'id_str': '1249403768023678982',\n",
       " 'text': 'RT @lale_karanfil: In Turkey, there are 300 thousand prisoners and 150 thousand prison employees in prisons. \\nPrisons are the most risky pl…',\n",
       " 'in_reply_to_status_id_str': None,\n",
       " 'in_reply_to_user_id_str': None,\n",
       " 'in_reply_to_screen_name': None,\n",
       " 'quote_count': 0,\n",
       " 'reply_count': 0,\n",
       " 'retweet_count': 0,\n",
       " 'favorite_count': 0,\n",
       " 'entities': {'hashtags': [],\n",
       "  'urls': [],\n",
       "  'user_mentions': [{'screen_name': 'lale_karanfil',\n",
       "    'name': 'Karanfil Lale',\n",
       "    'id': 1087735689091928064,\n",
       "    'id_str': '1087735689091928064',\n",
       "    'indices': [3, 17]}],\n",
       "  'symbols': []},\n",
       " 'retweeted_status': {'id_str': '1249397541596286979'},\n",
       " 'user': {'id_str': '1225145123920588805',\n",
       "  'name': 'efe09',\n",
       "  'screen_name': 'efe0927183508',\n",
       "  'url': None,\n",
       "  'description': \"Allah'ın en değerli eseri insandır.\\nCanı yanan sabretsin.\\nCan yakan, canının yanacağı günü beklesin..\\n677 khk\\nRT düşüncem olduğu anlamına gelmez bilgi amaçlıdır\",\n",
       "  'protected': False,\n",
       "  'verified': False,\n",
       "  'followers_count': 653,\n",
       "  'friends_count': 983,\n",
       "  'listed_count': 0,\n",
       "  'favourites_count': 1255,\n",
       "  'statuses_count': 4177,\n",
       "  'created_at': 'Wed Feb 05 19:52:38 +0000 2020'}}"
      ]
     },
     "execution_count": 125,
     "metadata": {},
     "output_type": "execute_result"
    }
   ],
   "source": [
    "retwt_list[1]"
   ]
  },
  {
   "cell_type": "code",
   "execution_count": 106,
   "metadata": {},
   "outputs": [],
   "source": [
    "# # # encapsulation test: don't know why it didn't work as a function\n",
    "\n",
    "# # store tweets/retweets data & count nums\n",
    "# def retwt_store(data):\n",
    "#     # list for store tweets/retweets data\n",
    "#     selected_dict = {}\n",
    "#     retwt_lines = retwt_lines + 1\n",
    "#     for attribute in retwt_attributes:\n",
    "#         try:\n",
    "#             # assigns the reference: any changes made to one will affect the other\n",
    "#             current_dict = data\n",
    "#             current_selected_dict = selected_dict\n",
    "#             # parent-child attributes\n",
    "#             for sub_attribute in attribute.split('.'):\n",
    "#                 # parent attributes\n",
    "#                 current_dict = current_dict[sub_attribute]\n",
    "#                 # child attributes\n",
    "#                 if sub_attribute == attribute.split('.')[-1]:\n",
    "#                     current_selected_dict[sub_attribute] = current_dict\n",
    "#                 else:\n",
    "#                     if sub_attribute not in current_selected_dict:\n",
    "#                         current_selected_dict[sub_attribute] = {}\n",
    "#                     current_selected_dict = current_selected_dict[sub_attribute]\n",
    "#         except:\n",
    "#             continue\n",
    "#     retwt_list.append(selected_dict)"
   ]
  },
  {
   "cell_type": "markdown",
   "metadata": {},
   "source": [
    "### Design schema to set data"
   ]
  },
  {
   "cell_type": "code",
   "execution_count": null,
   "metadata": {},
   "outputs": [],
   "source": [
    "# Use JSON path expressions to map specific JSON elements to the schema fields\n",
    "\n",
    "schema = (\n",
    "    TextField(\"$.name\", as_name=\"name\"), \n",
    "    TagField(\"$.city\", as_name=\"city\"), \n",
    "    NumericField(\"$.age\", as_name=\"age\")\n",
    ")"
   ]
  },
  {
   "cell_type": "code",
   "execution_count": null,
   "metadata": {},
   "outputs": [],
   "source": [
    "for key, value in twitter_data.items():\n",
    "    r.set(key, value)"
   ]
  }
 ],
 "metadata": {
  "kernelspec": {
   "display_name": "Python 3 (ipykernel)",
   "language": "python",
   "name": "python3"
  },
  "language_info": {
   "codemirror_mode": {
    "name": "ipython",
    "version": 3
   },
   "file_extension": ".py",
   "mimetype": "text/x-python",
   "name": "python",
   "nbconvert_exporter": "python",
   "pygments_lexer": "ipython3",
   "version": "3.9.12"
  },
  "toc": {
   "base_numbering": 1,
   "nav_menu": {},
   "number_sections": true,
   "sideBar": true,
   "skip_h1_title": false,
   "title_cell": "Table of Contents",
   "title_sidebar": "Contents",
   "toc_cell": false,
   "toc_position": {},
   "toc_section_display": true,
   "toc_window_display": false
  }
 },
 "nbformat": 4,
 "nbformat_minor": 4
}
