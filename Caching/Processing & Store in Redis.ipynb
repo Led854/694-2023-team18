{
 "cells": [
  {
   "cell_type": "markdown",
   "metadata": {},
   "source": [
    "# Process data & Store into Redis"
   ]
  },
  {
   "cell_type": "code",
   "execution_count": 340,
   "metadata": {},
   "outputs": [],
   "source": [
    "import json\n",
    "import os\n",
    "import pandas as pd\n",
    "import time\n",
    "import datetime\n",
    "from datetime import datetime, date"
   ]
  },
  {
   "cell_type": "markdown",
   "metadata": {},
   "source": [
    "## process data\n",
    "Select the attributes to be stored."
   ]
  },
  {
   "cell_type": "code",
   "execution_count": 103,
   "metadata": {},
   "outputs": [
    {
     "data": {
      "text/plain": [
       "26"
      ]
     },
     "execution_count": 103,
     "metadata": {},
     "output_type": "execute_result"
    }
   ],
   "source": [
    "# selected attributes in tweets\n",
    "twt_attributes = ['created_at',\n",
    "                       'id_str',\n",
    "                       'text',\n",
    "                       'in_reply_to_status_id_str',\n",
    "                       'in_reply_to_user_id_str',\n",
    "                       'in_reply_to_screen_name',\n",
    "                       'quoted_status_id_str',\n",
    "                       # 'quoted_status',\n",
    "                       'quote_count',\n",
    "                       'reply_count',\n",
    "                       'retweet_count',\n",
    "                       'favorite_count',\n",
    "                       'entities.hashtags',\n",
    "                       'extended_entities',\n",
    "                       'user.id_str', # for matching\n",
    "                       'user.name',\n",
    "                       'user.screen_name',\n",
    "                       'user.url',\n",
    "                       'user.description',\n",
    "                       'user.protected',\n",
    "                       'user.verified',\n",
    "                       'user.followers_count',\n",
    "                       'user.friends_count',\n",
    "                       'user.listed_count',\n",
    "                       'user.favourites_count',\n",
    "                       'user.statuses_count',\n",
    "                       'user.created_at'\n",
    "                      ]\n",
    "len(twt_attributes) # 26"
   ]
  },
  {
   "cell_type": "code",
   "execution_count": 104,
   "metadata": {},
   "outputs": [
    {
     "data": {
      "text/plain": [
       "27"
      ]
     },
     "execution_count": 104,
     "metadata": {},
     "output_type": "execute_result"
    }
   ],
   "source": [
    "# so the selected retweets attributes has an extra \"retweeted_status.id_str\"\n",
    "retwt_attributes = ['created_at',\n",
    "                    'id_str',\n",
    "                    'text',\n",
    "                    'in_reply_to_status_id_str',\n",
    "                    'in_reply_to_user_id_str',\n",
    "                    'in_reply_to_screen_name',\n",
    "                    'quoted_status_id_str',\n",
    "                    # 'quoted_status',\n",
    "                    'quote_count',\n",
    "                    'reply_count',\n",
    "                    'retweet_count',\n",
    "                    'favorite_count',\n",
    "                    'entities.hashtags',\n",
    "                    'extended_entities',\n",
    "                    'retweeted_status.id_str',\n",
    "                    'user.id_str', # for matching\n",
    "                    'user.name',\n",
    "                    'user.screen_name',\n",
    "                    'user.url',\n",
    "                    'user.description',\n",
    "                    'user.protected',\n",
    "                    'user.verified',\n",
    "                    'user.followers_count',\n",
    "                    'user.friends_count',\n",
    "                    'user.listed_count',\n",
    "                    'user.favourites_count',\n",
    "                    'user.statuses_count',\n",
    "                    'user.created_at'\n",
    "                   ]\n",
    "len(retwt_attributes) # 27"
   ]
  },
  {
   "cell_type": "code",
   "execution_count": 105,
   "metadata": {},
   "outputs": [
    {
     "data": {
      "text/plain": [
       "13"
      ]
     },
     "execution_count": 105,
     "metadata": {},
     "output_type": "execute_result"
    }
   ],
   "source": [
    "# selected attributes in user\n",
    "user_attr_tracking = ['id_str',\n",
    "                      'name',\n",
    "                      'screen_name',\n",
    "                      'url',\n",
    "                      'description',\n",
    "                      'protected',\n",
    "                      'verified',\n",
    "                      'followers_count',\n",
    "                      'friends_count',\n",
    "                      'listed_count',\n",
    "                      'favourites_count',\n",
    "                      'statuses_count',\n",
    "                      'created_at']\n",
    "\n",
    "len(user_attr_tracking) #13"
   ]
  },
  {
   "cell_type": "markdown",
   "metadata": {},
   "source": [
    "### user_store function"
   ]
  },
  {
   "cell_type": "code",
   "execution_count": 106,
   "metadata": {},
   "outputs": [],
   "source": [
    "def user_store(user, userid_table):\n",
    "    \n",
    "    # if user has not been seen before, add id to userid_table\n",
    "    if user['id_str'] not in userid_table:\n",
    "        userid_table.append(user['id_str'])\n",
    "        \n",
    "        # update datastores with defined tracking attributes\n",
    "        user_attr_selected = {key: user[key] for key in user_attr_tracking if key in user}\n",
    "        user_list.append(user_attr_selected)"
   ]
  },
  {
   "cell_type": "code",
   "execution_count": 107,
   "metadata": {},
   "outputs": [],
   "source": [
    "# test test\n",
    "\n",
    "twt_id_record = []\n",
    "userid_table = [] # store userid\n",
    "user_list = [] # store every attributes of user needed tracking\n",
    "\n",
    "with open(\"./data/corona-out-3\", \"r\") as f1:\n",
    "    for line in f1:\n",
    "        try:\n",
    "            data = json.loads(line)\n",
    "            if data[\"id_str\"] not in twt_id_record:\n",
    "                twt_id_record.append(data[\"id_str\"])\n",
    "            # if tweet has been seen before \n",
    "            else:\n",
    "                # ignore this tweet, go to next iteration of loop\n",
    "                continue\n",
    "            \n",
    "            user = data['user']\n",
    "            user_store(user, userid_table)\n",
    "        except:\n",
    "            continue"
   ]
  },
  {
   "cell_type": "code",
   "execution_count": 108,
   "metadata": {},
   "outputs": [
    {
     "data": {
      "text/plain": [
       "80943"
      ]
     },
     "execution_count": 108,
     "metadata": {},
     "output_type": "execute_result"
    }
   ],
   "source": [
    "len(user_list)"
   ]
  },
  {
   "cell_type": "markdown",
   "metadata": {},
   "source": [
    "### tweets / retweet store"
   ]
  },
  {
   "cell_type": "code",
   "execution_count": 125,
   "metadata": {},
   "outputs": [],
   "source": [
    "# this is the whole procedure of extract tweets/retweets to store into Cache from original dataset\n",
    "\n",
    "twt_id_record = []\n",
    "userid_table = [] # store userid\n",
    "user_list = [] # store tracking attributes of user\n",
    "retwt_list = [] # list to store retweets\n",
    "retwt_lines = 0 # count # of retweets\n",
    "twt_list = []\n",
    "twt_lines = 0\n",
    "\n",
    "with open(\"./data/corona-out-3\", \"r\") as f1:\n",
    "    for line in f1:\n",
    "        try:\n",
    "            data = json.loads(line)\n",
    "            if data[\"id_str\"] not in twt_id_record:\n",
    "                twt_id_record.append(data[\"id_str\"])\n",
    "            # if tweet has been seen before \n",
    "            else:\n",
    "                # ignore this tweet, go to next iteration of loop\n",
    "                continue\n",
    "            \n",
    "            user = data['user']\n",
    "            user_store(user, userid_table)\n",
    "            \n",
    "            \n",
    "            if ( data['text'].startswith('RT') ):\n",
    "                # try:\n",
    "                    # update retweet information\n",
    "                    selected_dict = {}\n",
    "                    retwt_lines = retwt_lines + 1\n",
    "                    for attribute in retwt_attributes:\n",
    "                        try:\n",
    "                            # assigns the reference: any changes made to one will affect the other\n",
    "                            current_dict = data\n",
    "                            current_selected_dict = selected_dict\n",
    "                            # parent-child attributes\n",
    "                            for sub_attribute in attribute.split('.'):\n",
    "                                # parent attributes\n",
    "                                current_dict = current_dict[sub_attribute]\n",
    "                                # child attributes\n",
    "                                if sub_attribute == attribute.split('.')[-1]:\n",
    "                                    current_selected_dict[sub_attribute] = current_dict\n",
    "                                else:\n",
    "                                    if sub_attribute not in current_selected_dict:\n",
    "                                        current_selected_dict[sub_attribute] = {}\n",
    "                                    current_selected_dict = current_selected_dict[sub_attribute]\n",
    "                        except:\n",
    "                            continue\n",
    "                    retwt_list.append(selected_dict)\n",
    "                # except:\n",
    "                    # continue\n",
    "\n",
    "                # pass  # does nothing right now\n",
    "                \n",
    "            else:\n",
    "                # add the new tweet to datastore\n",
    "                    selected_dict = {}\n",
    "                    twt_lines = twt_lines + 1\n",
    "                    for attribute in twt_attributes:\n",
    "                        try:\n",
    "                            # assigns the reference: any changes made to one will affect the other\n",
    "                            current_dict = data\n",
    "                            current_selected_dict = selected_dict\n",
    "                            # parent-child attributes\n",
    "                            for sub_attribute in attribute.split('.'):\n",
    "                                # parent attributes\n",
    "                                current_dict = current_dict[sub_attribute]\n",
    "                                # child attributes\n",
    "                                if sub_attribute == attribute.split('.')[-1]:\n",
    "                                    current_selected_dict[sub_attribute] = current_dict\n",
    "                                else:\n",
    "                                    if sub_attribute not in current_selected_dict:\n",
    "                                        current_selected_dict[sub_attribute] = {}\n",
    "                                    current_selected_dict = current_selected_dict[sub_attribute]\n",
    "                        except:\n",
    "                            continue\n",
    "                    twt_list.append(selected_dict)\n",
    "        except:\n",
    "            continue"
   ]
  },
  {
   "cell_type": "code",
   "execution_count": 126,
   "metadata": {},
   "outputs": [],
   "source": [
    "def parse_date(date_string):\n",
    "    # parse the created_at attributes to datetime formart\n",
    "    \n",
    "    date_format = \"%a %b %d %H:%M:%S %z %Y\"\n",
    "    date_object = time.strptime(date_string, date_format)\n",
    "    \n",
    "    year = date_object.tm_year\n",
    "    month = date_object.tm_mon\n",
    "    day = date_object.tm_mday\n",
    "    \n",
    "    new_date_object = datetime(year=year, month=month, day=day)\n",
    "    formatted_date = new_date_object.strftime(\"%Y-%m-%d\")\n",
    "    \n",
    "    return(formatted_date)"
   ]
  },
  {
   "cell_type": "code",
   "execution_count": 127,
   "metadata": {},
   "outputs": [],
   "source": [
    "# parse created_at in twt_list into datetime format\n",
    "\n",
    "for i in range(len(twt_list)):\n",
    "    twt_list[i]['created_at'] = parse_date(twt_list[i]['created_at'])\n",
    "    twt_list[i]['user']['created_at'] = parse_date(twt_list[i]['user']['created_at'])"
   ]
  },
  {
   "cell_type": "code",
   "execution_count": 128,
   "metadata": {},
   "outputs": [],
   "source": [
    "# parse created_at in retwt_list into datetime format\n",
    "\n",
    "for i in range(len(retwt_list)):\n",
    "    retwt_list[i]['created_at'] = parse_date(retwt_list[i]['created_at'])\n",
    "    retwt_list[i]['user']['created_at'] = parse_date(retwt_list[i]['user']['created_at'])"
   ]
  },
  {
   "cell_type": "code",
   "execution_count": 129,
   "metadata": {},
   "outputs": [
    {
     "data": {
      "text/plain": [
       "80943"
      ]
     },
     "execution_count": 129,
     "metadata": {},
     "output_type": "execute_result"
    }
   ],
   "source": [
    "len(userid_table)"
   ]
  },
  {
   "cell_type": "code",
   "execution_count": 130,
   "metadata": {},
   "outputs": [
    {
     "data": {
      "text/plain": [
       "80943"
      ]
     },
     "execution_count": 130,
     "metadata": {},
     "output_type": "execute_result"
    }
   ],
   "source": [
    "len(user_list)"
   ]
  },
  {
   "cell_type": "code",
   "execution_count": 131,
   "metadata": {},
   "outputs": [
    {
     "data": {
      "text/plain": [
       "40793"
      ]
     },
     "execution_count": 131,
     "metadata": {},
     "output_type": "execute_result"
    }
   ],
   "source": [
    "len(twt_list)"
   ]
  },
  {
   "cell_type": "code",
   "execution_count": 132,
   "metadata": {},
   "outputs": [
    {
     "data": {
      "text/plain": [
       "{'id_str': '2242948745',\n",
       " 'name': 'Thomas Krause',\n",
       " 'screen_name': 'tho1965',\n",
       " 'url': None,\n",
       " 'description': 'Sportredakteur @nordkurier 🏃\\u200d♂️🚴\\u200d♂️⚽️',\n",
       " 'protected': False,\n",
       " 'verified': False,\n",
       " 'followers_count': 173,\n",
       " 'friends_count': 685,\n",
       " 'listed_count': 9,\n",
       " 'favourites_count': 2184,\n",
       " 'statuses_count': 1865,\n",
       " 'created_at': 'Wed Dec 25 09:13:33 +0000 2013'}"
      ]
     },
     "execution_count": 132,
     "metadata": {},
     "output_type": "execute_result"
    }
   ],
   "source": [
    "user_list[1]"
   ]
  },
  {
   "cell_type": "code",
   "execution_count": 133,
   "metadata": {},
   "outputs": [
    {
     "data": {
      "text/plain": [
       "40793"
      ]
     },
     "execution_count": 133,
     "metadata": {},
     "output_type": "execute_result"
    }
   ],
   "source": [
    "twt_lines"
   ]
  },
  {
   "cell_type": "code",
   "execution_count": 134,
   "metadata": {},
   "outputs": [
    {
     "data": {
      "text/plain": [
       "40793"
      ]
     },
     "execution_count": 134,
     "metadata": {},
     "output_type": "execute_result"
    }
   ],
   "source": [
    "len(twt_list)"
   ]
  },
  {
   "cell_type": "code",
   "execution_count": 135,
   "metadata": {},
   "outputs": [
    {
     "data": {
      "text/plain": [
       "{'created_at': '2020-04-25',\n",
       " 'id_str': '1254022770746372096',\n",
       " 'text': 'Schöne Runde mit dem Rennrad ✌️\\n#sport #corona https://t.co/Uglj9YJPI1',\n",
       " 'in_reply_to_status_id_str': None,\n",
       " 'in_reply_to_user_id_str': None,\n",
       " 'in_reply_to_screen_name': None,\n",
       " 'quote_count': 0,\n",
       " 'reply_count': 0,\n",
       " 'retweet_count': 0,\n",
       " 'favorite_count': 0,\n",
       " 'entities': {'hashtags': [{'text': 'sport', 'indices': [32, 38]},\n",
       "   {'text': 'corona', 'indices': [39, 46]}]},\n",
       " 'extended_entities': {'media': [{'id': 1254022763834155008,\n",
       "    'id_str': '1254022763834155008',\n",
       "    'indices': [47, 70],\n",
       "    'media_url': 'http://pbs.twimg.com/media/EWcvD0KWoAAIMuu.jpg',\n",
       "    'media_url_https': 'https://pbs.twimg.com/media/EWcvD0KWoAAIMuu.jpg',\n",
       "    'url': 'https://t.co/Uglj9YJPI1',\n",
       "    'display_url': 'pic.twitter.com/Uglj9YJPI1',\n",
       "    'expanded_url': 'https://twitter.com/tho1965/status/1254022770746372096/photo/1',\n",
       "    'type': 'photo',\n",
       "    'sizes': {'thumb': {'w': 150, 'h': 150, 'resize': 'crop'},\n",
       "     'small': {'w': 680, 'h': 680, 'resize': 'fit'},\n",
       "     'medium': {'w': 1200, 'h': 1200, 'resize': 'fit'},\n",
       "     'large': {'w': 2048, 'h': 2048, 'resize': 'fit'}}}]},\n",
       " 'user': {'id_str': '2242948745',\n",
       "  'name': 'Thomas Krause',\n",
       "  'screen_name': 'tho1965',\n",
       "  'url': None,\n",
       "  'description': 'Sportredakteur @nordkurier 🏃\\u200d♂️🚴\\u200d♂️⚽️',\n",
       "  'protected': False,\n",
       "  'verified': False,\n",
       "  'followers_count': 173,\n",
       "  'friends_count': 685,\n",
       "  'listed_count': 9,\n",
       "  'favourites_count': 2184,\n",
       "  'statuses_count': 1865,\n",
       "  'created_at': '2013-12-25'}}"
      ]
     },
     "execution_count": 135,
     "metadata": {},
     "output_type": "execute_result"
    }
   ],
   "source": [
    "twt_list[1]"
   ]
  },
  {
   "cell_type": "code",
   "execution_count": 136,
   "metadata": {},
   "outputs": [
    {
     "data": {
      "text/plain": [
       "61101"
      ]
     },
     "execution_count": 136,
     "metadata": {},
     "output_type": "execute_result"
    }
   ],
   "source": [
    "retwt_lines"
   ]
  },
  {
   "cell_type": "code",
   "execution_count": 137,
   "metadata": {},
   "outputs": [
    {
     "data": {
      "text/plain": [
       "61101"
      ]
     },
     "execution_count": 137,
     "metadata": {},
     "output_type": "execute_result"
    }
   ],
   "source": [
    "len(retwt_list)"
   ]
  },
  {
   "cell_type": "code",
   "execution_count": 138,
   "metadata": {},
   "outputs": [
    {
     "data": {
      "text/plain": [
       "{'created_at': '2020-04-25',\n",
       " 'id_str': '1254022772877131777',\n",
       " 'text': 'RT @schrodingerk42: @ozkan_yalim @DurmusYillmaz \\nAçık kapalı görüşler yasak olduğu için sadece telefon görüşlerinde kendisinden haber alabi…',\n",
       " 'in_reply_to_status_id_str': None,\n",
       " 'in_reply_to_user_id_str': None,\n",
       " 'in_reply_to_screen_name': None,\n",
       " 'quote_count': 0,\n",
       " 'reply_count': 0,\n",
       " 'retweet_count': 0,\n",
       " 'favorite_count': 0,\n",
       " 'entities': {'hashtags': []},\n",
       " 'retweeted_status': {'id_str': '1252576316135739392'},\n",
       " 'user': {'id_str': '1206650133976408064',\n",
       "  'name': 'Büşra Öztaş',\n",
       "  'screen_name': 'schrodingerk42',\n",
       "  'url': None,\n",
       "  'description': None,\n",
       "  'protected': False,\n",
       "  'verified': False,\n",
       "  'followers_count': 318,\n",
       "  'friends_count': 220,\n",
       "  'listed_count': 0,\n",
       "  'favourites_count': 1974,\n",
       "  'statuses_count': 405,\n",
       "  'created_at': '2019-12-16'}}"
      ]
     },
     "execution_count": 138,
     "metadata": {},
     "output_type": "execute_result"
    }
   ],
   "source": [
    "retwt_list[1]"
   ]
  },
  {
   "cell_type": "code",
   "execution_count": 139,
   "metadata": {},
   "outputs": [],
   "source": [
    "# # # encapsulation test: don't know why it didn't work as a function\n",
    "\n",
    "# # store tweets/retweets data & count nums\n",
    "# def retwt_store(data):\n",
    "#     # list for store tweets/retweets data\n",
    "#     selected_dict = {}\n",
    "#     retwt_lines = retwt_lines + 1\n",
    "#     for attribute in retwt_attributes:\n",
    "#         try:\n",
    "#             # assigns the reference: any changes made to one will affect the other\n",
    "#             current_dict = data\n",
    "#             current_selected_dict = selected_dict\n",
    "#             # parent-child attributes\n",
    "#             for sub_attribute in attribute.split('.'):\n",
    "#                 # parent attributes\n",
    "#                 current_dict = current_dict[sub_attribute]\n",
    "#                 # child attributes\n",
    "#                 if sub_attribute == attribute.split('.')[-1]:\n",
    "#                     current_selected_dict[sub_attribute] = current_dict\n",
    "#                 else:\n",
    "#                     if sub_attribute not in current_selected_dict:\n",
    "#                         current_selected_dict[sub_attribute] = {}\n",
    "#                     current_selected_dict = current_selected_dict[sub_attribute]\n",
    "#         except:\n",
    "#             continue\n",
    "#     retwt_list.append(selected_dict)"
   ]
  },
  {
   "cell_type": "markdown",
   "metadata": {},
   "source": [
    "## Store in Redis (test: user_list; tweet)"
   ]
  },
  {
   "cell_type": "code",
   "execution_count": 341,
   "metadata": {},
   "outputs": [],
   "source": [
    "import redis # for cache\n",
    "import pymongo # for NoSQL data store\n",
    "\n",
    "from redis.commands.json.path import Path\n",
    "import redis.commands.search.aggregation as aggregations\n",
    "import redis.commands.search.reducers as reducers\n",
    "from redis.commands.search.field import TextField, NumericField, TagField\n",
    "from redis.commands.search.indexDefinition import IndexDefinition, IndexType\n",
    "from redis.commands.search.query import NumericFilter, Query\n",
    "\n",
    "# connect to a Redis cluster\n",
    "from redis.cluster import RedisCluster\n",
    "from string import ascii_letters\n",
    "import random"
   ]
  },
  {
   "cell_type": "code",
   "execution_count": null,
   "metadata": {},
   "outputs": [],
   "source": [
    "# for remote connection\n",
    "# redis_client = redis.Redis(host='172.31.139.108', port=6379, decode_responses=True, password = \"7ptbtptp\")\n",
    "# redis_client = redis.Redis(host=172.31.139.108, port=6379, decode_responses=True, password = \"7ptbtptp\")"
   ]
  },
  {
   "cell_type": "code",
   "execution_count": 363,
   "metadata": {},
   "outputs": [],
   "source": [
    "# connect to redis\n",
    "redis_client = redis.Redis(host='localhost', port=6379, decode_responses=True, password = \"7ptbtptp\")\n",
    "redis_pool = redis.ConnectionPool(host='localhost', port=6379, decode_responses=True, password = \"7ptbtptp\")"
   ]
  },
  {
   "cell_type": "code",
   "execution_count": 364,
   "metadata": {},
   "outputs": [
    {
     "data": {
      "text/plain": [
       "True"
      ]
     },
     "execution_count": 364,
     "metadata": {},
     "output_type": "execute_result"
    }
   ],
   "source": [
    "redis_client.config_set('maxmemory', '50mb') # ~ 20000 entries\n",
    "redis_client.config_set('maxmemory-policy', 'volatile-lfu') # eviction policy determines what happens when Redis reaches its memory limit\n",
    "# volatile-lfu: Evicts the least frequently used keys from those that have a TTL set."
   ]
  },
  {
   "cell_type": "code",
   "execution_count": 448,
   "metadata": {},
   "outputs": [],
   "source": [
    "# initiate: remove all the data exists.\n",
    "for key in redis_client.keys():\n",
    "    redis_client.delete(key)"
   ]
  },
  {
   "cell_type": "code",
   "execution_count": 449,
   "metadata": {},
   "outputs": [
    {
     "data": {
      "text/plain": [
       "0"
      ]
     },
     "execution_count": 449,
     "metadata": {},
     "output_type": "execute_result"
    }
   ],
   "source": [
    "# check keys in the Redis database\n",
    "len(redis_client.keys())"
   ]
  },
  {
   "cell_type": "code",
   "execution_count": 367,
   "metadata": {},
   "outputs": [],
   "source": [
    "import time\n",
    "import datetime\n",
    "from datetime import datetime, date\n",
    "from typing import List, Optional\n",
    "# Redis OM uses Pydantic to validate data based on the type annotations assigned to fields in a model class.\n",
    "from pydantic import BaseModel, NonNegativeInt, HttpUrl, AnyUrl, ValidationError # every Redis OM model is also a Pydantic model\n",
    "from redis_om import (EmbeddedJsonModel, Field, JsonModel, HashModel, Migrator, NotFoundError, get_redis_connection)"
   ]
  },
  {
   "cell_type": "markdown",
   "metadata": {},
   "source": [
    "[Field Types supported by Pydantic](https://docs.pydantic.dev/usage/types/)"
   ]
  },
  {
   "cell_type": "code",
   "execution_count": 368,
   "metadata": {},
   "outputs": [],
   "source": [
    "# del twt_user_model # for initiating\n",
    "# del InnerHashtagModel\n",
    "# del EntitiesModel\n",
    "# del twt_model"
   ]
  },
  {
   "cell_type": "code",
   "execution_count": 445,
   "metadata": {},
   "outputs": [],
   "source": [
    "# build an embedded sub-model twt_user with Redis OM\n",
    "\n",
    "class twt_user_model(EmbeddedJsonModel):\n",
    "    id_str: str = Field(index=True)\n",
    "    name: str = Field(index=True, full_text_search=True)\n",
    "    screen_name: str = Field(index=True, full_text_search=True)\n",
    "    url: Optional[AnyUrl]\n",
    "    description: Optional[str] = Field(index=False, full_text_search=True) # perform full text searches on the values\n",
    "    protected: Optional[bool]\n",
    "    verified: Optional[bool]\n",
    "    # followers_count: Optional[NonNegativeInt] = Field(index=True)\n",
    "    # friends_count: Optional[NonNegativeInt] = Field(index=True)\n",
    "    followers_count: int = Field(index=True)\n",
    "    friends_count: int = Field(index=True)\n",
    "    listed_count: Optional[NonNegativeInt]\n",
    "    favourites_count: Optional[NonNegativeInt]\n",
    "    statuses_count: Optional[NonNegativeInt] = Field(index=True)\n",
    "    created_at: date = Field(index=True)\n",
    "    \n",
    "    class Meta:\n",
    "        # A redis.asyncio.Redis or redis.Redis client instance that the model will use to communicate with Redis.\n",
    "        database = get_redis_connection(password = \"7ptbtptp\")"
   ]
  },
  {
   "cell_type": "code",
   "execution_count": 446,
   "metadata": {},
   "outputs": [],
   "source": [
    "# ver.2 build embedded sub-models for hashtags in entities\n",
    "\n",
    "class InnerHashtagModel(EmbeddedJsonModel):\n",
    "    text: Optional[str] = Field(index=True)\n",
    "    indices: Optional[List[int]]\n",
    "    \n",
    "    class Meta:\n",
    "        database = get_redis_connection(password = \"7ptbtptp\")\n",
    "        index_fields = ['text']\n",
    "\n",
    "# class EntitiesModel(EmbeddedJsonModel):\n",
    "#     hashtags: List[InnerHashtagModel]\n",
    "\n",
    "\n",
    "class EntitiesModel(EmbeddedJsonModel):\n",
    "    hashtags: List[InnerHashtagModel]\n",
    "    \n",
    "    class Meta:\n",
    "        # A redis.asyncio.Redis or redis.Redis client instance that the model will use to communicate with Redis.\n",
    "        database = get_redis_connection(password = \"7ptbtptp\")"
   ]
  },
  {
   "cell_type": "code",
   "execution_count": 371,
   "metadata": {},
   "outputs": [
    {
     "data": {
      "text/plain": [
       "{'created_at': '2020-04-25',\n",
       " 'id_str': '1254022770746372096',\n",
       " 'text': 'Schöne Runde mit dem Rennrad ✌️\\n#sport #corona https://t.co/Uglj9YJPI1',\n",
       " 'in_reply_to_status_id_str': None,\n",
       " 'in_reply_to_user_id_str': None,\n",
       " 'in_reply_to_screen_name': None,\n",
       " 'quote_count': 0,\n",
       " 'reply_count': 0,\n",
       " 'retweet_count': 0,\n",
       " 'favorite_count': 0,\n",
       " 'entities': {'hashtags': [{'text': 'sport', 'indices': [32, 38]},\n",
       "   {'text': 'corona', 'indices': [39, 46]}]},\n",
       " 'extended_entities': {'media': [{'id': 1254022763834155008,\n",
       "    'id_str': '1254022763834155008',\n",
       "    'indices': [47, 70],\n",
       "    'media_url': 'http://pbs.twimg.com/media/EWcvD0KWoAAIMuu.jpg',\n",
       "    'media_url_https': 'https://pbs.twimg.com/media/EWcvD0KWoAAIMuu.jpg',\n",
       "    'url': 'https://t.co/Uglj9YJPI1',\n",
       "    'display_url': 'pic.twitter.com/Uglj9YJPI1',\n",
       "    'expanded_url': 'https://twitter.com/tho1965/status/1254022770746372096/photo/1',\n",
       "    'type': 'photo',\n",
       "    'sizes': {'thumb': {'w': 150, 'h': 150, 'resize': 'crop'},\n",
       "     'small': {'w': 680, 'h': 680, 'resize': 'fit'},\n",
       "     'medium': {'w': 1200, 'h': 1200, 'resize': 'fit'},\n",
       "     'large': {'w': 2048, 'h': 2048, 'resize': 'fit'}}}]},\n",
       " 'user': {'id_str': '2242948745',\n",
       "  'name': 'Thomas Krause',\n",
       "  'screen_name': 'tho1965',\n",
       "  'url': None,\n",
       "  'description': 'Sportredakteur @nordkurier 🏃\\u200d♂️🚴\\u200d♂️⚽️',\n",
       "  'protected': False,\n",
       "  'verified': False,\n",
       "  'followers_count': 173,\n",
       "  'friends_count': 685,\n",
       "  'listed_count': 9,\n",
       "  'favourites_count': 2184,\n",
       "  'statuses_count': 1865,\n",
       "  'created_at': '2013-12-25'}}"
      ]
     },
     "execution_count": 371,
     "metadata": {},
     "output_type": "execute_result"
    }
   ],
   "source": [
    "twt_list[1]"
   ]
  },
  {
   "cell_type": "markdown",
   "metadata": {},
   "source": [
    "### twt_model for original tweets"
   ]
  },
  {
   "cell_type": "code",
   "execution_count": 447,
   "metadata": {},
   "outputs": [],
   "source": [
    "# build a twt_model (JsonModel) for original tweet data\n",
    "class twt_model(JsonModel):\n",
    "    created_at: date = Field(index=True) # so many outdated docs...finally find this...orz\n",
    "    id_str: str = Field(index=True)\n",
    "    text: str = Field(index=True, full_text_search=True) # perform full text searches on the values\n",
    "    in_reply_to_status_id_str: Optional[str] = Field(index=False, full_text_search=True)\n",
    "    in_reply_to_user_id_str: Optional[str] = Field(index=False, full_text_search=True)\n",
    "    in_reply_to_screen_name: Optional[str] = Field(index=False, full_text_search=True)\n",
    "    quoted_status_id_str: Optional[str] = Field(index=False, full_text_search=True)\n",
    "    # quoted_status: Optional[str]\n",
    "    # quote_count: Optional[NonNegativeInt] = Field(index=True)\n",
    "    # reply_count: Optional[NonNegativeInt] = Field(index=True)\n",
    "    # retweet_count: Optional[NonNegativeInt] = Field(index=True)\n",
    "    # favorite_count: Optional[NonNegativeInt] = Field(index=True)\n",
    "    quote_count: int = Field(index=True)\n",
    "    reply_count: int = Field(index=True)\n",
    "    retweet_count: int = Field(index=True)\n",
    "    favorite_count: int = Field(index=True)\n",
    "    # entities: Optional[dict] = Field(index=True)\n",
    "    entities: EntitiesModel\n",
    "    extended_entities: Optional[dict]\n",
    "    user: twt_user_model\n",
    "    \n",
    "    class Meta:\n",
    "        # A redis.asyncio.Redis or redis.Redis client instance that the model will use to communicate with Redis.\n",
    "        database = get_redis_connection(password = \"7ptbtptp\")"
   ]
  },
  {
   "cell_type": "code",
   "execution_count": 373,
   "metadata": {},
   "outputs": [],
   "source": [
    "# figure out what to store in cache, based on the query"
   ]
  },
  {
   "cell_type": "code",
   "execution_count": null,
   "metadata": {},
   "outputs": [],
   "source": []
  },
  {
   "cell_type": "code",
   "execution_count": 450,
   "metadata": {},
   "outputs": [],
   "source": [
    "# store twt_list data(1/10) into Redis line-wise\n",
    "\n",
    "for i in range(int(len(twt_list)/10)):\n",
    "    new_twt = twt_model(**twt_list[i])\n",
    "    new_twt.save()\n",
    "    new_twt.expire(24 * 3600) # time to live: 1 day"
   ]
  },
  {
   "cell_type": "code",
   "execution_count": 451,
   "metadata": {},
   "outputs": [],
   "source": [
    "# len(twt_list) # 40793"
   ]
  },
  {
   "cell_type": "code",
   "execution_count": 452,
   "metadata": {},
   "outputs": [],
   "source": [
    "# use Migrator to create the indexes for any models that have indexed fields\n",
    "Migrator().run()"
   ]
  },
  {
   "cell_type": "code",
   "execution_count": 453,
   "metadata": {},
   "outputs": [
    {
     "data": {
      "text/plain": [
       "4084"
      ]
     },
     "execution_count": 453,
     "metadata": {},
     "output_type": "execute_result"
    }
   ],
   "source": [
    "# check storage status\n",
    "len(redis_client.keys()) # 40793/10"
   ]
  },
  {
   "cell_type": "markdown",
   "metadata": {},
   "source": [
    "### retwt_model for retweets"
   ]
  },
  {
   "cell_type": "code",
   "execution_count": null,
   "metadata": {},
   "outputs": [],
   "source": [
    "# TBA..."
   ]
  },
  {
   "cell_type": "code",
   "execution_count": null,
   "metadata": {},
   "outputs": [],
   "source": []
  },
  {
   "cell_type": "code",
   "execution_count": null,
   "metadata": {},
   "outputs": [],
   "source": []
  },
  {
   "cell_type": "code",
   "execution_count": null,
   "metadata": {},
   "outputs": [],
   "source": []
  },
  {
   "cell_type": "markdown",
   "metadata": {},
   "source": [
    "## Querying: Querying for Models With Expressions | by & select"
   ]
  },
  {
   "cell_type": "markdown",
   "metadata": {},
   "source": [
    "### by pk"
   ]
  },
  {
   "cell_type": "code",
   "execution_count": 393,
   "metadata": {
    "tags": []
   },
   "outputs": [],
   "source": [
    "# twt_model query by key\n",
    "\n",
    "# twt_model.get(\"01GYVBCYF7PV4NR6R7BGMKP0YQ\").dict() # Models generate a globally unique primary key automatically without needing to talk to Redis."
   ]
  },
  {
   "cell_type": "markdown",
   "metadata": {},
   "source": [
    "### by user"
   ]
  },
  {
   "cell_type": "code",
   "execution_count": 463,
   "metadata": {},
   "outputs": [],
   "source": [
    "redis_client.get(\"01GYWT4GA4Z6NP80NH88Y1QYJC\")"
   ]
  },
  {
   "cell_type": "code",
   "execution_count": 411,
   "metadata": {},
   "outputs": [],
   "source": [
    "def rsearch_by_screen_name(name):\n",
    "    # by screen_name\n",
    "      try:\n",
    "            person = twt_model.find(twt_model.user.screen_name == name).all()\n",
    "            for i in range(len(person)):\n",
    "                print(test[i])\n",
    "        \n",
    "      except NotFoundError:\n",
    "        return \"No such content\""
   ]
  },
  {
   "cell_type": "code",
   "execution_count": 413,
   "metadata": {},
   "outputs": [
    {
     "name": "stdout",
     "output_type": "stream",
     "text": [
      "pk='01GYWT4BD8QSC2Q9GWQXBPPN59' created_at=datetime.date(2020, 4, 25) id_str='1254023924314185735' text='Corona Vaccine Ka Tajurba Bandaron (Monkey) Pr Kamiyab.\\n*\\nChin Ne Corona Vaccine Ki Testing K Liye Pakistan Se Madad Mang Li.' in_reply_to_status_id_str=None in_reply_to_user_id_str=None in_reply_to_screen_name=None quoted_status_id_str=None quote_count=0 reply_count=0 retweet_count=0 favorite_count=0 entities=EntitiesModel(pk='01GYWT4BD8NQXRSB6BDX78222J', hashtags=[]) extended_entities=None user=twt_user_model(pk='01GYWT4BD8BFNRJD4ZDVV9VTH5', id_str='635137913', name='GeoTankTez Official', screen_name='GeoTankTez', url=None, description='Welcome To GeoTankTez Thankyou for activation.For  Breaking News , On your Mobile Also, Type Follow GeoTankTez And send to 40404.Ph# (03469491857)', protected=False, verified=False, followers_count=1932, friends_count=11, listed_count=5, favourites_count=5, statuses_count=15048, created_at=datetime.date(2012, 7, 14))\n"
     ]
    }
   ],
   "source": [
    "rsearch_by_screen_name(\"tho1965\")"
   ]
  },
  {
   "cell_type": "code",
   "execution_count": 395,
   "metadata": {},
   "outputs": [
    {
     "data": {
      "text/plain": [
       "[twt_model(pk='01GYWT4BD8QSC2Q9GWQXBPPN59', created_at=datetime.date(2020, 4, 25), id_str='1254023924314185735', text='Corona Vaccine Ka Tajurba Bandaron (Monkey) Pr Kamiyab.\\n*\\nChin Ne Corona Vaccine Ki Testing K Liye Pakistan Se Madad Mang Li.', in_reply_to_status_id_str=None, in_reply_to_user_id_str=None, in_reply_to_screen_name=None, quoted_status_id_str=None, quote_count=0, reply_count=0, retweet_count=0, favorite_count=0, entities=EntitiesModel(pk='01GYWT4BD8NQXRSB6BDX78222J', hashtags=[]), extended_entities=None, user=twt_user_model(pk='01GYWT4BD8BFNRJD4ZDVV9VTH5', id_str='635137913', name='GeoTankTez Official', screen_name='GeoTankTez', url=None, description='Welcome To GeoTankTez Thankyou for activation.For  Breaking News , On your Mobile Also, Type Follow GeoTankTez And send to 40404.Ph# (03469491857)', protected=False, verified=False, followers_count=1932, friends_count=11, listed_count=5, favourites_count=5, statuses_count=15048, created_at=datetime.date(2012, 7, 14)))]"
      ]
     },
     "execution_count": 395,
     "metadata": {},
     "output_type": "execute_result"
    }
   ],
   "source": [
    "twt_model.find(twt_model.user.screen_name == \"GeoTankTez\").all()"
   ]
  },
  {
   "cell_type": "code",
   "execution_count": 621,
   "metadata": {},
   "outputs": [],
   "source": [
    "# test = twt_model.find(twt_model.user.screen_name == \"Sumaj_Warmi\").all()\n",
    "# test[0].entities[\"hashtags\"][0]['text'] # extract text from entities: dict -> list -> dict"
   ]
  },
  {
   "cell_type": "code",
   "execution_count": 379,
   "metadata": {},
   "outputs": [
    {
     "data": {
      "text/plain": [
       "[twt_model(pk='01GYWT4BD8QSC2Q9GWQXBPPN59', created_at=datetime.date(2020, 4, 25), id_str='1254023924314185735', text='Corona Vaccine Ka Tajurba Bandaron (Monkey) Pr Kamiyab.\\n*\\nChin Ne Corona Vaccine Ki Testing K Liye Pakistan Se Madad Mang Li.', in_reply_to_status_id_str=None, in_reply_to_user_id_str=None, in_reply_to_screen_name=None, quoted_status_id_str=None, quote_count=0, reply_count=0, retweet_count=0, favorite_count=0, entities=EntitiesModel(pk='01GYWT4BD8NQXRSB6BDX78222J', hashtags=[]), extended_entities=None, user=twt_user_model(pk='01GYWT4BD8BFNRJD4ZDVV9VTH5', id_str='635137913', name='GeoTankTez Official', screen_name='GeoTankTez', url=None, description='Welcome To GeoTankTez Thankyou for activation.For  Breaking News , On your Mobile Also, Type Follow GeoTankTez And send to 40404.Ph# (03469491857)', protected=False, verified=False, followers_count=1932, friends_count=11, listed_count=5, favourites_count=5, statuses_count=15048, created_at=datetime.date(2012, 7, 14)))]"
      ]
     },
     "execution_count": 379,
     "metadata": {},
     "output_type": "execute_result"
    }
   ],
   "source": [
    "twt_model.find(twt_model.user.id_str == \"635137913\").all()"
   ]
  },
  {
   "cell_type": "code",
   "execution_count": 380,
   "metadata": {},
   "outputs": [
    {
     "data": {
      "text/plain": [
       "[twt_model(pk='01GYWT47S36QHNQFYP25JMNJFG', created_at=datetime.date(2020, 4, 25), id_str='1254022770746372096', text='Schöne Runde mit dem Rennrad ✌️\\n#sport #corona https://t.co/Uglj9YJPI1', in_reply_to_status_id_str=None, in_reply_to_user_id_str=None, in_reply_to_screen_name=None, quoted_status_id_str=None, quote_count=0, reply_count=0, retweet_count=0, favorite_count=0, entities=EntitiesModel(pk='01GYWT47S4FTP6TYQS7TNBN4X4', hashtags=[InnerHashtagModel(pk='01GYWT47SB6DQA3YYV4QW9RECK', text='sport', indices=[32, 38]), InnerHashtagModel(pk='01GYWT47SBSPSZVYK526KD86B5', text='corona', indices=[39, 46])]), extended_entities={'media': [{'id': 1254022763834155008, 'id_str': '1254022763834155008', 'indices': [47, 70], 'media_url': 'http://pbs.twimg.com/media/EWcvD0KWoAAIMuu.jpg', 'media_url_https': 'https://pbs.twimg.com/media/EWcvD0KWoAAIMuu.jpg', 'url': 'https://t.co/Uglj9YJPI1', 'display_url': 'pic.twitter.com/Uglj9YJPI1', 'expanded_url': 'https://twitter.com/tho1965/status/1254022770746372096/photo/1', 'type': 'photo', 'sizes': {'thumb': {'w': 150, 'h': 150, 'resize': 'crop'}, 'small': {'w': 680, 'h': 680, 'resize': 'fit'}, 'medium': {'w': 1200, 'h': 1200, 'resize': 'fit'}, 'large': {'w': 2048, 'h': 2048, 'resize': 'fit'}}}]}, user=twt_user_model(pk='01GYWT47SB5PM3PTN777JETE0T', id_str='2242948745', name='Thomas Krause', screen_name='tho1965', url=None, description='Sportredakteur @nordkurier 🏃\\u200d♂️🚴\\u200d♂️⚽️', protected=False, verified=False, followers_count=173, friends_count=685, listed_count=9, favourites_count=2184, statuses_count=1865, created_at=datetime.date(2013, 12, 25)))]"
      ]
     },
     "execution_count": 380,
     "metadata": {},
     "output_type": "execute_result"
    }
   ],
   "source": [
    "# by screen name\n",
    "\n",
    "twt_model.find(twt_model.user.screen_name == \"tho1965\").all()"
   ]
  },
  {
   "cell_type": "markdown",
   "metadata": {},
   "source": [
    "### by str"
   ]
  },
  {
   "cell_type": "code",
   "execution_count": null,
   "metadata": {},
   "outputs": [],
   "source": []
  },
  {
   "cell_type": "code",
   "execution_count": 381,
   "metadata": {},
   "outputs": [
    {
     "data": {
      "text/plain": [
       "5"
      ]
     },
     "execution_count": 381,
     "metadata": {},
     "output_type": "execute_result"
    }
   ],
   "source": [
    "# search by str\n",
    "\n",
    "len(twt_model.find(twt_model.text % \"happy\").all())"
   ]
  },
  {
   "cell_type": "markdown",
   "metadata": {},
   "source": [
    "### by hashtag"
   ]
  },
  {
   "cell_type": "code",
   "execution_count": 382,
   "metadata": {},
   "outputs": [
    {
     "data": {
      "text/plain": [
       "210"
      ]
     },
     "execution_count": 382,
     "metadata": {},
     "output_type": "execute_result"
    }
   ],
   "source": [
    "len(twt_model.find(twt_model.entities.hashtags.text == \"Corona\").all())"
   ]
  },
  {
   "cell_type": "code",
   "execution_count": 385,
   "metadata": {},
   "outputs": [
    {
     "data": {
      "text/plain": [
       "twt_model(pk='01GYWT4FKKN9GJ4P362JXW9KZN', created_at=datetime.date(2020, 4, 25), id_str='1254025437602250754', text='@DesiPoliticks Was he trying to spread corona by urinating? #BlueTwitter Looks like he is on a \"mission\".', in_reply_to_status_id_str='1254003610909839360', in_reply_to_user_id_str='21211093', in_reply_to_screen_name='DesiPoliticks', quoted_status_id_str=None, quote_count=0, reply_count=0, retweet_count=0, favorite_count=0, entities=EntitiesModel(pk='01GYWT4FKKEJDTK5EKEHVP2783', hashtags=[InnerHashtagModel(pk='01GYWT4FKM8YSETMPM3GMPA920', text='BlueTwitter', indices=[60, 72])]), extended_entities=None, user=twt_user_model(pk='01GYWT4FKMNF1R3VJVK9K8VSPT', id_str='4874472577', name='bilalpha', screen_name='bilalpha', url=None, description='|Indian | |Intrested in Current Affairs | ♥ @dota2', protected=False, verified=False, followers_count=996, friends_count=441, listed_count=4, favourites_count=3521, statuses_count=2290, created_at=datetime.date(2016, 2, 7)))"
      ]
     },
     "execution_count": 385,
     "metadata": {},
     "output_type": "execute_result"
    }
   ],
   "source": [
    "twt_model.find(twt_model.entities.hashtags.text == \"BlueTwitter\").all()[1]"
   ]
  },
  {
   "cell_type": "code",
   "execution_count": 190,
   "metadata": {},
   "outputs": [
    {
     "data": {
      "text/plain": [
       "4079"
      ]
     },
     "execution_count": 190,
     "metadata": {},
     "output_type": "execute_result"
    }
   ],
   "source": [
    "# len(twt_model.find(twt_model.entities.hashtags.text == \"noHashTag\").all())"
   ]
  },
  {
   "cell_type": "code",
   "execution_count": 339,
   "metadata": {},
   "outputs": [
    {
     "data": {
      "text/plain": [
       "[]"
      ]
     },
     "execution_count": 339,
     "metadata": {},
     "output_type": "execute_result"
    }
   ],
   "source": [
    "# twt_model.find(twt_model.entities.hashtags.text == \"COVID19InTurkeysPrisons\").all()"
   ]
  },
  {
   "cell_type": "markdown",
   "metadata": {},
   "source": [
    "### by some number"
   ]
  },
  {
   "cell_type": "code",
   "execution_count": 432,
   "metadata": {},
   "outputs": [
    {
     "data": {
      "text/plain": [
       "{'id_str': '2242948745',\n",
       " 'name': 'Thomas Krause',\n",
       " 'screen_name': 'tho1965',\n",
       " 'url': None,\n",
       " 'description': 'Sportredakteur @nordkurier 🏃\\u200d♂️🚴\\u200d♂️⚽️',\n",
       " 'protected': False,\n",
       " 'verified': False,\n",
       " 'followers_count': 173,\n",
       " 'friends_count': 685,\n",
       " 'listed_count': 9,\n",
       " 'favourites_count': 2184,\n",
       " 'statuses_count': 1865,\n",
       " 'created_at': '2013-12-25'}"
      ]
     },
     "execution_count": 432,
     "metadata": {},
     "output_type": "execute_result"
    }
   ],
   "source": [
    "twt_list[1][\"user\"]"
   ]
  },
  {
   "cell_type": "code",
   "execution_count": 419,
   "metadata": {},
   "outputs": [],
   "source": [
    "top_tweeter = twt_model.find(\n",
    "    twt_model.user.followers_count >= 2000000).sort_by(\"id_str\").all()"
   ]
  },
  {
   "cell_type": "code",
   "execution_count": 50,
   "metadata": {},
   "outputs": [],
   "source": [
    "top_tweeter = twt_model.find(\n",
    "    twt_model.user.followers_count >= 2000000).all()"
   ]
  },
  {
   "cell_type": "code",
   "execution_count": 51,
   "metadata": {},
   "outputs": [
    {
     "name": "stdout",
     "output_type": "stream",
     "text": [
      "  user_screen_name  followers_count\n",
      "0    skynewsarabia        5652459.0\n",
      "1    skynewsarabia        5652410.0\n",
      "2       la_patilla        7121282.0\n",
      "3         detikcom       15884929.0\n",
      "4   casspernyovest        2702055.0\n"
     ]
    }
   ],
   "source": [
    "schema = {'user_screen_name': [], 'followers_count': []}\n",
    "top_tweeter_df = pd.DataFrame(schema)\n",
    "\n",
    "for i in range(len(top_tweeter)):\n",
    "    top_tweeter_df.at[i, 'user_screen_name'] = top_tweeter[i].user.screen_name\n",
    "    top_tweeter_df.at[i, 'followers_count'] = top_tweeter[i].user.followers_count\n",
    "    \n",
    "print(top_tweeter_df)"
   ]
  },
  {
   "cell_type": "code",
   "execution_count": 657,
   "metadata": {},
   "outputs": [],
   "source": [
    "# # search by some number: tweeter with the mamixmum number of followers\n",
    "\n",
    "# top_tweeter = twt_model.find(\n",
    "#     twt_model.user.followers_count >= 2000000\n",
    "# ).sort_by(\"-followers_count\").all()"
   ]
  },
  {
   "cell_type": "code",
   "execution_count": 268,
   "metadata": {},
   "outputs": [
    {
     "name": "stdout",
     "output_type": "stream",
     "text": [
      "detikcom\t15884929\n",
      "\n",
      "la_patilla\t7121282\n",
      "\n",
      "skynewsarabia\t5652410\n",
      "\n",
      "virsanghvi\t4329132\n",
      "\n",
      "NTelevisa_com\t3047122\n",
      "\n",
      "repubblica\t2992272\n",
      "\n",
      "casspernyovest\t2702055\n",
      "\n"
     ]
    }
   ],
   "source": [
    "# for i in range(len(top_tweeter)):\n",
    "#     print(top_tweeter[i].screen_name + \"\\t\" + str(top_tweeter[i].followers_count) + \"\\n\")"
   ]
  },
  {
   "cell_type": "markdown",
   "metadata": {},
   "source": [
    "### by time range"
   ]
  },
  {
   "cell_type": "code",
   "execution_count": 52,
   "metadata": {},
   "outputs": [
    {
     "data": {
      "text/plain": [
       "7349"
      ]
     },
     "execution_count": 52,
     "metadata": {},
     "output_type": "execute_result"
    }
   ],
   "source": [
    "len(twt_model.find((twt_model.created_at == \"2020-04-12\")).all()) # all data are from 2020-04-12???"
   ]
  },
  {
   "cell_type": "code",
   "execution_count": 53,
   "metadata": {},
   "outputs": [
    {
     "data": {
      "text/plain": [
       "2"
      ]
     },
     "execution_count": 53,
     "metadata": {},
     "output_type": "execute_result"
    }
   ],
   "source": [
    "len(twt_model.find((twt_model.user.created_at == \"2017-11-29\")).all())"
   ]
  },
  {
   "cell_type": "code",
   "execution_count": null,
   "metadata": {},
   "outputs": [],
   "source": []
  }
 ],
 "metadata": {
  "kernelspec": {
   "display_name": "Python 3 (ipykernel)",
   "language": "python",
   "name": "python3"
  },
  "language_info": {
   "codemirror_mode": {
    "name": "ipython",
    "version": 3
   },
   "file_extension": ".py",
   "mimetype": "text/x-python",
   "name": "python",
   "nbconvert_exporter": "python",
   "pygments_lexer": "ipython3",
   "version": "3.9.12"
  },
  "toc": {
   "base_numbering": 1,
   "nav_menu": {},
   "number_sections": true,
   "sideBar": true,
   "skip_h1_title": false,
   "title_cell": "Table of Contents",
   "title_sidebar": "Contents",
   "toc_cell": false,
   "toc_position": {},
   "toc_section_display": true,
   "toc_window_display": false
  }
 },
 "nbformat": 4,
 "nbformat_minor": 4
}
