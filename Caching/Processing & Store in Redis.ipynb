{
 "cells": [
  {
   "cell_type": "markdown",
   "metadata": {},
   "source": [
    "# Process data & Store into Redis"
   ]
  },
  {
   "cell_type": "code",
   "execution_count": 557,
   "metadata": {},
   "outputs": [],
   "source": [
    "import json\n",
    "import os\n",
    "import pandas as pd"
   ]
  },
  {
   "cell_type": "markdown",
   "metadata": {},
   "source": [
    "## process data\n",
    "Select the attributes to be stored."
   ]
  },
  {
   "cell_type": "code",
   "execution_count": 558,
   "metadata": {},
   "outputs": [
    {
     "data": {
      "text/plain": [
       "26"
      ]
     },
     "execution_count": 558,
     "metadata": {},
     "output_type": "execute_result"
    }
   ],
   "source": [
    "# selected attributes in tweets\n",
    "twt_attributes = ['created_at',\n",
    "                       'id_str',\n",
    "                       'text',\n",
    "                       'in_reply_to_status_id_str',\n",
    "                       'in_reply_to_user_id_str',\n",
    "                       'in_reply_to_screen_name',\n",
    "                       'quoted_status_id_str',\n",
    "                       # 'quoted_status',\n",
    "                       'quote_count',\n",
    "                       'reply_count',\n",
    "                       'retweet_count',\n",
    "                       'favorite_count',\n",
    "                       'entities.hashtags',\n",
    "                       'extended_entities',\n",
    "                       'user.id_str', # for matching\n",
    "                       'user.name',\n",
    "                       'user.screen_name',\n",
    "                       'user.url',\n",
    "                       'user.description',\n",
    "                       'user.protected',\n",
    "                       'user.verified',\n",
    "                       'user.followers_count',\n",
    "                       'user.friends_count',\n",
    "                       'user.listed_count',\n",
    "                       'user.favourites_count',\n",
    "                       'user.statuses_count',\n",
    "                       'user.created_at'\n",
    "                      ]\n",
    "len(twt_attributes) # 26"
   ]
  },
  {
   "cell_type": "code",
   "execution_count": 559,
   "metadata": {},
   "outputs": [
    {
     "data": {
      "text/plain": [
       "27"
      ]
     },
     "execution_count": 559,
     "metadata": {},
     "output_type": "execute_result"
    }
   ],
   "source": [
    "# so the selected retweets attributes has an extra \"retweeted_status.id_str\"\n",
    "retwt_attributes = ['created_at',\n",
    "                    'id_str',\n",
    "                    'text',\n",
    "                    'in_reply_to_status_id_str',\n",
    "                    'in_reply_to_user_id_str',\n",
    "                    'in_reply_to_screen_name',\n",
    "                    'quoted_status_id_str',\n",
    "                    # 'quoted_status',\n",
    "                    'quote_count',\n",
    "                    'reply_count',\n",
    "                    'retweet_count',\n",
    "                    'favorite_count',\n",
    "                    'entities.hashtags',\n",
    "                    'extended_entities',\n",
    "                    'retweeted_status.id_str',\n",
    "                    'user.id_str', # for matching\n",
    "                    'user.name',\n",
    "                    'user.screen_name',\n",
    "                    'user.url',\n",
    "                    'user.description',\n",
    "                    'user.protected',\n",
    "                    'user.verified',\n",
    "                    'user.followers_count',\n",
    "                    'user.friends_count',\n",
    "                    'user.listed_count',\n",
    "                    'user.favourites_count',\n",
    "                    'user.statuses_count',\n",
    "                    'user.created_at'\n",
    "                   ]\n",
    "len(retwt_attributes) # 27"
   ]
  },
  {
   "cell_type": "code",
   "execution_count": 560,
   "metadata": {},
   "outputs": [
    {
     "data": {
      "text/plain": [
       "13"
      ]
     },
     "execution_count": 560,
     "metadata": {},
     "output_type": "execute_result"
    }
   ],
   "source": [
    "# selected attributes in user\n",
    "user_attr_tracking = ['id_str',\n",
    "                      'name',\n",
    "                      'screen_name',\n",
    "                      'url',\n",
    "                      'description',\n",
    "                      'protected',\n",
    "                      'verified',\n",
    "                      'followers_count',\n",
    "                      'friends_count',\n",
    "                      'listed_count',\n",
    "                      'favourites_count',\n",
    "                      'statuses_count',\n",
    "                      'created_at']\n",
    "\n",
    "len(user_attr_tracking) #13"
   ]
  },
  {
   "cell_type": "markdown",
   "metadata": {},
   "source": [
    "### user_store function"
   ]
  },
  {
   "cell_type": "code",
   "execution_count": 561,
   "metadata": {},
   "outputs": [],
   "source": [
    "def user_store(user, userid_table):\n",
    "    \n",
    "    # if user has not been seen before, add id to userid_table\n",
    "    if user['id_str'] not in userid_table:\n",
    "        userid_table.append(user['id_str'])\n",
    "        \n",
    "        # update datastores with defined tracking attributes\n",
    "        user_attr_selected = {key: user[key] for key in user_attr_tracking if key in user}\n",
    "        user_list.append(user_attr_selected)"
   ]
  },
  {
   "cell_type": "code",
   "execution_count": 562,
   "metadata": {},
   "outputs": [],
   "source": [
    "# test test\n",
    "\n",
    "twt_id_record = []\n",
    "userid_table = [] # store userid\n",
    "user_list = [] # store every attributes of user needed tracking\n",
    "\n",
    "with open(\"./data/corona-out-2\", \"r\") as f1:\n",
    "    for line in f1:\n",
    "        try:\n",
    "            data = json.loads(line)\n",
    "            if data[\"id_str\"] not in twt_id_record:\n",
    "                twt_id_record.append(data[\"id_str\"])\n",
    "            # if tweet has been seen before \n",
    "            else:\n",
    "                # ignore this tweet, go to next iteration of loop\n",
    "                continue\n",
    "            \n",
    "            user = data['user']\n",
    "            user_store(user, userid_table)\n",
    "        except:\n",
    "            continue"
   ]
  },
  {
   "cell_type": "code",
   "execution_count": 563,
   "metadata": {},
   "outputs": [
    {
     "data": {
      "text/plain": [
       "15505"
      ]
     },
     "execution_count": 563,
     "metadata": {},
     "output_type": "execute_result"
    }
   ],
   "source": [
    "len(user_list)"
   ]
  },
  {
   "cell_type": "markdown",
   "metadata": {},
   "source": [
    "### tweets / retweet store"
   ]
  },
  {
   "cell_type": "code",
   "execution_count": 564,
   "metadata": {},
   "outputs": [],
   "source": [
    "# this is a partial template for processing the dataset to store into the datastores.\n",
    "# you will need to write functions for the psuedocode sections and invoke them here\n",
    "\n",
    "#insert path and replace name of the file below as needed\n",
    "\n",
    "twt_id_record = []\n",
    "userid_table = [] # store userid\n",
    "user_list = [] # store tracking attributes of user\n",
    "retwt_list = [] # list to store retweets\n",
    "retwt_lines = 0 # count # of retweets\n",
    "twt_list = []\n",
    "twt_lines = 0\n",
    "\n",
    "with open(\"./data/corona-out-2\", \"r\") as f1:\n",
    "    for line in f1:\n",
    "        try:\n",
    "            data = json.loads(line)\n",
    "            if data[\"id_str\"] not in twt_id_record:\n",
    "                twt_id_record.append(data[\"id_str\"])\n",
    "            # if tweet has been seen before \n",
    "            else:\n",
    "                # ignore this tweet, go to next iteration of loop\n",
    "                continue\n",
    "            \n",
    "            user = data['user']\n",
    "            user_store(user, userid_table)\n",
    "            \n",
    "            \n",
    "            if ( data['text'].startswith('RT') ):\n",
    "                # try:\n",
    "                    # update retweet information\n",
    "                    selected_dict = {}\n",
    "                    retwt_lines = retwt_lines + 1\n",
    "                    for attribute in retwt_attributes:\n",
    "                        try:\n",
    "                            # assigns the reference: any changes made to one will affect the other\n",
    "                            current_dict = data\n",
    "                            current_selected_dict = selected_dict\n",
    "                            # parent-child attributes\n",
    "                            for sub_attribute in attribute.split('.'):\n",
    "                                # parent attributes\n",
    "                                current_dict = current_dict[sub_attribute]\n",
    "                                # child attributes\n",
    "                                if sub_attribute == attribute.split('.')[-1]:\n",
    "                                    current_selected_dict[sub_attribute] = current_dict\n",
    "                                else:\n",
    "                                    if sub_attribute not in current_selected_dict:\n",
    "                                        current_selected_dict[sub_attribute] = {}\n",
    "                                    current_selected_dict = current_selected_dict[sub_attribute]\n",
    "                        except:\n",
    "                            continue\n",
    "                    retwt_list.append(selected_dict)\n",
    "                # except:\n",
    "                    # continue\n",
    "\n",
    "                # pass  # does nothing right now\n",
    "                \n",
    "            else:\n",
    "                # add the new tweet to datastore\n",
    "                    selected_dict = {}\n",
    "                    twt_lines = twt_lines + 1\n",
    "                    for attribute in twt_attributes:\n",
    "                        try:\n",
    "                            # assigns the reference: any changes made to one will affect the other\n",
    "                            current_dict = data\n",
    "                            current_selected_dict = selected_dict\n",
    "                            # parent-child attributes\n",
    "                            for sub_attribute in attribute.split('.'):\n",
    "                                # parent attributes\n",
    "                                current_dict = current_dict[sub_attribute]\n",
    "                                # child attributes\n",
    "                                if sub_attribute == attribute.split('.')[-1]:\n",
    "                                    current_selected_dict[sub_attribute] = current_dict\n",
    "                                else:\n",
    "                                    if sub_attribute not in current_selected_dict:\n",
    "                                        current_selected_dict[sub_attribute] = {}\n",
    "                                    current_selected_dict = current_selected_dict[sub_attribute]\n",
    "                        except:\n",
    "                            continue\n",
    "                    twt_list.append(selected_dict)\n",
    "        except:\n",
    "            continue"
   ]
  },
  {
   "cell_type": "code",
   "execution_count": 701,
   "metadata": {},
   "outputs": [],
   "source": [
    "def parse_date(date_string):\n",
    "    # parse the created_at attributes to datetime formart\n",
    "    \n",
    "    date_format = \"%a %b %d %H:%M:%S %z %Y\"\n",
    "    date_object = time.strptime(date_string, date_format)\n",
    "    \n",
    "    year = date_object.tm_year\n",
    "    month = date_object.tm_mon\n",
    "    day = date_object.tm_mday\n",
    "    \n",
    "    new_date_object = datetime(year=year, month=month, day=day)\n",
    "    formatted_date = new_date_object.strftime(\"%Y-%m-%d\")\n",
    "    \n",
    "    return(formatted_date)"
   ]
  },
  {
   "cell_type": "code",
   "execution_count": 703,
   "metadata": {},
   "outputs": [],
   "source": [
    "for i in range(len(twt_list)):\n",
    "    twt_list[i]['created_at'] = parse_date(twt_list[i]['created_at'])\n",
    "    twt_list[i]['user']['created_at'] = parse_date(twt_list[i]['user']['created_at'])"
   ]
  },
  {
   "cell_type": "code",
   "execution_count": 709,
   "metadata": {},
   "outputs": [],
   "source": [
    "for i in range(len(retwt_list)):\n",
    "    retwt_list[i]['created_at'] = parse_date(retwt_list[i]['created_at'])\n",
    "    retwt_list[i]['user']['created_at'] = parse_date(retwt_list[i]['user']['created_at'])"
   ]
  },
  {
   "cell_type": "code",
   "execution_count": 565,
   "metadata": {},
   "outputs": [
    {
     "data": {
      "text/plain": [
       "15505"
      ]
     },
     "execution_count": 565,
     "metadata": {},
     "output_type": "execute_result"
    }
   ],
   "source": [
    "len(userid_table)"
   ]
  },
  {
   "cell_type": "code",
   "execution_count": 566,
   "metadata": {},
   "outputs": [
    {
     "data": {
      "text/plain": [
       "15505"
      ]
     },
     "execution_count": 566,
     "metadata": {},
     "output_type": "execute_result"
    }
   ],
   "source": [
    "len(user_list)"
   ]
  },
  {
   "cell_type": "code",
   "execution_count": 697,
   "metadata": {},
   "outputs": [
    {
     "data": {
      "text/plain": [
       "7349"
      ]
     },
     "execution_count": 697,
     "metadata": {},
     "output_type": "execute_result"
    }
   ],
   "source": [
    "len(twt_list)"
   ]
  },
  {
   "cell_type": "code",
   "execution_count": 705,
   "metadata": {},
   "outputs": [
    {
     "data": {
      "text/plain": [
       "{'id_str': '1225145123920588805',\n",
       " 'name': 'efe09',\n",
       " 'screen_name': 'efe0927183508',\n",
       " 'url': None,\n",
       " 'description': \"Allah'ın en değerli eseri insandır.\\nCanı yanan sabretsin.\\nCan yakan, canının yanacağı günü beklesin..\\n677 khk\\nRT düşüncem olduğu anlamına gelmez bilgi amaçlıdır\",\n",
       " 'protected': False,\n",
       " 'verified': False,\n",
       " 'followers_count': 653,\n",
       " 'friends_count': 983,\n",
       " 'listed_count': 0,\n",
       " 'favourites_count': 1255,\n",
       " 'statuses_count': 4177,\n",
       " 'created_at': 'Wed Feb 05 19:52:38 +0000 2020'}"
      ]
     },
     "execution_count": 705,
     "metadata": {},
     "output_type": "execute_result"
    }
   ],
   "source": [
    "user_list[1]"
   ]
  },
  {
   "cell_type": "code",
   "execution_count": 706,
   "metadata": {},
   "outputs": [
    {
     "data": {
      "text/plain": [
       "7349"
      ]
     },
     "execution_count": 706,
     "metadata": {},
     "output_type": "execute_result"
    }
   ],
   "source": [
    "twt_lines"
   ]
  },
  {
   "cell_type": "code",
   "execution_count": 707,
   "metadata": {},
   "outputs": [
    {
     "data": {
      "text/plain": [
       "7349"
      ]
     },
     "execution_count": 707,
     "metadata": {},
     "output_type": "execute_result"
    }
   ],
   "source": [
    "len(twt_list)"
   ]
  },
  {
   "cell_type": "code",
   "execution_count": 708,
   "metadata": {},
   "outputs": [
    {
     "data": {
      "text/plain": [
       "{'created_at': '2020-04-12',\n",
       " 'id_str': '1249403771261722624',\n",
       " 'text': '#Bo der Osterhase hat nicht Corona, er ist gekommen.',\n",
       " 'in_reply_to_status_id_str': None,\n",
       " 'in_reply_to_user_id_str': None,\n",
       " 'in_reply_to_screen_name': None,\n",
       " 'quote_count': 0,\n",
       " 'reply_count': 0,\n",
       " 'retweet_count': 0,\n",
       " 'favorite_count': 0,\n",
       " 'entities': {'hashtags': [{'text': 'Bo', 'indices': [0, 3]}]},\n",
       " 'user': {'id_str': '1171484224244744198',\n",
       "  'name': 'Elfpunkt',\n",
       "  'screen_name': 'meElfpunkt',\n",
       "  'url': None,\n",
       "  'description': 'Mal 1 mal 0 mal Tilt',\n",
       "  'protected': False,\n",
       "  'verified': False,\n",
       "  'followers_count': 3,\n",
       "  'friends_count': 53,\n",
       "  'listed_count': 0,\n",
       "  'favourites_count': 72,\n",
       "  'statuses_count': 60,\n",
       "  'created_at': '2019-09-10'}}"
      ]
     },
     "execution_count": 708,
     "metadata": {},
     "output_type": "execute_result"
    }
   ],
   "source": [
    "twt_list[1]"
   ]
  },
  {
   "cell_type": "code",
   "execution_count": 710,
   "metadata": {},
   "outputs": [
    {
     "data": {
      "text/plain": [
       "11157"
      ]
     },
     "execution_count": 710,
     "metadata": {},
     "output_type": "execute_result"
    }
   ],
   "source": [
    "retwt_lines"
   ]
  },
  {
   "cell_type": "code",
   "execution_count": 711,
   "metadata": {},
   "outputs": [
    {
     "data": {
      "text/plain": [
       "11157"
      ]
     },
     "execution_count": 711,
     "metadata": {},
     "output_type": "execute_result"
    }
   ],
   "source": [
    "len(retwt_list)"
   ]
  },
  {
   "cell_type": "code",
   "execution_count": 712,
   "metadata": {},
   "outputs": [
    {
     "data": {
      "text/plain": [
       "{'created_at': '2020-04-12',\n",
       " 'id_str': '1249403768023678982',\n",
       " 'text': 'RT @lale_karanfil: In Turkey, there are 300 thousand prisoners and 150 thousand prison employees in prisons. \\nPrisons are the most risky pl…',\n",
       " 'in_reply_to_status_id_str': None,\n",
       " 'in_reply_to_user_id_str': None,\n",
       " 'in_reply_to_screen_name': None,\n",
       " 'quote_count': 0,\n",
       " 'reply_count': 0,\n",
       " 'retweet_count': 0,\n",
       " 'favorite_count': 0,\n",
       " 'entities': {'hashtags': []},\n",
       " 'retweeted_status': {'id_str': '1249397541596286979'},\n",
       " 'user': {'id_str': '1225145123920588805',\n",
       "  'name': 'efe09',\n",
       "  'screen_name': 'efe0927183508',\n",
       "  'url': None,\n",
       "  'description': \"Allah'ın en değerli eseri insandır.\\nCanı yanan sabretsin.\\nCan yakan, canının yanacağı günü beklesin..\\n677 khk\\nRT düşüncem olduğu anlamına gelmez bilgi amaçlıdır\",\n",
       "  'protected': False,\n",
       "  'verified': False,\n",
       "  'followers_count': 653,\n",
       "  'friends_count': 983,\n",
       "  'listed_count': 0,\n",
       "  'favourites_count': 1255,\n",
       "  'statuses_count': 4177,\n",
       "  'created_at': '2020-02-05'}}"
      ]
     },
     "execution_count": 712,
     "metadata": {},
     "output_type": "execute_result"
    }
   ],
   "source": [
    "retwt_list[1]"
   ]
  },
  {
   "cell_type": "code",
   "execution_count": 574,
   "metadata": {},
   "outputs": [],
   "source": [
    "# # # encapsulation test: don't know why it didn't work as a function\n",
    "\n",
    "# # store tweets/retweets data & count nums\n",
    "# def retwt_store(data):\n",
    "#     # list for store tweets/retweets data\n",
    "#     selected_dict = {}\n",
    "#     retwt_lines = retwt_lines + 1\n",
    "#     for attribute in retwt_attributes:\n",
    "#         try:\n",
    "#             # assigns the reference: any changes made to one will affect the other\n",
    "#             current_dict = data\n",
    "#             current_selected_dict = selected_dict\n",
    "#             # parent-child attributes\n",
    "#             for sub_attribute in attribute.split('.'):\n",
    "#                 # parent attributes\n",
    "#                 current_dict = current_dict[sub_attribute]\n",
    "#                 # child attributes\n",
    "#                 if sub_attribute == attribute.split('.')[-1]:\n",
    "#                     current_selected_dict[sub_attribute] = current_dict\n",
    "#                 else:\n",
    "#                     if sub_attribute not in current_selected_dict:\n",
    "#                         current_selected_dict[sub_attribute] = {}\n",
    "#                     current_selected_dict = current_selected_dict[sub_attribute]\n",
    "#         except:\n",
    "#             continue\n",
    "#     retwt_list.append(selected_dict)"
   ]
  },
  {
   "cell_type": "markdown",
   "metadata": {},
   "source": [
    "## Store in Redis (test: user_list; tweet)"
   ]
  },
  {
   "cell_type": "code",
   "execution_count": 713,
   "metadata": {},
   "outputs": [],
   "source": [
    "import redis # for cache\n",
    "import pymongo # for NoSQL data store\n",
    "\n",
    "from redis.commands.json.path import Path\n",
    "import redis.commands.search.aggregation as aggregations\n",
    "import redis.commands.search.reducers as reducers\n",
    "from redis.commands.search.field import TextField, NumericField, TagField\n",
    "from redis.commands.search.indexDefinition import IndexDefinition, IndexType\n",
    "from redis.commands.search.query import NumericFilter, Query\n",
    "\n",
    "# connect to a Redis cluster\n",
    "from redis.cluster import RedisCluster\n",
    "from string import ascii_letters\n",
    "import random"
   ]
  },
  {
   "cell_type": "code",
   "execution_count": 714,
   "metadata": {},
   "outputs": [],
   "source": [
    "redis_client = redis.Redis(host='localhost', port=6379, decode_responses=True)\n",
    "redis_pool = redis.ConnectionPool(host='localhost', port=6379, decode_responses=True)"
   ]
  },
  {
   "cell_type": "code",
   "execution_count": 774,
   "metadata": {},
   "outputs": [],
   "source": [
    "# initiate: remove all the data exists.\n",
    "for key in redis_client.keys():\n",
    "    redis_client.delete(key)"
   ]
  },
  {
   "cell_type": "code",
   "execution_count": 775,
   "metadata": {},
   "outputs": [
    {
     "data": {
      "text/plain": [
       "0"
      ]
     },
     "execution_count": 775,
     "metadata": {},
     "output_type": "execute_result"
    }
   ],
   "source": [
    "# check keys in the Redis database\n",
    "len(redis_client.keys())"
   ]
  },
  {
   "cell_type": "code",
   "execution_count": 748,
   "metadata": {},
   "outputs": [],
   "source": [
    "import time\n",
    "import datetime\n",
    "from datetime import datetime, date\n",
    "from typing import List, Optional\n",
    "# Redis OM uses Pydantic to validate data based on the type annotations assigned to fields in a model class.\n",
    "from pydantic import BaseModel, NonNegativeInt, HttpUrl, AnyUrl, ValidationError # every Redis OM model is also a Pydantic model\n",
    "from redis_om import (EmbeddedJsonModel, Field, JsonModel, HashModel, Migrator, NotFoundError, get_redis_connection)"
   ]
  },
  {
   "cell_type": "markdown",
   "metadata": {},
   "source": [
    "[Field Types supported by Pydantic](https://docs.pydantic.dev/usage/types/)"
   ]
  },
  {
   "cell_type": "code",
   "execution_count": 718,
   "metadata": {},
   "outputs": [],
   "source": [
    "del twt_user_model"
   ]
  },
  {
   "cell_type": "code",
   "execution_count": 750,
   "metadata": {},
   "outputs": [
    {
     "data": {
      "text/plain": [
       "datetime.date(2023, 4, 22)"
      ]
     },
     "execution_count": 750,
     "metadata": {},
     "output_type": "execute_result"
    }
   ],
   "source": [
    "date.today()"
   ]
  },
  {
   "cell_type": "code",
   "execution_count": 776,
   "metadata": {},
   "outputs": [],
   "source": [
    "# build an embedded sub-model twt_user with Redis OM\n",
    "\n",
    "class twt_user_model(EmbeddedJsonModel):\n",
    "    id_str: str = Field(index=True)\n",
    "    name: str = Field(index=True, full_text_search=True)\n",
    "    screen_name: str = Field(index=True, full_text_search=True)\n",
    "    url: Optional[AnyUrl]\n",
    "    description: Optional[str] = Field(index=False, full_text_search=True) # perform full text searches on the values\n",
    "    protected: Optional[bool]\n",
    "    verified: Optional[bool]\n",
    "    followers_count: Optional[NonNegativeInt] = Field(index=True)\n",
    "    friends_count: Optional[NonNegativeInt] = Field(index=True)\n",
    "    listed_count: Optional[NonNegativeInt]\n",
    "    favourites_count: Optional[NonNegativeInt]\n",
    "    statuses_count: Optional[NonNegativeInt] = Field(index=True)\n",
    "    created_at: date = Field(index=True)\n",
    "    \n",
    "    class Meta:\n",
    "        # A redis.asyncio.Redis or redis.Redis client instance that the model will use to communicate with Redis.\n",
    "        database = get_redis_connection()"
   ]
  },
  {
   "cell_type": "code",
   "execution_count": 777,
   "metadata": {},
   "outputs": [],
   "source": [
    "# build embedded sub-models for entitlies (set hashtags as index)\n",
    "class HashtagModel(EmbeddedJsonModel):\n",
    "    text: Optional[str] = Field(index=True, full_text_search=True, default=\"noHashTag\") # added a default here\n",
    "    indices: Optional[list[int]]\n",
    "    \n",
    "    class Meta:\n",
    "        # A redis.asyncio.Redis or redis.Redis client instance that the model will use to communicate with Redis.\n",
    "        database = get_redis_connection()\n",
    "\n",
    "class EntitiesModel(EmbeddedJsonModel):\n",
    "    hashtags: HashtagModel\n",
    "    \n",
    "    class Meta:\n",
    "        # A redis.asyncio.Redis or redis.Redis client instance that the model will use to communicate with Redis.\n",
    "        database = get_redis_connection()"
   ]
  },
  {
   "cell_type": "code",
   "execution_count": 778,
   "metadata": {},
   "outputs": [],
   "source": [
    "# # use Migrator to create the indexes for any models that have indexed fields\n",
    "# Migrator().run()"
   ]
  },
  {
   "cell_type": "code",
   "execution_count": 779,
   "metadata": {},
   "outputs": [],
   "source": [
    "# # check storage status: should be 15505\n",
    "# len(redis_client.keys())"
   ]
  },
  {
   "cell_type": "markdown",
   "metadata": {},
   "source": [
    "### twt_model for original tweets"
   ]
  },
  {
   "cell_type": "code",
   "execution_count": 780,
   "metadata": {},
   "outputs": [],
   "source": [
    "# build a twt_model (JsonModel) for original tweet data\n",
    "class twt_model(JsonModel):\n",
    "    created_at: date = Field(index=True) # so many outdated docs...finally find this...orz\n",
    "    id_str: str = Field(index=True)\n",
    "    text: str = Field(index=True, full_text_search=True) # perform full text searches on the values\n",
    "    in_reply_to_status_id_str: Optional[str] = Field(index=False, full_text_search=True)\n",
    "    in_reply_to_user_id_str: Optional[str] = Field(index=False, full_text_search=True)\n",
    "    in_reply_to_screen_name: Optional[str] = Field(index=False, full_text_search=True)\n",
    "    quoted_status_id_str: Optional[str] = Field(index=False, full_text_search=True)\n",
    "    # quoted_status: Optional[str]\n",
    "    quote_count: Optional[NonNegativeInt] = Field(index=True)\n",
    "    reply_count: Optional[NonNegativeInt] = Field(index=True)\n",
    "    retweet_count: Optional[NonNegativeInt] = Field(index=True)\n",
    "    favorite_count: Optional[NonNegativeInt] = Field(index=True)\n",
    "    entities: Optional[dict] = Field(index=True)\n",
    "    entities: EntitiesModel\n",
    "    # extended_entities: Optional[dict]\n",
    "    user: twt_user_model\n",
    "    \n",
    "    class Meta:\n",
    "        # A redis.asyncio.Redis or redis.Redis client instance that the model will use to communicate with Redis.\n",
    "        database = get_redis_connection()"
   ]
  },
  {
   "cell_type": "code",
   "execution_count": 781,
   "metadata": {},
   "outputs": [],
   "source": [
    "# store twt_list data into Redis\n",
    "\n",
    "for i in range(len(twt_list)):\n",
    "    new_twt = twt_model(**twt_list[i])\n",
    "    new_twt.save()\n",
    "    new_twt.expire(24 * 3600) # time to live: 1 day"
   ]
  },
  {
   "cell_type": "code",
   "execution_count": 782,
   "metadata": {},
   "outputs": [
    {
     "data": {
      "text/plain": [
       "7349"
      ]
     },
     "execution_count": 782,
     "metadata": {},
     "output_type": "execute_result"
    }
   ],
   "source": [
    "len(twt_list) # 7349"
   ]
  },
  {
   "cell_type": "code",
   "execution_count": 783,
   "metadata": {},
   "outputs": [],
   "source": [
    "# use Migrator to create the indexes for any models that have indexed fields\n",
    "Migrator().run()"
   ]
  },
  {
   "cell_type": "code",
   "execution_count": 784,
   "metadata": {},
   "outputs": [
    {
     "data": {
      "text/plain": [
       "7355"
      ]
     },
     "execution_count": 784,
     "metadata": {},
     "output_type": "execute_result"
    }
   ],
   "source": [
    "# check storage status: should be 7359\n",
    "len(redis_client.keys())"
   ]
  },
  {
   "cell_type": "markdown",
   "metadata": {},
   "source": [
    "### retwt_model for retweets"
   ]
  },
  {
   "cell_type": "code",
   "execution_count": null,
   "metadata": {},
   "outputs": [],
   "source": []
  },
  {
   "cell_type": "code",
   "execution_count": null,
   "metadata": {},
   "outputs": [],
   "source": []
  },
  {
   "cell_type": "code",
   "execution_count": null,
   "metadata": {},
   "outputs": [],
   "source": []
  },
  {
   "cell_type": "code",
   "execution_count": null,
   "metadata": {},
   "outputs": [],
   "source": []
  },
  {
   "cell_type": "markdown",
   "metadata": {},
   "source": [
    "## Querying: by & select"
   ]
  },
  {
   "cell_type": "markdown",
   "metadata": {},
   "source": [
    "### by pk"
   ]
  },
  {
   "cell_type": "code",
   "execution_count": 594,
   "metadata": {
    "collapsed": true,
    "jupyter": {
     "outputs_hidden": true
    },
    "tags": []
   },
   "outputs": [
    {
     "data": {
      "text/plain": [
       "{'pk': '01GYK29XNVBMVRBCYRMAJYGQ4V',\n",
       " 'created_at': 'Sun Apr 12 18:28:56 +0000 2020',\n",
       " 'id_str': '1249404147167686657',\n",
       " 'text': '@muhaust Negatif corona positif digigit buaya https://t.co/7hlRgSPUL9',\n",
       " 'in_reply_to_status_id_str': '1247388438875127809',\n",
       " 'in_reply_to_user_id_str': '111868855',\n",
       " 'in_reply_to_screen_name': 'muhaust',\n",
       " 'quoted_status_id_str': None,\n",
       " 'quote_count': 0,\n",
       " 'reply_count': 0,\n",
       " 'retweet_count': 0,\n",
       " 'favorite_count': 0,\n",
       " 'entities': {'pk': '01GYK29XNV8BJ2D954PYAZXY4X',\n",
       "  'hashtags': {'pk': '01GYK29XNV0S31V0BZW2BGZXXQ',\n",
       "   'text': None,\n",
       "   'indices': None}},\n",
       " 'user': {'pk': '01GYK29XNVVTHQ3TM5ZSQP1H0H',\n",
       "  'id_str': '984014159967870976',\n",
       "  'name': '🌙',\n",
       "  'screen_name': 'itsmoonchild_d',\n",
       "  'url': None,\n",
       "  'description': 'who iam?👆',\n",
       "  'protected': False,\n",
       "  'verified': False,\n",
       "  'followers_count': 105,\n",
       "  'friends_count': 105,\n",
       "  'listed_count': 0,\n",
       "  'favourites_count': 4262,\n",
       "  'statuses_count': 769,\n",
       "  'created_at': 'Wed Apr 11 10:23:52 +0000 2018'},\n",
       " 'extended_entities': {'media': [{'id': 1249404136027598848,\n",
       "    'id_str': '1249404136027598848',\n",
       "    'indices': [46, 69],\n",
       "    'media_url': 'http://pbs.twimg.com/media/EVbGcSzUMAApN79.jpg',\n",
       "    'media_url_https': 'https://pbs.twimg.com/media/EVbGcSzUMAApN79.jpg',\n",
       "    'url': 'https://t.co/7hlRgSPUL9',\n",
       "    'display_url': 'pic.twitter.com/7hlRgSPUL9',\n",
       "    'expanded_url': 'https://twitter.com/itsmoonchild_d/status/1249404147167686657/photo/1',\n",
       "    'type': 'photo',\n",
       "    'sizes': {'large': {'w': 1152, 'h': 2048, 'resize': 'fit'},\n",
       "     'thumb': {'w': 150, 'h': 150, 'resize': 'crop'},\n",
       "     'small': {'w': 383, 'h': 680, 'resize': 'fit'},\n",
       "     'medium': {'w': 675, 'h': 1200, 'resize': 'fit'}}}]}}"
      ]
     },
     "execution_count": 594,
     "metadata": {},
     "output_type": "execute_result"
    }
   ],
   "source": [
    "# twt_model query by key\n",
    "\n",
    "twt_model.get(\"01GYK29XNVBMVRBCYRMAJYGQ4V\").dict() # Models generate a globally unique primary key automatically without needing to talk to Redis."
   ]
  },
  {
   "cell_type": "markdown",
   "metadata": {},
   "source": [
    "### by user"
   ]
  },
  {
   "cell_type": "code",
   "execution_count": 758,
   "metadata": {},
   "outputs": [
    {
     "data": {
      "text/plain": [
       "[twt_model(pk='01GYKJQMJ4HFRKX1S8K5KCQXJW', created_at=datetime.date(2020, 4, 12), id_str='1249407640553349123', text='Oh fuck this government. Seriously. Fuck these Tory cunts. That is outrageous', in_reply_to_status_id_str=None, in_reply_to_user_id_str=None, in_reply_to_screen_name=None, quoted_status_id_str='1249318984538886145', quote_count=0, reply_count=0, retweet_count=0, favorite_count=0, entities=EntitiesModel(pk='01GYKJQMJ401XVS46FY4XFCNEY', hashtags=HashtagModel(pk='01GYKJQMJ467SFZCKZHEESGBTQ', text='noHashTag', indices=None)), user=twt_user_model(pk='01GYKJQMJ4G88HQCC0Y9BCYJ1K', id_str='373455776', name='Jacob Walters', screen_name='JWalters777', url=None, description='Brentford FC. 23. London Town', protected=False, verified=False, followers_count=590, friends_count=318, listed_count=9, favourites_count=8312, statuses_count=33107, created_at=datetime.date(2011, 9, 14)))]"
      ]
     },
     "execution_count": 758,
     "metadata": {},
     "output_type": "execute_result"
    }
   ],
   "source": [
    "twt_model.find(twt_model.user.screen_name == \"JWalters777\").all()"
   ]
  },
  {
   "cell_type": "code",
   "execution_count": 621,
   "metadata": {},
   "outputs": [],
   "source": [
    "# test = twt_model.find(twt_model.user.screen_name == \"Sumaj_Warmi\").all()\n",
    "# test[0].entities[\"hashtags\"][0]['text'] # extract text from entities: dict -> list -> dict"
   ]
  },
  {
   "cell_type": "code",
   "execution_count": 759,
   "metadata": {},
   "outputs": [
    {
     "data": {
      "text/plain": [
       "[twt_model(pk='01GYKJQTNZW93D0FTTV9B402RA', created_at=datetime.date(2020, 4, 12), id_str='1249408805734993920', text=\"@DrakonmanTheFox Don't let it mutated to Corona extra\", in_reply_to_status_id_str='1249405700369010690', in_reply_to_user_id_str='830979703750160384', in_reply_to_screen_name='DrakonmanTheFox', quoted_status_id_str=None, quote_count=0, reply_count=0, retweet_count=0, favorite_count=0, entities=EntitiesModel(pk='01GYKJQTNZ5EE5K1485XMCNQCJ', hashtags=HashtagModel(pk='01GYKJQTNZWTQ38TY8DAMKS6Z8', text='noHashTag', indices=None)), user=twt_user_model(pk='01GYKJQTNZVBX0SVCG26SAB6HP', id_str='1070312218070179840', name='\\u200b\\u200bColib〘 CEO of ... 〙', screen_name='colibfox', url=None, description='１5/ mele♂️ / ➡️he/him⬅ ️/ ♈ / non-religious / bi / 🐾single👣/ DMs are open / fox / memes /⚠️ may post or RT NSFW, 98% SFW ⚠️', protected=False, verified=False, followers_count=196, friends_count=95, listed_count=3, favourites_count=3348, statuses_count=2520, created_at=datetime.date(2018, 12, 5)))]"
      ]
     },
     "execution_count": 759,
     "metadata": {},
     "output_type": "execute_result"
    }
   ],
   "source": [
    "twt_model.find(twt_model.user.id_str == \"1070312218070179840\").all()"
   ]
  },
  {
   "cell_type": "code",
   "execution_count": 760,
   "metadata": {},
   "outputs": [
    {
     "data": {
      "text/plain": [
       "[twt_model(pk='01GYKJQ9AEAP6MEH30QCHVS1RM', created_at=datetime.date(2020, 4, 12), id_str='1249404894362165248', text='Bien! Tarija presenta su bunker para evitará dispersar a los pacientes sospechosos de #Coronavirus, y así prevenga… https://t.co/69NYO2L46L', in_reply_to_status_id_str=None, in_reply_to_user_id_str=None, in_reply_to_screen_name=None, quoted_status_id_str='1249000777504489478', quote_count=0, reply_count=0, retweet_count=0, favorite_count=0, entities=EntitiesModel(pk='01GYKJQ9AE2PZD0QSKM6DYV44A', hashtags=HashtagModel(pk='01GYKJQ9AEZT447TA9W9XH2JGN', text='noHashTag', indices=None)), user=twt_user_model(pk='01GYKJQ9AEZACH5K3HSAXJAW1Z', id_str='328260861', name='👑🗼𝐏𝐀𝐓𝐑𝐈𝐂𝐈𝐀 🗼👑', screen_name='Sumaj_Warmi', url=AnyUrl('https://www.facebook.com/SumajWarmi21F/', scheme='https', host='www.facebook.com', tld='com', host_type='domain', path='/SumajWarmi21F/'), description='La solidaridad como valor de vida', protected=False, verified=False, followers_count=13323, friends_count=2375, listed_count=52, favourites_count=45834, statuses_count=53206, created_at=datetime.date(2011, 7, 3)))]"
      ]
     },
     "execution_count": 760,
     "metadata": {},
     "output_type": "execute_result"
    }
   ],
   "source": [
    "# by screen name\n",
    "\n",
    "twt_model.find(twt_model.user.screen_name == \"Sumaj_Warmi\").all()"
   ]
  },
  {
   "cell_type": "markdown",
   "metadata": {},
   "source": [
    "### by str"
   ]
  },
  {
   "cell_type": "code",
   "execution_count": 790,
   "metadata": {},
   "outputs": [
    {
     "data": {
      "text/plain": [
       "56"
      ]
     },
     "execution_count": 790,
     "metadata": {},
     "output_type": "execute_result"
    }
   ],
   "source": [
    "# search by str\n",
    "\n",
    "len(twt_model.find(twt_model.text % \"happy\").all())"
   ]
  },
  {
   "cell_type": "markdown",
   "metadata": {},
   "source": [
    "### by hashtag"
   ]
  },
  {
   "cell_type": "code",
   "execution_count": 762,
   "metadata": {},
   "outputs": [
    {
     "data": {
      "text/plain": [
       "7349"
      ]
     },
     "execution_count": 762,
     "metadata": {},
     "output_type": "execute_result"
    }
   ],
   "source": [
    "len(twt_model.find(twt_model.entities.hashtags.text == \"noHashTag\").all())"
   ]
  },
  {
   "cell_type": "code",
   "execution_count": 763,
   "metadata": {},
   "outputs": [
    {
     "data": {
      "text/plain": [
       "[]"
      ]
     },
     "execution_count": 763,
     "metadata": {},
     "output_type": "execute_result"
    }
   ],
   "source": [
    "twt_model.find(twt_model.entities.hashtags.text == \"COVID19InTurkeysPrisons\").all()"
   ]
  },
  {
   "cell_type": "markdown",
   "metadata": {},
   "source": [
    "### by some number"
   ]
  },
  {
   "cell_type": "code",
   "execution_count": 764,
   "metadata": {},
   "outputs": [],
   "source": [
    "top_tweeter = twt_model.find(\n",
    "    twt_model.user.followers_count >= 2000000\n",
    ").all()"
   ]
  },
  {
   "cell_type": "code",
   "execution_count": 765,
   "metadata": {},
   "outputs": [
    {
     "name": "stdout",
     "output_type": "stream",
     "text": [
      "  user_screen_name  followers_count\n",
      "0    skynewsarabia        5652410.0\n",
      "1    skynewsarabia        5652459.0\n",
      "2       la_patilla        7121282.0\n",
      "3   casspernyovest        2702055.0\n",
      "4         detikcom       15884929.0\n"
     ]
    }
   ],
   "source": [
    "schema = {'user_screen_name': [], 'followers_count': []}\n",
    "top_tweeter_df = pd.DataFrame(schema)\n",
    "\n",
    "for i in range(len(top_tweeter)):\n",
    "    top_tweeter_df.at[i, 'user_screen_name'] = top_tweeter[i].user.screen_name\n",
    "    top_tweeter_df.at[i, 'followers_count'] = top_tweeter[i].user.followers_count\n",
    "    \n",
    "print(top_tweeter_df)"
   ]
  },
  {
   "cell_type": "code",
   "execution_count": 657,
   "metadata": {},
   "outputs": [],
   "source": [
    "# # search by some number: tweeter with the mamixmum number of followers\n",
    "\n",
    "# top_tweeter = twt_model.find(\n",
    "#     twt_model.user.followers_count >= 2000000\n",
    "# ).sort_by(\"-followers_count\").all()"
   ]
  },
  {
   "cell_type": "code",
   "execution_count": 268,
   "metadata": {},
   "outputs": [
    {
     "name": "stdout",
     "output_type": "stream",
     "text": [
      "detikcom\t15884929\n",
      "\n",
      "la_patilla\t7121282\n",
      "\n",
      "skynewsarabia\t5652410\n",
      "\n",
      "virsanghvi\t4329132\n",
      "\n",
      "NTelevisa_com\t3047122\n",
      "\n",
      "repubblica\t2992272\n",
      "\n",
      "casspernyovest\t2702055\n",
      "\n"
     ]
    }
   ],
   "source": [
    "# for i in range(len(top_tweeter)):\n",
    "#     print(top_tweeter[i].screen_name + \"\\t\" + str(top_tweeter[i].followers_count) + \"\\n\")"
   ]
  },
  {
   "cell_type": "markdown",
   "metadata": {},
   "source": [
    "### by time range"
   ]
  },
  {
   "cell_type": "code",
   "execution_count": 785,
   "metadata": {},
   "outputs": [
    {
     "data": {
      "text/plain": [
       "7349"
      ]
     },
     "execution_count": 785,
     "metadata": {},
     "output_type": "execute_result"
    }
   ],
   "source": [
    "len(twt_model.find((twt_model.created_at == \"2020-04-12\")).all()) # all data are from 2020-04-12???"
   ]
  },
  {
   "cell_type": "code",
   "execution_count": 786,
   "metadata": {},
   "outputs": [
    {
     "data": {
      "text/plain": [
       "2"
      ]
     },
     "execution_count": 786,
     "metadata": {},
     "output_type": "execute_result"
    }
   ],
   "source": [
    "len(twt_model.find((twt_model.user.created_at == \"2017-11-29\")).all())"
   ]
  },
  {
   "cell_type": "code",
   "execution_count": null,
   "metadata": {},
   "outputs": [],
   "source": []
  }
 ],
 "metadata": {
  "kernelspec": {
   "display_name": "Python 3 (ipykernel)",
   "language": "python",
   "name": "python3"
  },
  "language_info": {
   "codemirror_mode": {
    "name": "ipython",
    "version": 3
   },
   "file_extension": ".py",
   "mimetype": "text/x-python",
   "name": "python",
   "nbconvert_exporter": "python",
   "pygments_lexer": "ipython3",
   "version": "3.9.12"
  },
  "toc": {
   "base_numbering": 1,
   "nav_menu": {},
   "number_sections": true,
   "sideBar": true,
   "skip_h1_title": false,
   "title_cell": "Table of Contents",
   "title_sidebar": "Contents",
   "toc_cell": false,
   "toc_position": {},
   "toc_section_display": true,
   "toc_window_display": false
  }
 },
 "nbformat": 4,
 "nbformat_minor": 4
}
