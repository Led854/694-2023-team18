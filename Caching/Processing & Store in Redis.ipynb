{
 "cells": [
  {
   "cell_type": "markdown",
   "metadata": {},
   "source": [
    "# Process data & Store into Redis"
   ]
  },
  {
   "cell_type": "code",
   "execution_count": 235,
   "metadata": {},
   "outputs": [],
   "source": [
    "import json\n",
    "import os"
   ]
  },
  {
   "cell_type": "markdown",
   "metadata": {},
   "source": [
    "## process data\n",
    "Select the attributes to be stored."
   ]
  },
  {
   "cell_type": "code",
   "execution_count": 236,
   "metadata": {},
   "outputs": [
    {
     "data": {
      "text/plain": [
       "27"
      ]
     },
     "execution_count": 236,
     "metadata": {},
     "output_type": "execute_result"
    }
   ],
   "source": [
    "# selected attributes in tweets\n",
    "twt_attributes = ['created_at',\n",
    "                       'id_str',\n",
    "                       'text',\n",
    "                       'in_reply_to_status_id_str',\n",
    "                       'in_reply_to_user_id_str',\n",
    "                       'in_reply_to_screen_name',\n",
    "                       'quoted_status_id_str',\n",
    "                       'quoted_status',\n",
    "                       'quote_count',\n",
    "                       'reply_count',\n",
    "                       'retweet_count',\n",
    "                       'favorite_count',\n",
    "                       'entities',\n",
    "                       'extended_entities',\n",
    "                       'user.id_str',\n",
    "                       'user.name',\n",
    "                       'user.screen_name',\n",
    "                       'user.url',\n",
    "                       'user.description',\n",
    "                       'user.protected',\n",
    "                       'user.verified',\n",
    "                       'user.followers_count',\n",
    "                       'user.friends_count',\n",
    "                       'user.listed_count',\n",
    "                       'user.favourites_count',\n",
    "                       'user.statuses_count',\n",
    "                       'user.created_at'\n",
    "                      ]\n",
    "len(twt_attributes) # 27"
   ]
  },
  {
   "cell_type": "code",
   "execution_count": 237,
   "metadata": {},
   "outputs": [
    {
     "data": {
      "text/plain": [
       "28"
      ]
     },
     "execution_count": 237,
     "metadata": {},
     "output_type": "execute_result"
    }
   ],
   "source": [
    "# so the selected retweets attributes has an extra \"retweeted_status.id_str\"\n",
    "retwt_attributes = ['created_at',\n",
    "                    'id_str',\n",
    "                    'text',\n",
    "                    'in_reply_to_status_id_str',\n",
    "                    'in_reply_to_user_id_str',\n",
    "                    'in_reply_to_screen_name',\n",
    "                    'quoted_status_id_str',\n",
    "                    'quoted_status',\n",
    "                    'quote_count',\n",
    "                    'reply_count',\n",
    "                    'retweet_count',\n",
    "                    'favorite_count',\n",
    "                    'entities',\n",
    "                    'extended_entities',\n",
    "                    'retweeted_status.id_str',\n",
    "                    'user.id_str',\n",
    "                    'user.name',\n",
    "                    'user.screen_name',\n",
    "                    'user.url',\n",
    "                    'user.description',\n",
    "                    'user.protected',\n",
    "                    'user.verified',\n",
    "                    'user.followers_count',\n",
    "                    'user.friends_count',\n",
    "                    'user.listed_count',\n",
    "                    'user.favourites_count',\n",
    "                    'user.statuses_count',\n",
    "                    'user.created_at']\n",
    "len(retwt_attributes) # 28"
   ]
  },
  {
   "cell_type": "code",
   "execution_count": 238,
   "metadata": {},
   "outputs": [
    {
     "data": {
      "text/plain": [
       "13"
      ]
     },
     "execution_count": 238,
     "metadata": {},
     "output_type": "execute_result"
    }
   ],
   "source": [
    "# selected attributes in user\n",
    "user_attr_tracking = ['id_str',\n",
    "                      'name',\n",
    "                      'screen_name',\n",
    "                      'url',\n",
    "                      'description',\n",
    "                      'protected',\n",
    "                      'verified',\n",
    "                      'followers_count',\n",
    "                      'friends_count',\n",
    "                      'listed_count',\n",
    "                      'favourites_count',\n",
    "                      'statuses_count',\n",
    "                      'created_at']\n",
    "\n",
    "len(user_attr_tracking) #13"
   ]
  },
  {
   "cell_type": "markdown",
   "metadata": {},
   "source": [
    "### user_store function"
   ]
  },
  {
   "cell_type": "code",
   "execution_count": 239,
   "metadata": {},
   "outputs": [],
   "source": [
    "def user_store(user, userid_table):\n",
    "    \n",
    "    # if user has not been seen before, add id to userid_table\n",
    "    if user['id_str'] not in userid_table:\n",
    "        userid_table.append(user['id_str'])\n",
    "        \n",
    "        # update datastores with defined tracking attributes\n",
    "        user_attr_selected = {key: user[key] for key in user_attr_tracking if key in user}\n",
    "        user_list.append(user_attr_selected)"
   ]
  },
  {
   "cell_type": "code",
   "execution_count": 240,
   "metadata": {},
   "outputs": [],
   "source": [
    "# test test\n",
    "\n",
    "twt_id_record = []\n",
    "userid_table = [] # store userid\n",
    "user_list = [] # store every attributes of user needed tracking\n",
    "\n",
    "with open(\"./data/corona-out-2\", \"r\") as f1:\n",
    "    for line in f1:\n",
    "        try:\n",
    "            data = json.loads(line)\n",
    "            if data[\"id_str\"] not in twt_id_record:\n",
    "                twt_id_record.append(data[\"id_str\"])\n",
    "            # if tweet has been seen before \n",
    "            else:\n",
    "                # ignore this tweet, go to next iteration of loop\n",
    "                continue\n",
    "            \n",
    "            user = data['user']\n",
    "            user_store(user, userid_table)\n",
    "        except:\n",
    "            continue"
   ]
  },
  {
   "cell_type": "code",
   "execution_count": 241,
   "metadata": {},
   "outputs": [
    {
     "data": {
      "text/plain": [
       "15505"
      ]
     },
     "execution_count": 241,
     "metadata": {},
     "output_type": "execute_result"
    }
   ],
   "source": [
    "len(user_list)"
   ]
  },
  {
   "cell_type": "markdown",
   "metadata": {},
   "source": [
    "### tweets / retweet store"
   ]
  },
  {
   "cell_type": "code",
   "execution_count": 242,
   "metadata": {},
   "outputs": [],
   "source": [
    "# this is a partial template for processing the dataset to store into the datastores.\n",
    "# you will need to write functions for the psuedocode sections and invoke them here\n",
    "\n",
    "#insert path and replace name of the file below as needed\n",
    "\n",
    "twt_id_record = []\n",
    "userid_table = [] # store userid\n",
    "user_list = [] # store tracking attributes of user\n",
    "retwt_list = [] # list to store retweets\n",
    "retwt_lines = 0 # count # of retweets\n",
    "twt_list = []\n",
    "twt_lines = 0\n",
    "\n",
    "with open(\"./data/corona-out-2\", \"r\") as f1:\n",
    "    for line in f1:\n",
    "        try:\n",
    "            data = json.loads(line)\n",
    "            if data[\"id_str\"] not in twt_id_record:\n",
    "                twt_id_record.append(data[\"id_str\"])\n",
    "            # if tweet has been seen before \n",
    "            else:\n",
    "                # ignore this tweet, go to next iteration of loop\n",
    "                continue\n",
    "            \n",
    "            user = data['user']\n",
    "            user_store(user, userid_table)\n",
    "            \n",
    "            \n",
    "            if ( data['text'].startswith('RT') ):\n",
    "                # try:\n",
    "                    # update retweet information\n",
    "                    selected_dict = {}\n",
    "                    retwt_lines = retwt_lines + 1\n",
    "                    for attribute in retwt_attributes:\n",
    "                        try:\n",
    "                            # assigns the reference: any changes made to one will affect the other\n",
    "                            current_dict = data\n",
    "                            current_selected_dict = selected_dict\n",
    "                            # parent-child attributes\n",
    "                            for sub_attribute in attribute.split('.'):\n",
    "                                # parent attributes\n",
    "                                current_dict = current_dict[sub_attribute]\n",
    "                                # child attributes\n",
    "                                if sub_attribute == attribute.split('.')[-1]:\n",
    "                                    current_selected_dict[sub_attribute] = current_dict\n",
    "                                else:\n",
    "                                    if sub_attribute not in current_selected_dict:\n",
    "                                        current_selected_dict[sub_attribute] = {}\n",
    "                                    current_selected_dict = current_selected_dict[sub_attribute]\n",
    "                        except:\n",
    "                            continue\n",
    "                    retwt_list.append(selected_dict)\n",
    "                # except:\n",
    "                    # continue\n",
    "\n",
    "                # pass  # does nothing right now\n",
    "                \n",
    "            else:\n",
    "                # add the new tweet to datastore\n",
    "                    selected_dict = {}\n",
    "                    twt_lines = twt_lines + 1\n",
    "                    for attribute in twt_attributes:\n",
    "                        try:\n",
    "                            # assigns the reference: any changes made to one will affect the other\n",
    "                            current_dict = data\n",
    "                            current_selected_dict = selected_dict\n",
    "                            # parent-child attributes\n",
    "                            for sub_attribute in attribute.split('.'):\n",
    "                                # parent attributes\n",
    "                                current_dict = current_dict[sub_attribute]\n",
    "                                # child attributes\n",
    "                                if sub_attribute == attribute.split('.')[-1]:\n",
    "                                    current_selected_dict[sub_attribute] = current_dict\n",
    "                                else:\n",
    "                                    if sub_attribute not in current_selected_dict:\n",
    "                                        current_selected_dict[sub_attribute] = {}\n",
    "                                    current_selected_dict = current_selected_dict[sub_attribute]\n",
    "                        except:\n",
    "                            continue\n",
    "                    twt_list.append(selected_dict)\n",
    "        except:\n",
    "            continue"
   ]
  },
  {
   "cell_type": "code",
   "execution_count": 243,
   "metadata": {},
   "outputs": [
    {
     "data": {
      "text/plain": [
       "15505"
      ]
     },
     "execution_count": 243,
     "metadata": {},
     "output_type": "execute_result"
    }
   ],
   "source": [
    "len(userid_table)"
   ]
  },
  {
   "cell_type": "code",
   "execution_count": 244,
   "metadata": {},
   "outputs": [
    {
     "data": {
      "text/plain": [
       "15505"
      ]
     },
     "execution_count": 244,
     "metadata": {},
     "output_type": "execute_result"
    }
   ],
   "source": [
    "len(user_list)"
   ]
  },
  {
   "cell_type": "code",
   "execution_count": 245,
   "metadata": {},
   "outputs": [
    {
     "data": {
      "text/plain": [
       "{'id_str': '1225145123920588805',\n",
       " 'name': 'efe09',\n",
       " 'screen_name': 'efe0927183508',\n",
       " 'url': None,\n",
       " 'description': \"Allah'ın en değerli eseri insandır.\\nCanı yanan sabretsin.\\nCan yakan, canının yanacağı günü beklesin..\\n677 khk\\nRT düşüncem olduğu anlamına gelmez bilgi amaçlıdır\",\n",
       " 'protected': False,\n",
       " 'verified': False,\n",
       " 'followers_count': 653,\n",
       " 'friends_count': 983,\n",
       " 'listed_count': 0,\n",
       " 'favourites_count': 1255,\n",
       " 'statuses_count': 4177,\n",
       " 'created_at': 'Wed Feb 05 19:52:38 +0000 2020'}"
      ]
     },
     "execution_count": 245,
     "metadata": {},
     "output_type": "execute_result"
    }
   ],
   "source": [
    "user_list[1]"
   ]
  },
  {
   "cell_type": "code",
   "execution_count": 246,
   "metadata": {},
   "outputs": [
    {
     "data": {
      "text/plain": [
       "7349"
      ]
     },
     "execution_count": 246,
     "metadata": {},
     "output_type": "execute_result"
    }
   ],
   "source": [
    "twt_lines"
   ]
  },
  {
   "cell_type": "code",
   "execution_count": 247,
   "metadata": {},
   "outputs": [
    {
     "data": {
      "text/plain": [
       "7349"
      ]
     },
     "execution_count": 247,
     "metadata": {},
     "output_type": "execute_result"
    }
   ],
   "source": [
    "len(twt_list)"
   ]
  },
  {
   "cell_type": "code",
   "execution_count": 248,
   "metadata": {},
   "outputs": [
    {
     "data": {
      "text/plain": [
       "{'created_at': 'Sun Apr 12 18:27:26 +0000 2020',\n",
       " 'id_str': '1249403771261722624',\n",
       " 'text': '#Bo der Osterhase hat nicht Corona, er ist gekommen.',\n",
       " 'in_reply_to_status_id_str': None,\n",
       " 'in_reply_to_user_id_str': None,\n",
       " 'in_reply_to_screen_name': None,\n",
       " 'quote_count': 0,\n",
       " 'reply_count': 0,\n",
       " 'retweet_count': 0,\n",
       " 'favorite_count': 0,\n",
       " 'entities': {'hashtags': [{'text': 'Bo', 'indices': [0, 3]}],\n",
       "  'urls': [],\n",
       "  'user_mentions': [],\n",
       "  'symbols': []},\n",
       " 'user': {'id_str': '1171484224244744198',\n",
       "  'name': 'Elfpunkt',\n",
       "  'screen_name': 'meElfpunkt',\n",
       "  'url': None,\n",
       "  'description': 'Mal 1 mal 0 mal Tilt',\n",
       "  'protected': False,\n",
       "  'verified': False,\n",
       "  'followers_count': 3,\n",
       "  'friends_count': 53,\n",
       "  'listed_count': 0,\n",
       "  'favourites_count': 72,\n",
       "  'statuses_count': 60,\n",
       "  'created_at': 'Tue Sep 10 18:03:17 +0000 2019'}}"
      ]
     },
     "execution_count": 248,
     "metadata": {},
     "output_type": "execute_result"
    }
   ],
   "source": [
    "twt_list[1]"
   ]
  },
  {
   "cell_type": "code",
   "execution_count": 249,
   "metadata": {},
   "outputs": [
    {
     "data": {
      "text/plain": [
       "11157"
      ]
     },
     "execution_count": 249,
     "metadata": {},
     "output_type": "execute_result"
    }
   ],
   "source": [
    "retwt_lines"
   ]
  },
  {
   "cell_type": "code",
   "execution_count": 250,
   "metadata": {},
   "outputs": [
    {
     "data": {
      "text/plain": [
       "11157"
      ]
     },
     "execution_count": 250,
     "metadata": {},
     "output_type": "execute_result"
    }
   ],
   "source": [
    "len(retwt_list)"
   ]
  },
  {
   "cell_type": "code",
   "execution_count": 251,
   "metadata": {},
   "outputs": [
    {
     "data": {
      "text/plain": [
       "{'created_at': 'Sun Apr 12 18:27:25 +0000 2020',\n",
       " 'id_str': '1249403768023678982',\n",
       " 'text': 'RT @lale_karanfil: In Turkey, there are 300 thousand prisoners and 150 thousand prison employees in prisons. \\nPrisons are the most risky pl…',\n",
       " 'in_reply_to_status_id_str': None,\n",
       " 'in_reply_to_user_id_str': None,\n",
       " 'in_reply_to_screen_name': None,\n",
       " 'quote_count': 0,\n",
       " 'reply_count': 0,\n",
       " 'retweet_count': 0,\n",
       " 'favorite_count': 0,\n",
       " 'entities': {'hashtags': [],\n",
       "  'urls': [],\n",
       "  'user_mentions': [{'screen_name': 'lale_karanfil',\n",
       "    'name': 'Karanfil Lale',\n",
       "    'id': 1087735689091928064,\n",
       "    'id_str': '1087735689091928064',\n",
       "    'indices': [3, 17]}],\n",
       "  'symbols': []},\n",
       " 'retweeted_status': {'id_str': '1249397541596286979'},\n",
       " 'user': {'id_str': '1225145123920588805',\n",
       "  'name': 'efe09',\n",
       "  'screen_name': 'efe0927183508',\n",
       "  'url': None,\n",
       "  'description': \"Allah'ın en değerli eseri insandır.\\nCanı yanan sabretsin.\\nCan yakan, canının yanacağı günü beklesin..\\n677 khk\\nRT düşüncem olduğu anlamına gelmez bilgi amaçlıdır\",\n",
       "  'protected': False,\n",
       "  'verified': False,\n",
       "  'followers_count': 653,\n",
       "  'friends_count': 983,\n",
       "  'listed_count': 0,\n",
       "  'favourites_count': 1255,\n",
       "  'statuses_count': 4177,\n",
       "  'created_at': 'Wed Feb 05 19:52:38 +0000 2020'}}"
      ]
     },
     "execution_count": 251,
     "metadata": {},
     "output_type": "execute_result"
    }
   ],
   "source": [
    "retwt_list[1]"
   ]
  },
  {
   "cell_type": "code",
   "execution_count": 252,
   "metadata": {},
   "outputs": [],
   "source": [
    "# # # encapsulation test: don't know why it didn't work as a function\n",
    "\n",
    "# # store tweets/retweets data & count nums\n",
    "# def retwt_store(data):\n",
    "#     # list for store tweets/retweets data\n",
    "#     selected_dict = {}\n",
    "#     retwt_lines = retwt_lines + 1\n",
    "#     for attribute in retwt_attributes:\n",
    "#         try:\n",
    "#             # assigns the reference: any changes made to one will affect the other\n",
    "#             current_dict = data\n",
    "#             current_selected_dict = selected_dict\n",
    "#             # parent-child attributes\n",
    "#             for sub_attribute in attribute.split('.'):\n",
    "#                 # parent attributes\n",
    "#                 current_dict = current_dict[sub_attribute]\n",
    "#                 # child attributes\n",
    "#                 if sub_attribute == attribute.split('.')[-1]:\n",
    "#                     current_selected_dict[sub_attribute] = current_dict\n",
    "#                 else:\n",
    "#                     if sub_attribute not in current_selected_dict:\n",
    "#                         current_selected_dict[sub_attribute] = {}\n",
    "#                     current_selected_dict = current_selected_dict[sub_attribute]\n",
    "#         except:\n",
    "#             continue\n",
    "#     retwt_list.append(selected_dict)"
   ]
  },
  {
   "cell_type": "markdown",
   "metadata": {},
   "source": [
    "## Store in Redis (test: user_list only)"
   ]
  },
  {
   "cell_type": "code",
   "execution_count": 253,
   "metadata": {},
   "outputs": [],
   "source": [
    "import redis # for cache\n",
    "import pymongo # for NoSQL data store\n",
    "\n",
    "from redis.commands.json.path import Path\n",
    "import redis.commands.search.aggregation as aggregations\n",
    "import redis.commands.search.reducers as reducers\n",
    "from redis.commands.search.field import TextField, NumericField, TagField\n",
    "from redis.commands.search.indexDefinition import IndexDefinition, IndexType\n",
    "from redis.commands.search.query import NumericFilter, Query\n",
    "\n",
    "# connect to a Redis cluster\n",
    "from redis.cluster import RedisCluster\n",
    "from string import ascii_letters\n",
    "import random"
   ]
  },
  {
   "cell_type": "code",
   "execution_count": 254,
   "metadata": {},
   "outputs": [],
   "source": [
    "redis_client = redis.Redis(host='localhost', port=6379, decode_responses=True)\n",
    "redis_pool = redis.ConnectionPool(host='localhost', port=6379, decode_responses=True)"
   ]
  },
  {
   "cell_type": "code",
   "execution_count": 255,
   "metadata": {},
   "outputs": [],
   "source": [
    "# initiate: remove all the data exists.\n",
    "for key in redis_client.keys():\n",
    "    redis_client.delete(key)"
   ]
  },
  {
   "cell_type": "code",
   "execution_count": 257,
   "metadata": {},
   "outputs": [
    {
     "data": {
      "text/plain": [
       "0"
      ]
     },
     "execution_count": 257,
     "metadata": {},
     "output_type": "execute_result"
    }
   ],
   "source": [
    "# check keys in the Redis database\n",
    "len(redis_client.keys())"
   ]
  },
  {
   "cell_type": "code",
   "execution_count": 258,
   "metadata": {},
   "outputs": [],
   "source": [
    "import datetime\n",
    "from typing import List, Optional\n",
    "from pydantic import BaseModel, NonNegativeInt, HttpUrl, AnyUrl, ValidationError\n",
    "from redis_om import (EmbeddedJsonModel, Field, JsonModel, HashModel, Migrator, NotFoundError, get_redis_connection)"
   ]
  },
  {
   "cell_type": "markdown",
   "metadata": {},
   "source": [
    "[Field Types supported by Pydantic](https://docs.pydantic.dev/usage/types/)"
   ]
  },
  {
   "cell_type": "code",
   "execution_count": 259,
   "metadata": {},
   "outputs": [],
   "source": [
    "# del twt_user_model"
   ]
  },
  {
   "cell_type": "code",
   "execution_count": 260,
   "metadata": {},
   "outputs": [],
   "source": [
    "# build an embedded sub-model twt_user with Redis OM\n",
    "\n",
    "class twt_user_model(EmbeddedJsonModel):\n",
    "    id_str: str = Field(index=True)\n",
    "    name: str = Field(index=True, full_text_search=True)\n",
    "    screen_name: str = Field(index=True, full_text_search=True)\n",
    "    url: Optional[AnyUrl]\n",
    "    description: Optional[str] = Field(index=False, full_text_search=True) # perform full text searches on the values\n",
    "    protected: Optional[bool]\n",
    "    verified: Optional[bool]\n",
    "    followers_count: Optional[NonNegativeInt] = Field(index=True)\n",
    "    friends_count: Optional[NonNegativeInt] = Field(index=True)\n",
    "    listed_count: Optional[NonNegativeInt]\n",
    "    favourites_count: Optional[NonNegativeInt]\n",
    "    statuses_count: Optional[NonNegativeInt] = Field(index=True)\n",
    "    created_at: str = Field(index=True, full_text_search=True) # don't really know how to define this type of data yet, got errors on datetime.datetime\n",
    "    \n",
    "    class Meta:\n",
    "        # A redis.asyncio.Redis or redis.Redis client instance that the model will use to communicate with Redis.\n",
    "        database = get_redis_connection()"
   ]
  },
  {
   "cell_type": "code",
   "execution_count": 261,
   "metadata": {},
   "outputs": [],
   "source": [
    "# store user_list data into Redis, using \"id_str\" as key\n",
    "\n",
    "for i in range(len(user_list)):\n",
    "    new_user = twt_user_model(**user_list[i])\n",
    "    new_user.save()\n",
    "    new_user.expire(24 * 3600) # time to live: 1 day"
   ]
  },
  {
   "cell_type": "code",
   "execution_count": 262,
   "metadata": {},
   "outputs": [],
   "source": [
    "# use Migrator to create the indexes for any models that have indexed fields\n",
    "Migrator().run()"
   ]
  },
  {
   "cell_type": "code",
   "execution_count": 263,
   "metadata": {},
   "outputs": [
    {
     "data": {
      "text/plain": [
       "15508"
      ]
     },
     "execution_count": 263,
     "metadata": {},
     "output_type": "execute_result"
    }
   ],
   "source": [
    "# check storage status: should be 15505\n",
    "len(redis_client.keys())"
   ]
  },
  {
   "cell_type": "markdown",
   "metadata": {},
   "source": [
    "### search"
   ]
  },
  {
   "cell_type": "code",
   "execution_count": 264,
   "metadata": {},
   "outputs": [
    {
     "data": {
      "text/plain": [
       "{'pk': '01GYGY7N04C7PGGXRQXW10X6VX',\n",
       " 'id_str': '719847091493847040',\n",
       " 'name': '両棲装〇戦闘車太郎',\n",
       " 'screen_name': 'd2N5Q4GciZtsa2e',\n",
       " 'url': None,\n",
       " 'description': '自称：軍板泡沫コテにしてカエルの成虫、あるいはツイレイシスト≡ポリコレという怪物と戦う為に自らも怪物となることを選んだ両棲類。\\u3000\\n無言フォロー・リムーブは当然の権利、キミもオレも行使するべき。\\u3000\\n\\u3000\\n#とある魔術の電脳戦機 出戻りますた、ファニーランチャーもっと中って？',\n",
       " 'protected': False,\n",
       " 'verified': False,\n",
       " 'followers_count': 1165,\n",
       " 'friends_count': 4972,\n",
       " 'listed_count': 24,\n",
       " 'favourites_count': 223036,\n",
       " 'statuses_count': 309045,\n",
       " 'created_at': 'Tue Apr 12 11:18:15 +0000 2016'}"
      ]
     },
     "execution_count": 264,
     "metadata": {},
     "output_type": "execute_result"
    }
   ],
   "source": [
    "# search by pk  - .get(pk)\n",
    "\n",
    "twt_user_model.get(\"01GYGY7N04C7PGGXRQXW10X6VX\").dict()"
   ]
  },
  {
   "cell_type": "code",
   "execution_count": 265,
   "metadata": {},
   "outputs": [
    {
     "data": {
      "text/plain": [
       "[twt_user_model(pk='01GYGY8B5W717BBR75PX80174Q', id_str='772526540240347136', name='Gabriela', screen_name='KeniaG2811', url=None, description='26.03 👫❤ @Flamengo @Cristiano', protected=False, verified=False, followers_count=656, friends_count=1360, listed_count=0, favourites_count=19642, statuses_count=11110, created_at='Sun Sep 04 20:07:34 +0000 2016')]"
      ]
     },
     "execution_count": 265,
     "metadata": {},
     "output_type": "execute_result"
    }
   ],
   "source": [
    "# search by id\n",
    "\n",
    "twt_user_model.find(twt_user_model.id_str == \"772526540240347136\").all()"
   ]
  },
  {
   "cell_type": "code",
   "execution_count": 266,
   "metadata": {},
   "outputs": [
    {
     "data": {
      "text/plain": [
       "[twt_user_model(pk='01GYGY7VN2BEPZKRTHT4ZN4PBT', id_str='1248347704197025792', name='Tim Gustafsson 🇸🇪🇳🇴🇩🇰🇫🇮🇲🇫🇩🇪🇪🇺🇬🇧', screen_name='JusticiarThe', url=None, description='17 years experience in medicines', protected=False, verified=False, followers_count=15, friends_count=159, listed_count=0, favourites_count=52, statuses_count=311, created_at='Thu Apr 09 20:31:13 +0000 2020')]"
      ]
     },
     "execution_count": 266,
     "metadata": {},
     "output_type": "execute_result"
    }
   ],
   "source": [
    "# search by str\n",
    "\n",
    "twt_user_model.find(twt_user_model.screen_name == \"JusticiarThe\").all()"
   ]
  },
  {
   "cell_type": "code",
   "execution_count": 267,
   "metadata": {},
   "outputs": [],
   "source": [
    "# search by some number: tweeter with the mamixmum number of followers\n",
    "\n",
    "top_tweeter = twt_user_model.find(\n",
    "    twt_user_model.followers_count >= 2000000\n",
    ").sort_by(\"-followers_count\").all()"
   ]
  },
  {
   "cell_type": "code",
   "execution_count": 268,
   "metadata": {},
   "outputs": [
    {
     "name": "stdout",
     "output_type": "stream",
     "text": [
      "detikcom\t15884929\n",
      "\n",
      "la_patilla\t7121282\n",
      "\n",
      "skynewsarabia\t5652410\n",
      "\n",
      "virsanghvi\t4329132\n",
      "\n",
      "NTelevisa_com\t3047122\n",
      "\n",
      "repubblica\t2992272\n",
      "\n",
      "casspernyovest\t2702055\n",
      "\n"
     ]
    }
   ],
   "source": [
    "for i in range(len(top_tweeter)):\n",
    "    print(top_tweeter[i].screen_name + \"\\t\" + str(top_tweeter[i].followers_count) + \"\\n\")"
   ]
  },
  {
   "cell_type": "code",
   "execution_count": null,
   "metadata": {},
   "outputs": [],
   "source": []
  }
 ],
 "metadata": {
  "kernelspec": {
   "display_name": "Python 3 (ipykernel)",
   "language": "python",
   "name": "python3"
  },
  "language_info": {
   "codemirror_mode": {
    "name": "ipython",
    "version": 3
   },
   "file_extension": ".py",
   "mimetype": "text/x-python",
   "name": "python",
   "nbconvert_exporter": "python",
   "pygments_lexer": "ipython3",
   "version": "3.9.12"
  },
  "toc": {
   "base_numbering": 1,
   "nav_menu": {},
   "number_sections": true,
   "sideBar": true,
   "skip_h1_title": false,
   "title_cell": "Table of Contents",
   "title_sidebar": "Contents",
   "toc_cell": false,
   "toc_position": {},
   "toc_section_display": true,
   "toc_window_display": false
  }
 },
 "nbformat": 4,
 "nbformat_minor": 4
}
