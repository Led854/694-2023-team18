{
 "cells": [
  {
   "cell_type": "code",
   "execution_count": 1,
   "id": "6dd5d5b7-b814-43e0-9c94-d3e3ff527782",
   "metadata": {},
   "outputs": [],
   "source": [
    "import json\n",
    "import os"
   ]
  },
  {
   "cell_type": "markdown",
   "id": "279f03e3-1bb7-4733-96aa-d90383c7d422",
   "metadata": {},
   "source": [
    "# Overview: check tweets data"
   ]
  },
  {
   "cell_type": "code",
   "execution_count": 2,
   "id": "99dbb634-7595-4535-8c88-18f805f1e104",
   "metadata": {},
   "outputs": [],
   "source": [
    "# this code block allows you to inspect 2 tweets and 2 retweets in the dataset\n",
    "# it also saves all the unique tweets/retweets in the dictionary tweets\n",
    "# this code will help you to understand the data\n",
    "# feel free to print out more fields\n",
    "\n",
    "lines=0\n",
    "num_tweets=0\n",
    "num_retweets=0\n",
    "print_tweet = 0\n",
    "print_retweet = 0\n",
    "tweets = {}"
   ]
  },
  {
   "cell_type": "code",
   "execution_count": 3,
   "id": "08fd661b-4c1c-462e-9a33-95e4ce3c295a",
   "metadata": {},
   "outputs": [
    {
     "name": "stdout",
     "output_type": "stream",
     "text": [
      "num of lines= 18518 num of tweets= 7356 num of retweets= 11162\n",
      "num of unique tweets/retweets= 18506\n"
     ]
    }
   ],
   "source": [
    "with open(\"./data/corona-out-2\", \"r\") as f1:\n",
    "    for line in f1:\n",
    "        try:\n",
    "            data = json.loads(line)\n",
    "            # one line is one tweet or retweet recording\n",
    "            lines = lines + 1\n",
    "\n",
    "            if ( data['text'].startswith('RT') ):\n",
    "                num_retweets += 1\n",
    "                #print out some fields of one retweet \n",
    "                #note that you should look at other fields too\n",
    "                if (print_retweet < 2):\n",
    "                    print_retweet += 1\n",
    "                    # print('RETWEET\\n','id--',data['id'],'text--',data['text'],'\\n')\n",
    "                    \n",
    "                    # print('User-- ',data['user'],'\\n')\n",
    "                  \n",
    "                    # print('retweetstatus--',data['retweeted_status'],'\\n')\n",
    "\n",
    "            else:\n",
    "                num_tweets += 1\n",
    "                #print out some fields of one tweet \n",
    "                #note that you should look at other fields too\n",
    "                if (print_tweet < 2):\n",
    "                    print_tweet += 1\n",
    "                    # print('TWEET\\n','id--',data['id'],'text--',data['text'],'\\n')\n",
    "                    # print('User-- ',data['user'],'\\n')\n",
    "                    \n",
    "\n",
    "\n",
    "            if (data['id_str'] not in tweets):\n",
    "                tweets[data['id_str']] = data\n",
    "            \n",
    "        except:\n",
    "            # if there is an error loading the json of the tweet, skip\n",
    "            continue\n",
    "            \n",
    "print('num of lines=',lines, 'num of tweets=',num_tweets, 'num of retweets=',num_retweets)\n",
    "print('num of unique tweets/retweets=',len(tweets.keys()))"
   ]
  },
  {
   "cell_type": "markdown",
   "id": "f2b0c0cf-1a3d-4979-8878-a14a852e1551",
   "metadata": {},
   "source": [
    "# Check the attributes structure of tweets and retweets\n",
    "Decide the attributes that need to be retrieved and cached.\n",
    "\n",
    "-  attributes structure \n",
    "    - \\# of fundamental attributes: 28\n",
    "    - optional attributes\n",
    "        - retweets can be distinguished from typical Tweets by the existence of a `retweeted_status` attribute.\n",
    "        - `display_text_range` & **`extended_tweet`** when `truncated` is True\n",
    "        - `quoted_status_id` & `quoted_status_id_str` when the Tweet is a quote Tweet\n",
    "    - Main objects\n",
    "        - Parent object\n",
    "            - `Tweet`\n",
    "        - Child object\n",
    "            - `User`\n",
    "            - `Entities`\n",
    "            - `Extended Entities`"
   ]
  },
  {
   "cell_type": "code",
   "execution_count": 11,
   "id": "b5627ad0-3153-4c01-b855-dc45df4f8346",
   "metadata": {},
   "outputs": [],
   "source": [
    "# check the child attributes\n",
    "\n",
    "def find_child_attr(nested_dict, prefix=''):\n",
    "    # function to list several child objects keys\n",
    "    keys = []\n",
    "    for key, value in nested_dict.items():\n",
    "        if isinstance(value, dict):\n",
    "            nested_keys = find_child_attr(value, f\"{prefix}{key}.\")\n",
    "            keys.extend(nested_keys)\n",
    "            keys.append(f\"{prefix}{key}\")\n",
    "    return keys"
   ]
  },
  {
   "cell_type": "markdown",
   "id": "15cc2f17-784e-4fd3-b1ce-1d9d5204d1c1",
   "metadata": {},
   "source": [
    "## tweet"
   ]
  },
  {
   "cell_type": "code",
   "execution_count": 5,
   "id": "d66a6078-7536-4591-a9ba-cf38f5729231",
   "metadata": {},
   "outputs": [],
   "source": [
    "with open(\"./data/corona-out-2\", \"r\") as f1:\n",
    "    # get an original tweet data\n",
    "    for line in f1:\n",
    "        try:\n",
    "            tweet_data = json.loads(line)\n",
    "            \n",
    "            if not (tweet_data['text'].startswith('RT')):\n",
    "                # print(tweet_data)\n",
    "                break\n",
    "        except:\n",
    "            continue"
   ]
  },
  {
   "cell_type": "code",
   "execution_count": 6,
   "id": "f670a26b-ec53-4784-920e-aa5fbe4897df",
   "metadata": {},
   "outputs": [
    {
     "data": {
      "text/plain": [
       "30"
      ]
     },
     "execution_count": 6,
     "metadata": {},
     "output_type": "execute_result"
    }
   ],
   "source": [
    "len(tweet_data) # has an extra 'display_text_range' and 'extended_tweet' field when 'truncated' is True."
   ]
  },
  {
   "cell_type": "code",
   "execution_count": 7,
   "id": "48e5234a-1b8b-4869-8f41-5b8f898a9b64",
   "metadata": {},
   "outputs": [
    {
     "name": "stdout",
     "output_type": "stream",
     "text": [
      "Keys in the dictionary:\n",
      "- created_at\n",
      "- id\n",
      "- id_str\n",
      "- text\n",
      "- display_text_range\n",
      "- source\n",
      "- truncated\n",
      "- in_reply_to_status_id\n",
      "- in_reply_to_status_id_str\n",
      "- in_reply_to_user_id\n",
      "- in_reply_to_user_id_str\n",
      "- in_reply_to_screen_name\n",
      "- user\n",
      "- geo\n",
      "- coordinates\n",
      "- place\n",
      "- contributors\n",
      "- is_quote_status\n",
      "- extended_tweet\n",
      "- quote_count\n",
      "- reply_count\n",
      "- retweet_count\n",
      "- favorite_count\n",
      "- entities\n",
      "- favorited\n",
      "- retweeted\n",
      "- possibly_sensitive\n",
      "- filter_level\n",
      "- lang\n",
      "- timestamp_ms\n"
     ]
    }
   ],
   "source": [
    "tw_keys_str = \"\\n- \".join(tweet_data.keys())\n",
    "print(\"Keys in the dictionary:\\n- \" + tw_keys_str)"
   ]
  },
  {
   "cell_type": "code",
   "execution_count": 12,
   "id": "39d95d4a-cd7a-4930-b769-28a06258ba46",
   "metadata": {},
   "outputs": [
    {
     "data": {
      "text/plain": [
       "['user',\n",
       " 'extended_tweet.entities',\n",
       " 'extended_tweet.extended_entities',\n",
       " 'extended_tweet',\n",
       " 'entities']"
      ]
     },
     "execution_count": 12,
     "metadata": {},
     "output_type": "execute_result"
    }
   ],
   "source": [
    "find_child_attr(tweet_data)"
   ]
  },
  {
   "cell_type": "markdown",
   "id": "3f8009ad-3449-438e-94ca-c44cc8015a14",
   "metadata": {},
   "source": [
    "### user"
   ]
  },
  {
   "cell_type": "code",
   "execution_count": 13,
   "id": "2c22020f-8480-4d08-a189-5c000063b0d9",
   "metadata": {},
   "outputs": [
    {
     "data": {
      "text/plain": [
       "39"
      ]
     },
     "execution_count": 13,
     "metadata": {},
     "output_type": "execute_result"
    }
   ],
   "source": [
    "len(tweet_data['user']) # 39"
   ]
  },
  {
   "cell_type": "code",
   "execution_count": 14,
   "id": "080b242d-448a-4190-86bd-607fa1adbdb6",
   "metadata": {},
   "outputs": [
    {
     "data": {
      "text/plain": [
       "{'id': 988174833849634816,\n",
       " 'id_str': '988174833849634816',\n",
       " 'name': 'TV Conservador / Metró',\n",
       " 'screen_name': 'TVConservador',\n",
       " 'location': 'Belém, Brasil',\n",
       " 'url': None,\n",
       " 'description': 'Emissora afiliada a Rede Metrópole (@cnt_pr) no estado do Pará. As notícias aqui dadas são FICTÍCIAS, não pegue corda ok 👍\\n\\n© Sistema O Conservador Ltda.',\n",
       " 'translator_type': 'none',\n",
       " 'protected': False,\n",
       " 'verified': False,\n",
       " 'followers_count': 7240,\n",
       " 'friends_count': 566,\n",
       " 'listed_count': 17,\n",
       " 'favourites_count': 18417,\n",
       " 'statuses_count': 22665,\n",
       " 'created_at': 'Sun Apr 22 21:56:54 +0000 2018',\n",
       " 'utc_offset': None,\n",
       " 'time_zone': None,\n",
       " 'geo_enabled': False,\n",
       " 'lang': None,\n",
       " 'contributors_enabled': False,\n",
       " 'is_translator': False,\n",
       " 'profile_background_color': '000000',\n",
       " 'profile_background_image_url': 'http://abs.twimg.com/images/themes/theme1/bg.png',\n",
       " 'profile_background_image_url_https': 'https://abs.twimg.com/images/themes/theme1/bg.png',\n",
       " 'profile_background_tile': False,\n",
       " 'profile_link_color': '1B95E0',\n",
       " 'profile_sidebar_border_color': '000000',\n",
       " 'profile_sidebar_fill_color': '000000',\n",
       " 'profile_text_color': '000000',\n",
       " 'profile_use_background_image': False,\n",
       " 'profile_image_url': 'http://pbs.twimg.com/profile_images/1245501760518701057/zUWjkVz__normal.jpg',\n",
       " 'profile_image_url_https': 'https://pbs.twimg.com/profile_images/1245501760518701057/zUWjkVz__normal.jpg',\n",
       " 'profile_banner_url': 'https://pbs.twimg.com/profile_banners/988174833849634816/1585783589',\n",
       " 'default_profile': False,\n",
       " 'default_profile_image': False,\n",
       " 'following': None,\n",
       " 'follow_request_sent': None,\n",
       " 'notifications': None}"
      ]
     },
     "execution_count": 14,
     "metadata": {},
     "output_type": "execute_result"
    }
   ],
   "source": [
    "tweet_data['user']"
   ]
  },
  {
   "cell_type": "markdown",
   "id": "aa6ae73c-ad83-4ab2-9815-ce487ca6e93b",
   "metadata": {},
   "source": [
    "### entities"
   ]
  },
  {
   "cell_type": "code",
   "execution_count": 15,
   "id": "0c39b015-ab46-44a4-881f-d98772cca106",
   "metadata": {},
   "outputs": [
    {
     "data": {
      "text/plain": [
       "4"
      ]
     },
     "execution_count": 15,
     "metadata": {},
     "output_type": "execute_result"
    }
   ],
   "source": [
    "len(tweet_data['entities']) # 4"
   ]
  },
  {
   "cell_type": "code",
   "execution_count": 16,
   "id": "04d8f33c-b28c-4b6d-acc7-8bf20c1f8e4b",
   "metadata": {},
   "outputs": [
    {
     "data": {
      "text/plain": [
       "{'hashtags': [],\n",
       " 'urls': [{'url': 'https://t.co/lCcwYH2eg5',\n",
       "   'expanded_url': 'https://twitter.com/i/web/status/1249403770360016896',\n",
       "   'display_url': 'twitter.com/i/web/status/1…',\n",
       "   'indices': [117, 140]}],\n",
       " 'user_mentions': [],\n",
       " 'symbols': []}"
      ]
     },
     "execution_count": 16,
     "metadata": {},
     "output_type": "execute_result"
    }
   ],
   "source": [
    "tweet_data['entities']"
   ]
  },
  {
   "cell_type": "markdown",
   "id": "f75efc7a-61f2-41eb-9d19-c102b9a9bb5b",
   "metadata": {},
   "source": [
    "### extended tweet"
   ]
  },
  {
   "cell_type": "code",
   "execution_count": 17,
   "id": "c1ed2ebf-fd72-4fb8-924c-34982be94362",
   "metadata": {},
   "outputs": [
    {
     "name": "stdout",
     "output_type": "stream",
     "text": [
      "Keys in the dictionary:\n",
      "- full_text\n",
      "- display_text_range\n",
      "- entities\n",
      "- extended_entities\n"
     ]
    }
   ],
   "source": [
    "len(tweet_data['extended_tweet']) # 4\n",
    "\n",
    "tw_extd_keys_str = \"\\n- \".join(tweet_data['extended_tweet'].keys())\n",
    "print(\"Keys in the dictionary:\\n- \" + tw_extd_keys_str)"
   ]
  },
  {
   "cell_type": "code",
   "execution_count": 18,
   "id": "e8f26a0d-7dba-450d-8a28-27e2fff150c9",
   "metadata": {},
   "outputs": [
    {
     "data": {
      "text/plain": [
       "{'full_text': 'SERÁ APENAS COINCIDÊNCIA?\\n\\nApós escudo do Remo aparecer em prédio, Prefeitura divulgou que 33 pessoas com corona se recuperaram. Sim, 33! https://t.co/Q4HNeOJpn6',\n",
       " 'display_text_range': [0, 137],\n",
       " 'entities': {'hashtags': [],\n",
       "  'urls': [],\n",
       "  'user_mentions': [],\n",
       "  'symbols': [],\n",
       "  'media': [{'id': 1249403767126196226,\n",
       "    'id_str': '1249403767126196226',\n",
       "    'indices': [138, 161],\n",
       "    'media_url': 'http://pbs.twimg.com/media/EVbGG0iXgAI2FAm.jpg',\n",
       "    'media_url_https': 'https://pbs.twimg.com/media/EVbGG0iXgAI2FAm.jpg',\n",
       "    'url': 'https://t.co/Q4HNeOJpn6',\n",
       "    'display_url': 'pic.twitter.com/Q4HNeOJpn6',\n",
       "    'expanded_url': 'https://twitter.com/TVConservador/status/1249403770360016896/photo/1',\n",
       "    'type': 'photo',\n",
       "    'sizes': {'large': {'w': 498, 'h': 452, 'resize': 'fit'},\n",
       "     'thumb': {'w': 150, 'h': 150, 'resize': 'crop'},\n",
       "     'small': {'w': 498, 'h': 452, 'resize': 'fit'},\n",
       "     'medium': {'w': 498, 'h': 452, 'resize': 'fit'}}}]},\n",
       " 'extended_entities': {'media': [{'id': 1249403767126196226,\n",
       "    'id_str': '1249403767126196226',\n",
       "    'indices': [138, 161],\n",
       "    'media_url': 'http://pbs.twimg.com/media/EVbGG0iXgAI2FAm.jpg',\n",
       "    'media_url_https': 'https://pbs.twimg.com/media/EVbGG0iXgAI2FAm.jpg',\n",
       "    'url': 'https://t.co/Q4HNeOJpn6',\n",
       "    'display_url': 'pic.twitter.com/Q4HNeOJpn6',\n",
       "    'expanded_url': 'https://twitter.com/TVConservador/status/1249403770360016896/photo/1',\n",
       "    'type': 'photo',\n",
       "    'sizes': {'large': {'w': 498, 'h': 452, 'resize': 'fit'},\n",
       "     'thumb': {'w': 150, 'h': 150, 'resize': 'crop'},\n",
       "     'small': {'w': 498, 'h': 452, 'resize': 'fit'},\n",
       "     'medium': {'w': 498, 'h': 452, 'resize': 'fit'}}}]}}"
      ]
     },
     "execution_count": 18,
     "metadata": {},
     "output_type": "execute_result"
    }
   ],
   "source": [
    "tweet_data['extended_tweet']"
   ]
  },
  {
   "cell_type": "markdown",
   "id": "452809c1-30bc-4fce-9359-6d2920af88a7",
   "metadata": {},
   "source": [
    "## retweet"
   ]
  },
  {
   "cell_type": "code",
   "execution_count": 19,
   "id": "1a90da78-5f4e-4039-8456-c5eee9680fbc",
   "metadata": {},
   "outputs": [
    {
     "name": "stdout",
     "output_type": "stream",
     "text": [
      "Keys in the dictionary:\n",
      "- created_at\n",
      "- id\n",
      "- id_str\n",
      "- text\n",
      "- source\n",
      "- truncated\n",
      "- in_reply_to_status_id\n",
      "- in_reply_to_status_id_str\n",
      "- in_reply_to_user_id\n",
      "- in_reply_to_user_id_str\n",
      "- in_reply_to_screen_name\n",
      "- user\n",
      "- geo\n",
      "- coordinates\n",
      "- place\n",
      "- contributors\n",
      "- retweeted_status\n",
      "- is_quote_status\n",
      "- quote_count\n",
      "- reply_count\n",
      "- retweet_count\n",
      "- favorite_count\n",
      "- entities\n",
      "- favorited\n",
      "- retweeted\n",
      "- possibly_sensitive\n",
      "- filter_level\n",
      "- lang\n",
      "- timestamp_ms\n"
     ]
    }
   ],
   "source": [
    "# the last data item is a retweet\n",
    "\n",
    "len(data) # check the num of keys in data: 29\n",
    "\n",
    "keys_str = \"\\n- \".join(data.keys())\n",
    "print(\"Keys in the dictionary:\\n- \" + keys_str)"
   ]
  },
  {
   "cell_type": "code",
   "execution_count": 20,
   "id": "b1d0bf4a-04de-4224-a58f-c2aa5f8b27a9",
   "metadata": {},
   "outputs": [
    {
     "data": {
      "text/plain": [
       "['user',\n",
       " 'retweeted_status.user',\n",
       " 'retweeted_status.entities',\n",
       " 'retweeted_status',\n",
       " 'entities']"
      ]
     },
     "execution_count": 20,
     "metadata": {},
     "output_type": "execute_result"
    }
   ],
   "source": [
    "find_child_attr(data)\n",
    "# so we found that each tweets may contain two child attributes: `user`, `entities`\n",
    "# (suppose that retweets are tweets too)"
   ]
  },
  {
   "cell_type": "markdown",
   "id": "d28f38b0-2ac5-4713-9ffe-ce4ec1abbe16",
   "metadata": {},
   "source": [
    "### user"
   ]
  },
  {
   "cell_type": "code",
   "execution_count": 21,
   "id": "c38235f3-b741-43ee-ba13-978a7f831efe",
   "metadata": {},
   "outputs": [
    {
     "name": "stdout",
     "output_type": "stream",
     "text": [
      "Keys in the dictionary:\n",
      "- id\n",
      "- id_str\n",
      "- name\n",
      "- screen_name\n",
      "- location\n",
      "- url\n",
      "- description\n",
      "- translator_type\n",
      "- protected\n",
      "- verified\n",
      "- followers_count\n",
      "- friends_count\n",
      "- listed_count\n",
      "- favourites_count\n",
      "- statuses_count\n",
      "- created_at\n",
      "- utc_offset\n",
      "- time_zone\n",
      "- geo_enabled\n",
      "- lang\n",
      "- contributors_enabled\n",
      "- is_translator\n",
      "- profile_background_color\n",
      "- profile_background_image_url\n",
      "- profile_background_image_url_https\n",
      "- profile_background_tile\n",
      "- profile_link_color\n",
      "- profile_sidebar_border_color\n",
      "- profile_sidebar_fill_color\n",
      "- profile_text_color\n",
      "- profile_use_background_image\n",
      "- profile_image_url\n",
      "- profile_image_url_https\n",
      "- profile_banner_url\n",
      "- default_profile\n",
      "- default_profile_image\n",
      "- following\n",
      "- follow_request_sent\n",
      "- notifications\n"
     ]
    }
   ],
   "source": [
    "len(data['user']) # 39\n",
    "\n",
    "# keys in data.user\n",
    "keys_str = \"\\n- \".join(data['user'].keys())\n",
    "print(\"Keys in the dictionary:\\n- \" + keys_str)"
   ]
  },
  {
   "cell_type": "markdown",
   "id": "0e251d9f-8bd7-4c90-a243-f0e67ee74518",
   "metadata": {},
   "source": [
    "### entities"
   ]
  },
  {
   "cell_type": "code",
   "execution_count": 22,
   "id": "bcf38a6c-da6d-4ef7-a7f0-937927f2b7e6",
   "metadata": {},
   "outputs": [
    {
     "name": "stdout",
     "output_type": "stream",
     "text": [
      "Keys in the dictionary:\n",
      "- hashtags\n",
      "- urls\n",
      "- user_mentions\n",
      "- symbols\n"
     ]
    }
   ],
   "source": [
    "# keys in data.entities\n",
    "keys_str = \"\\n- \".join(data['entities'].keys())\n",
    "print(\"Keys in the dictionary:\\n- \" + keys_str)"
   ]
  },
  {
   "cell_type": "markdown",
   "id": "daa5636a-3a9e-445e-b657-2de4bc66f271",
   "metadata": {},
   "source": [
    "### retweet_status"
   ]
  },
  {
   "cell_type": "code",
   "execution_count": 23,
   "id": "52a3b86d-a916-4afc-b475-87f651a0f8f0",
   "metadata": {},
   "outputs": [
    {
     "name": "stdout",
     "output_type": "stream",
     "text": [
      "Keys in the dictionary:\n",
      "- created_at\n",
      "- id\n",
      "- id_str\n",
      "- text\n",
      "- source\n",
      "- truncated\n",
      "- in_reply_to_status_id\n",
      "- in_reply_to_status_id_str\n",
      "- in_reply_to_user_id\n",
      "- in_reply_to_user_id_str\n",
      "- in_reply_to_screen_name\n",
      "- user\n",
      "- geo\n",
      "- coordinates\n",
      "- place\n",
      "- contributors\n",
      "- is_quote_status\n",
      "- quote_count\n",
      "- reply_count\n",
      "- retweet_count\n",
      "- favorite_count\n",
      "- entities\n",
      "- favorited\n",
      "- retweeted\n",
      "- possibly_sensitive\n",
      "- filter_level\n",
      "- lang\n"
     ]
    }
   ],
   "source": [
    "len(data['retweeted_status']) # 27\n",
    "\n",
    "# keys in data.retweeted_status\n",
    "keys_str = \"\\n- \".join(data['retweeted_status'].keys())\n",
    "print(\"Keys in the dictionary:\\n- \" + keys_str)"
   ]
  },
  {
   "cell_type": "code",
   "execution_count": 24,
   "id": "47de51c3-06b8-4c2e-a865-51a9b41c70eb",
   "metadata": {},
   "outputs": [
    {
     "data": {
      "text/plain": [
       "4"
      ]
     },
     "execution_count": 24,
     "metadata": {},
     "output_type": "execute_result"
    }
   ],
   "source": [
    "len(data['retweeted_status']['user']) #39\n",
    "\n",
    "len(data['retweeted_status']['entities']) #4"
   ]
  },
  {
   "cell_type": "code",
   "execution_count": 25,
   "id": "82c488b4-e79d-4f9d-a76d-341dea54e4d6",
   "metadata": {},
   "outputs": [
    {
     "data": {
      "text/plain": [
       "{'id': 47596019,\n",
       " 'id_str': '47596019',\n",
       " 'name': 'Liputan6.com',\n",
       " 'screen_name': 'liputan6dotcom',\n",
       " 'location': 'Jakarta Indonesia',\n",
       " 'url': None,\n",
       " 'description': 'Download Apps https://t.co/Tg70sLl3Dc di sini https://t.co/DkBRaoqgmX \\nWebsite : https://t.co/Tg70sLl3Dc                                   \\nContact us: Liputan6Socmed@gmail.com',\n",
       " 'translator_type': 'regular',\n",
       " 'protected': False,\n",
       " 'verified': True,\n",
       " 'followers_count': 3675977,\n",
       " 'friends_count': 693,\n",
       " 'listed_count': 4806,\n",
       " 'favourites_count': 7055,\n",
       " 'statuses_count': 1375342,\n",
       " 'created_at': 'Tue Jun 16 10:48:24 +0000 2009',\n",
       " 'utc_offset': None,\n",
       " 'time_zone': None,\n",
       " 'geo_enabled': True,\n",
       " 'lang': None,\n",
       " 'contributors_enabled': False,\n",
       " 'is_translator': False,\n",
       " 'profile_background_color': 'E88317',\n",
       " 'profile_background_image_url': 'http://abs.twimg.com/images/themes/theme16/bg.gif',\n",
       " 'profile_background_image_url_https': 'https://abs.twimg.com/images/themes/theme16/bg.gif',\n",
       " 'profile_background_tile': False,\n",
       " 'profile_link_color': 'E88317',\n",
       " 'profile_sidebar_border_color': 'FFFFFF',\n",
       " 'profile_sidebar_fill_color': 'F05A31',\n",
       " 'profile_text_color': '0099CC',\n",
       " 'profile_use_background_image': False,\n",
       " 'profile_image_url': 'http://pbs.twimg.com/profile_images/1196221192916439041/SuL7oIar_normal.jpg',\n",
       " 'profile_image_url_https': 'https://pbs.twimg.com/profile_images/1196221192916439041/SuL7oIar_normal.jpg',\n",
       " 'profile_banner_url': 'https://pbs.twimg.com/profile_banners/47596019/1585833284',\n",
       " 'default_profile': False,\n",
       " 'default_profile_image': False,\n",
       " 'following': None,\n",
       " 'follow_request_sent': None,\n",
       " 'notifications': None}"
      ]
     },
     "execution_count": 25,
     "metadata": {},
     "output_type": "execute_result"
    }
   ],
   "source": [
    "# print the last data item\n",
    "data['retweeted_status']['user']\n",
    "# name for display\n",
    "# @screen_name"
   ]
  },
  {
   "cell_type": "code",
   "execution_count": 26,
   "id": "ad2ed869-96fc-4bfa-ae5b-e9b4a2e8681b",
   "metadata": {},
   "outputs": [
    {
     "data": {
      "text/plain": [
       "{'created_at': 'Sun Apr 12 18:47:53 +0000 2020',\n",
       " 'id': 1249408918196871168,\n",
       " 'id_str': '1249408918196871168',\n",
       " 'text': 'RT @liputan6dotcom: Lagi, 2 Dokter Senior Meninggal karena Corona Covid-19 https://t.co/eDbMsxFA84',\n",
       " 'source': '<a href=\"http://twitter.com/download/android\" rel=\"nofollow\">Twitter for Android</a>',\n",
       " 'truncated': False,\n",
       " 'in_reply_to_status_id': None,\n",
       " 'in_reply_to_status_id_str': None,\n",
       " 'in_reply_to_user_id': None,\n",
       " 'in_reply_to_user_id_str': None,\n",
       " 'in_reply_to_screen_name': None,\n",
       " 'user': {'id': 2283278160,\n",
       "  'id_str': '2283278160',\n",
       "  'name': 'Mr rius',\n",
       "  'screen_name': 'AwhexWibowo',\n",
       "  'location': 'Yogyakarta, Indonesia',\n",
       "  'url': None,\n",
       "  'description': 'have fun go mad',\n",
       "  'translator_type': 'none',\n",
       "  'protected': False,\n",
       "  'verified': False,\n",
       "  'followers_count': 451,\n",
       "  'friends_count': 608,\n",
       "  'listed_count': 2,\n",
       "  'favourites_count': 4625,\n",
       "  'statuses_count': 31160,\n",
       "  'created_at': 'Thu Jan 09 08:34:03 +0000 2014',\n",
       "  'utc_offset': None,\n",
       "  'time_zone': None,\n",
       "  'geo_enabled': True,\n",
       "  'lang': None,\n",
       "  'contributors_enabled': False,\n",
       "  'is_translator': False,\n",
       "  'profile_background_color': 'C0DEED',\n",
       "  'profile_background_image_url': 'http://abs.twimg.com/images/themes/theme1/bg.png',\n",
       "  'profile_background_image_url_https': 'https://abs.twimg.com/images/themes/theme1/bg.png',\n",
       "  'profile_background_tile': False,\n",
       "  'profile_link_color': '1DA1F2',\n",
       "  'profile_sidebar_border_color': 'C0DEED',\n",
       "  'profile_sidebar_fill_color': 'DDEEF6',\n",
       "  'profile_text_color': '333333',\n",
       "  'profile_use_background_image': True,\n",
       "  'profile_image_url': 'http://pbs.twimg.com/profile_images/1045333930910482432/9T4eZEsi_normal.jpg',\n",
       "  'profile_image_url_https': 'https://pbs.twimg.com/profile_images/1045333930910482432/9T4eZEsi_normal.jpg',\n",
       "  'profile_banner_url': 'https://pbs.twimg.com/profile_banners/2283278160/1585672135',\n",
       "  'default_profile': True,\n",
       "  'default_profile_image': False,\n",
       "  'following': None,\n",
       "  'follow_request_sent': None,\n",
       "  'notifications': None},\n",
       " 'geo': None,\n",
       " 'coordinates': None,\n",
       " 'place': None,\n",
       " 'contributors': None,\n",
       " 'retweeted_status': {'created_at': 'Sun Apr 12 17:22:04 +0000 2020',\n",
       "  'id': 1249387319229988865,\n",
       "  'id_str': '1249387319229988865',\n",
       "  'text': 'Lagi, 2 Dokter Senior Meninggal karena Corona Covid-19 https://t.co/eDbMsxFA84',\n",
       "  'source': '<a href=\"https://dlvrit.com/\" rel=\"nofollow\">dlvr.it</a>',\n",
       "  'truncated': False,\n",
       "  'in_reply_to_status_id': None,\n",
       "  'in_reply_to_status_id_str': None,\n",
       "  'in_reply_to_user_id': None,\n",
       "  'in_reply_to_user_id_str': None,\n",
       "  'in_reply_to_screen_name': None,\n",
       "  'user': {'id': 47596019,\n",
       "   'id_str': '47596019',\n",
       "   'name': 'Liputan6.com',\n",
       "   'screen_name': 'liputan6dotcom',\n",
       "   'location': 'Jakarta Indonesia',\n",
       "   'url': None,\n",
       "   'description': 'Download Apps https://t.co/Tg70sLl3Dc di sini https://t.co/DkBRaoqgmX \\nWebsite : https://t.co/Tg70sLl3Dc                                   \\nContact us: Liputan6Socmed@gmail.com',\n",
       "   'translator_type': 'regular',\n",
       "   'protected': False,\n",
       "   'verified': True,\n",
       "   'followers_count': 3675977,\n",
       "   'friends_count': 693,\n",
       "   'listed_count': 4806,\n",
       "   'favourites_count': 7055,\n",
       "   'statuses_count': 1375342,\n",
       "   'created_at': 'Tue Jun 16 10:48:24 +0000 2009',\n",
       "   'utc_offset': None,\n",
       "   'time_zone': None,\n",
       "   'geo_enabled': True,\n",
       "   'lang': None,\n",
       "   'contributors_enabled': False,\n",
       "   'is_translator': False,\n",
       "   'profile_background_color': 'E88317',\n",
       "   'profile_background_image_url': 'http://abs.twimg.com/images/themes/theme16/bg.gif',\n",
       "   'profile_background_image_url_https': 'https://abs.twimg.com/images/themes/theme16/bg.gif',\n",
       "   'profile_background_tile': False,\n",
       "   'profile_link_color': 'E88317',\n",
       "   'profile_sidebar_border_color': 'FFFFFF',\n",
       "   'profile_sidebar_fill_color': 'F05A31',\n",
       "   'profile_text_color': '0099CC',\n",
       "   'profile_use_background_image': False,\n",
       "   'profile_image_url': 'http://pbs.twimg.com/profile_images/1196221192916439041/SuL7oIar_normal.jpg',\n",
       "   'profile_image_url_https': 'https://pbs.twimg.com/profile_images/1196221192916439041/SuL7oIar_normal.jpg',\n",
       "   'profile_banner_url': 'https://pbs.twimg.com/profile_banners/47596019/1585833284',\n",
       "   'default_profile': False,\n",
       "   'default_profile_image': False,\n",
       "   'following': None,\n",
       "   'follow_request_sent': None,\n",
       "   'notifications': None},\n",
       "  'geo': None,\n",
       "  'coordinates': None,\n",
       "  'place': None,\n",
       "  'contributors': None,\n",
       "  'is_quote_status': False,\n",
       "  'quote_count': 7,\n",
       "  'reply_count': 12,\n",
       "  'retweet_count': 86,\n",
       "  'favorite_count': 108,\n",
       "  'entities': {'hashtags': [],\n",
       "   'urls': [{'url': 'https://t.co/eDbMsxFA84',\n",
       "     'expanded_url': 'http://dlvr.it/RTf5SD',\n",
       "     'display_url': 'dlvr.it/RTf5SD',\n",
       "     'indices': [55, 78]}],\n",
       "   'user_mentions': [],\n",
       "   'symbols': []},\n",
       "  'favorited': False,\n",
       "  'retweeted': False,\n",
       "  'possibly_sensitive': False,\n",
       "  'filter_level': 'low',\n",
       "  'lang': 'in'},\n",
       " 'is_quote_status': False,\n",
       " 'quote_count': 0,\n",
       " 'reply_count': 0,\n",
       " 'retweet_count': 0,\n",
       " 'favorite_count': 0,\n",
       " 'entities': {'hashtags': [],\n",
       "  'urls': [{'url': 'https://t.co/eDbMsxFA84',\n",
       "    'expanded_url': 'http://dlvr.it/RTf5SD',\n",
       "    'display_url': 'dlvr.it/RTf5SD',\n",
       "    'indices': [75, 98]}],\n",
       "  'user_mentions': [{'screen_name': 'liputan6dotcom',\n",
       "    'name': 'Liputan6.com',\n",
       "    'id': 47596019,\n",
       "    'id_str': '47596019',\n",
       "    'indices': [3, 18]}],\n",
       "  'symbols': []},\n",
       " 'favorited': False,\n",
       " 'retweeted': False,\n",
       " 'possibly_sensitive': False,\n",
       " 'filter_level': 'low',\n",
       " 'lang': 'in',\n",
       " 'timestamp_ms': '1586717273650'}"
      ]
     },
     "execution_count": 26,
     "metadata": {},
     "output_type": "execute_result"
    }
   ],
   "source": [
    "data"
   ]
  },
  {
   "cell_type": "code",
   "execution_count": null,
   "id": "f0f4e769-a33d-4da7-9480-1f446e6576b1",
   "metadata": {},
   "outputs": [],
   "source": []
  }
 ],
 "metadata": {
  "kernelspec": {
   "display_name": "Python 3 (ipykernel)",
   "language": "python",
   "name": "python3"
  },
  "language_info": {
   "codemirror_mode": {
    "name": "ipython",
    "version": 3
   },
   "file_extension": ".py",
   "mimetype": "text/x-python",
   "name": "python",
   "nbconvert_exporter": "python",
   "pygments_lexer": "ipython3",
   "version": "3.9.12"
  }
 },
 "nbformat": 4,
 "nbformat_minor": 5
}
