{
 "cells": [
  {
   "cell_type": "markdown",
   "id": "b37f5585",
   "metadata": {},
   "source": [
    "## Relational Datastore"
   ]
  },
  {
   "cell_type": "code",
   "execution_count": 10,
   "id": "d6419f2c",
   "metadata": {
    "scrolled": true
   },
   "outputs": [
    {
     "name": "stdout",
     "output_type": "stream",
     "text": [
      "Requirement already satisfied: pymysql in d:\\install\\anaconda3\\lib\\site-packages (1.0.3)Note: you may need to restart the kernel to use updated packages.\n",
      "\n"
     ]
    }
   ],
   "source": [
    "pip install pymysql"
   ]
  },
  {
   "cell_type": "code",
   "execution_count": 2,
   "id": "3f61ef55",
   "metadata": {},
   "outputs": [],
   "source": [
    "import json\n",
    "import pandas as pd\n",
    "import pymysql\n",
    "import datetime\n",
    "import time"
   ]
  },
  {
   "cell_type": "markdown",
   "id": "91dc26a8",
   "metadata": {},
   "source": [
    "User data overview"
   ]
  },
  {
   "cell_type": "code",
   "execution_count": 3,
   "id": "244c2f94",
   "metadata": {},
   "outputs": [
    {
     "name": "stdout",
     "output_type": "stream",
     "text": [
      "num of lines= 101916 num of tweets= 40804 num of retweets= 61112\n",
      "num of unique tweets/retweets= 101894\n"
     ]
    }
   ],
   "source": [
    "lines=0\n",
    "num_tweets=0\n",
    "num_retweets=0\n",
    "print_tweet = 0\n",
    "print_retweet = 0\n",
    "tweets = {}\n",
    "\n",
    "#insert path and replace name of the file below as needed\n",
    "with open(\"corona-out-3\", \"r\") as f1:\n",
    "    for line in f1:\n",
    "        try:\n",
    "            data = json.loads(line)\n",
    "            lines = lines + 1\n",
    "            if ( data['text'].startswith('RT') ):\n",
    "                num_retweets += 1\n",
    "                \n",
    "            else:\n",
    "                num_tweets += 1\n",
    "                \n",
    "            if (data['id_str'] not in tweets):\n",
    "                tweets[data['id_str']] = data\n",
    "            \n",
    "        except:\n",
    "            # if there is an error loading the json of the tweet, skip\n",
    "            continue\n",
    "            \n",
    "print('num of lines=',lines, 'num of tweets=',num_tweets, 'num of retweets=',num_retweets)\n",
    "print('num of unique tweets/retweets=',len(tweets.keys()))"
   ]
  },
  {
   "cell_type": "code",
   "execution_count": 10,
   "id": "203c2406",
   "metadata": {},
   "outputs": [
    {
     "name": "stdout",
     "output_type": "stream",
     "text": [
      "There are 38 features in user data.\n"
     ]
    },
    {
     "data": {
      "text/plain": [
       "{'id': 933734367679123456,\n",
       " 'id_str': '933734367679123456',\n",
       " 'name': 'Jacob',\n",
       " 'screen_name': 'lundgreenjacob',\n",
       " 'location': None,\n",
       " 'url': None,\n",
       " 'description': None,\n",
       " 'translator_type': 'none',\n",
       " 'protected': False,\n",
       " 'verified': False,\n",
       " 'followers_count': 1,\n",
       " 'friends_count': 44,\n",
       " 'listed_count': 0,\n",
       " 'favourites_count': 68,\n",
       " 'statuses_count': 12,\n",
       " 'created_at': 'Thu Nov 23 16:29:56 +0000 2017',\n",
       " 'utc_offset': None,\n",
       " 'time_zone': None,\n",
       " 'geo_enabled': False,\n",
       " 'lang': None,\n",
       " 'contributors_enabled': False,\n",
       " 'is_translator': False,\n",
       " 'profile_background_color': 'F5F8FA',\n",
       " 'profile_background_image_url': '',\n",
       " 'profile_background_image_url_https': '',\n",
       " 'profile_background_tile': False,\n",
       " 'profile_link_color': '1DA1F2',\n",
       " 'profile_sidebar_border_color': 'C0DEED',\n",
       " 'profile_sidebar_fill_color': 'DDEEF6',\n",
       " 'profile_text_color': '333333',\n",
       " 'profile_use_background_image': True,\n",
       " 'profile_image_url': 'http://pbs.twimg.com/profile_images/933736718141968384/uxpf4THz_normal.jpg',\n",
       " 'profile_image_url_https': 'https://pbs.twimg.com/profile_images/933736718141968384/uxpf4THz_normal.jpg',\n",
       " 'default_profile': True,\n",
       " 'default_profile_image': False,\n",
       " 'following': None,\n",
       " 'follow_request_sent': None,\n",
       " 'notifications': None}"
      ]
     },
     "execution_count": 10,
     "metadata": {},
     "output_type": "execute_result"
    }
   ],
   "source": [
    "# print user information of the last data item\n",
    "user = data['user']\n",
    "print('There are', len(user), 'features in user data.')\n",
    "user"
   ]
  },
  {
   "cell_type": "markdown",
   "id": "f90fd360",
   "metadata": {},
   "source": [
    "Create new database *db1*"
   ]
  },
  {
   "cell_type": "code",
   "execution_count": 4,
   "id": "84c09f36",
   "metadata": {},
   "outputs": [],
   "source": [
    "conn = pymysql.connect(host='127.0.0.1', port=3306, user='root', charset=\"utf8\")\n",
    "cur = conn.cursor()"
   ]
  },
  {
   "cell_type": "code",
   "execution_count": 5,
   "id": "6f31fd40",
   "metadata": {},
   "outputs": [],
   "source": [
    "cur.execute(\"CREATE DATABASE IF NOT EXISTS db1\")\n",
    "conn.commit()"
   ]
  },
  {
   "cell_type": "code",
   "execution_count": 6,
   "id": "2f79c16c",
   "metadata": {},
   "outputs": [],
   "source": [
    "cur.close()\n",
    "conn.close()"
   ]
  },
  {
   "cell_type": "markdown",
   "id": "2982c29d",
   "metadata": {},
   "source": [
    "Create *users* table"
   ]
  },
  {
   "cell_type": "code",
   "execution_count": 20,
   "id": "518a5a4d",
   "metadata": {},
   "outputs": [],
   "source": [
    "conn = pymysql.connect(host='127.0.0.1', port=3306, user='root', charset=\"utf8mb4\", database='db1')\n",
    "cur = conn.cursor()"
   ]
  },
  {
   "cell_type": "code",
   "execution_count": 6,
   "id": "79d2a79f",
   "metadata": {},
   "outputs": [
    {
     "name": "stdout",
     "output_type": "stream",
     "text": [
      "Database charset: utf8mb4\n"
     ]
    }
   ],
   "source": [
    "cur.execute(\"SHOW VARIABLES LIKE 'character_set_database'\")\n",
    "result = cur.fetchone()\n",
    "print(f\"Database charset: {result[1]}\")\n",
    "\n",
    "cur.execute(\"ALTER DATABASE db1 CHARACTER SET utf8mb4 COLLATE utf8mb4_general_ci\")\n",
    "conn.commit()"
   ]
  },
  {
   "cell_type": "code",
   "execution_count": 7,
   "id": "73a47644",
   "metadata": {},
   "outputs": [],
   "source": [
    "cur.execute(\"\"\"\n",
    "CREATE TABLE IF NOT EXISTS users (\n",
    "    id_str VARCHAR(255) PRIMARY KEY,\n",
    "    screen_name VARCHAR(255),\n",
    "    name VARCHAR(255),\n",
    "    created_at DATETIME,\n",
    "    protected BOOLEAN,\n",
    "    favourites_count INT,\n",
    "    statuses_count INT\n",
    ") CHARACTER SET utf8mb4 COLLATE utf8mb4_general_ci\n",
    "\"\"\")\n",
    "\n",
    "conn.commit()"
   ]
  },
  {
   "cell_type": "markdown",
   "id": "18f4572c",
   "metadata": {},
   "source": [
    "Insert data into the *users* table"
   ]
  },
  {
   "cell_type": "code",
   "execution_count": 10,
   "id": "30ceae2d",
   "metadata": {},
   "outputs": [],
   "source": [
    "# Do not run this code.\n",
    "def insert_user_into_table(user):\n",
    "    created_at = datetime.datetime.strptime(user['created_at'], \"%a %b %d %H:%M:%S %z %Y\")\n",
    "    formatted_created_at = created_at.strftime(\"%Y-%m-%d %H:%M:%S\")\n",
    "    \n",
    "    sql = \"\"\"\n",
    "    INSERT INTO users (id_str, screen_name, name, created_at, protected, favourites_count, statuses_count) \n",
    "    VALUES (%s, %s, %s, %s, %s, %s, %s)\n",
    "    ON DUPLICATE KEY UPDATE\n",
    "        screen_name = VALUES(screen_name),\n",
    "        name = VALUES(name),\n",
    "        created_at = VALUES(created_at),\n",
    "        protected = VALUES(protected),\n",
    "        favourites_count = VALUES(favourites_count),\n",
    "        statuses_count = VALUES(statuses_count)\n",
    "    \"\"\"\n",
    "    cur.execute(sql, (user['id_str'], user['screen_name'], user['name'], formatted_created_at, \n",
    "                      user['protected'], user['favourites_count'], user['statuses_count']))\n",
    "    conn.commit()\n",
    "\n",
    "\n",
    "seen_tweets = set()\n",
    "seen_users = set()\n",
    "\n",
    "with open(\"corona-out-3\", \"r\") as f1:\n",
    "    for line in f1:\n",
    "        if line.strip() == \"\":\n",
    "            continue\n",
    "        \n",
    "        try:\n",
    "            data = json.loads(line)\n",
    "\n",
    "            if data['id'] in seen_tweets:\n",
    "                continue\n",
    "            else:\n",
    "                seen_tweets.add(data['id'])\n",
    "            \n",
    "            user = data['user']\n",
    "\n",
    "            if user['id_str'] not in seen_users:\n",
    "                seen_users.add(user['id_str'])\n",
    "\n",
    "                insert_user_into_table(user)\n",
    "        \n",
    "        except Exception as e:\n",
    "            print(\"Error:\", e)\n",
    "            continue"
   ]
  },
  {
   "cell_type": "code",
   "execution_count": 19,
   "id": "9621b577",
   "metadata": {
    "scrolled": true
   },
   "outputs": [
    {
     "data": {
      "text/plain": [
       "(('1000006582896295938', 'yourgirlsarag', 'sara', 11349, 27070),\n",
       " ('1000027886915637250', 'cheche04125843', 'cheche', 1031, 5628),\n",
       " ('1000034375973646337', 'clarice8967', 'clarih 🐻', 40141, 11868),\n",
       " ('100004211', 'karundhiravidan', 'azakiya tamilmagan', 70330, 35871),\n",
       " ('1000045322859634688', 'barcelona9581', 'barcelona958', 29449, 14216),\n",
       " ('1000046756120363013', 'isisevang', 'áisis', 9384, 8155),\n",
       " ('1000047984103575552',\n",
       "  'esesesrarara34',\n",
       "  'EsRaAa (EN YENI HESAP)😂',\n",
       "  1459,\n",
       "  1170),\n",
       " ('1000055605263065088', 'zolesa_ke', 'Tsika Zolesa', 37216, 23844),\n",
       " ('1000061119921352705', 'lejayk54', '☮️Axel☮️', 1438, 630),\n",
       " ('1000062434126725120', 'mahin37418807', 'Mahin Mohades', 5232, 4104))"
      ]
     },
     "execution_count": 19,
     "metadata": {},
     "output_type": "execute_result"
    }
   ],
   "source": [
    "sql = \"SELECT * FROM users LIMIT 10\"\n",
    "cur.execute(sql)\n",
    "cur.fetchall()"
   ]
  },
  {
   "cell_type": "markdown",
   "id": "583f10c4",
   "metadata": {},
   "source": [
    "Check *protected* property"
   ]
  },
  {
   "cell_type": "code",
   "execution_count": 17,
   "id": "356ddbab",
   "metadata": {},
   "outputs": [
    {
     "name": "stdout",
     "output_type": "stream",
     "text": [
      "()\n"
     ]
    }
   ],
   "source": [
    "# Do not run this code.\n",
    "cur.execute(\"SELECT * FROM users WHERE protected = 1\")\n",
    "cur.fetchall()"
   ]
  },
  {
   "cell_type": "markdown",
   "id": "962c8aea",
   "metadata": {},
   "source": [
    "For all of the users, *protected* values are 0."
   ]
  },
  {
   "cell_type": "markdown",
   "id": "3f028e1a",
   "metadata": {},
   "source": [
    "Dropping irrelevant fields"
   ]
  },
  {
   "cell_type": "code",
   "execution_count": 14,
   "id": "8ab98f05",
   "metadata": {},
   "outputs": [],
   "source": [
    "# Do not run this code.\n",
    "cur.execute(\"ALTER TABLE users DROP COLUMN protected;\")\n",
    "conn.commit()"
   ]
  },
  {
   "cell_type": "code",
   "execution_count": 17,
   "id": "4e602d7a",
   "metadata": {},
   "outputs": [],
   "source": [
    "cur.execute(\"ALTER TABLE users DROP COLUMN created_at;\")\n",
    "conn.commit()"
   ]
  },
  {
   "cell_type": "markdown",
   "id": "4f7819e0",
   "metadata": {},
   "source": [
    "Check whether *screen_name* or *name* is unique"
   ]
  },
  {
   "cell_type": "code",
   "execution_count": 11,
   "id": "ae1e89a2",
   "metadata": {
    "scrolled": true
   },
   "outputs": [
    {
     "data": {
      "text/plain": [
       "0"
      ]
     },
     "execution_count": 11,
     "metadata": {},
     "output_type": "execute_result"
    }
   ],
   "source": [
    "cur.execute(\"SELECT screen_name, COUNT(*) FROM users GROUP BY screen_name HAVING COUNT(*) > 1;\")"
   ]
  },
  {
   "cell_type": "code",
   "execution_count": 12,
   "id": "93b2dc67",
   "metadata": {
    "scrolled": false
   },
   "outputs": [
    {
     "data": {
      "text/plain": [
       "2470"
      ]
     },
     "execution_count": 12,
     "metadata": {},
     "output_type": "execute_result"
    }
   ],
   "source": [
    "cur.execute(\"SELECT name, COUNT(*) FROM users GROUP BY name HAVING COUNT(*) > 1;\")"
   ]
  },
  {
   "cell_type": "markdown",
   "id": "6728c8c3",
   "metadata": {},
   "source": [
    "Rename *id_str*"
   ]
  },
  {
   "cell_type": "code",
   "execution_count": 20,
   "id": "7f21db1b",
   "metadata": {},
   "outputs": [],
   "source": [
    "cur.execute(\"ALTER TABLE users DROP PRIMARY KEY;\")\n",
    "cur.execute(\"ALTER TABLE users CHANGE id_str userid_str VARCHAR(255) PRIMARY KEY;\")\n",
    "conn.commit()"
   ]
  },
  {
   "cell_type": "markdown",
   "id": "f792456b",
   "metadata": {},
   "source": [
    "Queries"
   ]
  },
  {
   "cell_type": "code",
   "execution_count": 21,
   "id": "1a3ab1c4",
   "metadata": {},
   "outputs": [],
   "source": [
    "cur.execute(\"\"\"\n",
    "SELECT userid_str, name, screen_name, favourites_count FROM users\n",
    "ORDER BY favourites_count desc\n",
    "\"\"\")\n",
    "\n",
    "result1 = cur.fetchall()"
   ]
  },
  {
   "cell_type": "code",
   "execution_count": 22,
   "id": "26607ba1",
   "metadata": {
    "scrolled": true
   },
   "outputs": [
    {
     "data": {
      "text/html": [
       "<div>\n",
       "<style scoped>\n",
       "    .dataframe tbody tr th:only-of-type {\n",
       "        vertical-align: middle;\n",
       "    }\n",
       "\n",
       "    .dataframe tbody tr th {\n",
       "        vertical-align: top;\n",
       "    }\n",
       "\n",
       "    .dataframe thead th {\n",
       "        text-align: right;\n",
       "    }\n",
       "</style>\n",
       "<table border=\"1\" class=\"dataframe\">\n",
       "  <thead>\n",
       "    <tr style=\"text-align: right;\">\n",
       "      <th></th>\n",
       "      <th>userid_str</th>\n",
       "      <th>name</th>\n",
       "      <th>screen_name</th>\n",
       "      <th>favourites_count</th>\n",
       "    </tr>\n",
       "  </thead>\n",
       "  <tbody>\n",
       "    <tr>\n",
       "      <th>0</th>\n",
       "      <td>752559084881211392</td>\n",
       "      <td>ronnie cassol</td>\n",
       "      <td>ronniehowlett3</td>\n",
       "      <td>1105807</td>\n",
       "    </tr>\n",
       "    <tr>\n",
       "      <th>1</th>\n",
       "      <td>1672748778</td>\n",
       "      <td>Die Mim</td>\n",
       "      <td>kulturbolschewi</td>\n",
       "      <td>1081511</td>\n",
       "    </tr>\n",
       "    <tr>\n",
       "      <th>2</th>\n",
       "      <td>2184465813</td>\n",
       "      <td>dieSchatzen Oma</td>\n",
       "      <td>Tirolerin45</td>\n",
       "      <td>1002202</td>\n",
       "    </tr>\n",
       "    <tr>\n",
       "      <th>3</th>\n",
       "      <td>3232991391</td>\n",
       "      <td>Chamaelita™@🏡</td>\n",
       "      <td>Chamaelita</td>\n",
       "      <td>974476</td>\n",
       "    </tr>\n",
       "    <tr>\n",
       "      <th>4</th>\n",
       "      <td>230310402</td>\n",
       "      <td>domenico fors</td>\n",
       "      <td>Domenico1oo777</td>\n",
       "      <td>873692</td>\n",
       "    </tr>\n",
       "    <tr>\n",
       "      <th>5</th>\n",
       "      <td>703311650</td>\n",
       "      <td>J.P.</td>\n",
       "      <td>Wuchtbrumme80</td>\n",
       "      <td>857564</td>\n",
       "    </tr>\n",
       "    <tr>\n",
       "      <th>6</th>\n",
       "      <td>94095624</td>\n",
       "      <td>Suryakant</td>\n",
       "      <td>suryakantvsnl</td>\n",
       "      <td>843480</td>\n",
       "    </tr>\n",
       "    <tr>\n",
       "      <th>7</th>\n",
       "      <td>153177381</td>\n",
       "      <td>MiJD</td>\n",
       "      <td>micjojd</td>\n",
       "      <td>837447</td>\n",
       "    </tr>\n",
       "    <tr>\n",
       "      <th>8</th>\n",
       "      <td>959105130955247616</td>\n",
       "      <td>sawati dasi💧</td>\n",
       "      <td>PitaRampal</td>\n",
       "      <td>835740</td>\n",
       "    </tr>\n",
       "    <tr>\n",
       "      <th>9</th>\n",
       "      <td>864487498935787520</td>\n",
       "      <td>Rhonda Harbison</td>\n",
       "      <td>rhonda_harbison</td>\n",
       "      <td>828722</td>\n",
       "    </tr>\n",
       "  </tbody>\n",
       "</table>\n",
       "</div>"
      ],
      "text/plain": [
       "           userid_str             name      screen_name  favourites_count\n",
       "0  752559084881211392    ronnie cassol   ronniehowlett3           1105807\n",
       "1          1672748778          Die Mim  kulturbolschewi           1081511\n",
       "2          2184465813  dieSchatzen Oma      Tirolerin45           1002202\n",
       "3          3232991391    Chamaelita™@🏡       Chamaelita            974476\n",
       "4           230310402    domenico fors   Domenico1oo777            873692\n",
       "5           703311650             J.P.    Wuchtbrumme80            857564\n",
       "6            94095624        Suryakant    suryakantvsnl            843480\n",
       "7           153177381             MiJD          micjojd            837447\n",
       "8  959105130955247616     sawati dasi💧       PitaRampal            835740\n",
       "9  864487498935787520  Rhonda Harbison  rhonda_harbison            828722"
      ]
     },
     "execution_count": 22,
     "metadata": {},
     "output_type": "execute_result"
    }
   ],
   "source": [
    "column_names1 = [desc[0] for desc in cur.description]\n",
    "df1 = pd.DataFrame.from_records(result1, columns=column_names1)\n",
    "df1.head(10)"
   ]
  },
  {
   "cell_type": "code",
   "execution_count": 23,
   "id": "d0555832",
   "metadata": {},
   "outputs": [],
   "source": [
    "cur.execute(\"\"\"\n",
    "SELECT userid_str, name, screen_name, statuses_count FROM users\n",
    "ORDER BY statuses_count desc\n",
    "\"\"\")\n",
    "\n",
    "result2 = cur.fetchall()"
   ]
  },
  {
   "cell_type": "code",
   "execution_count": 24,
   "id": "2746d65e",
   "metadata": {},
   "outputs": [
    {
     "data": {
      "text/html": [
       "<div>\n",
       "<style scoped>\n",
       "    .dataframe tbody tr th:only-of-type {\n",
       "        vertical-align: middle;\n",
       "    }\n",
       "\n",
       "    .dataframe tbody tr th {\n",
       "        vertical-align: top;\n",
       "    }\n",
       "\n",
       "    .dataframe thead th {\n",
       "        text-align: right;\n",
       "    }\n",
       "</style>\n",
       "<table border=\"1\" class=\"dataframe\">\n",
       "  <thead>\n",
       "    <tr style=\"text-align: right;\">\n",
       "      <th></th>\n",
       "      <th>userid_str</th>\n",
       "      <th>name</th>\n",
       "      <th>screen_name</th>\n",
       "      <th>statuses_count</th>\n",
       "    </tr>\n",
       "  </thead>\n",
       "  <tbody>\n",
       "    <tr>\n",
       "      <th>0</th>\n",
       "      <td>1179710990</td>\n",
       "      <td>OccuWorld 🏴</td>\n",
       "      <td>OccuWorld</td>\n",
       "      <td>3501276</td>\n",
       "    </tr>\n",
       "    <tr>\n",
       "      <th>1</th>\n",
       "      <td>289118612</td>\n",
       "      <td>Tomthunkit™</td>\n",
       "      <td>TomthunkitsMind</td>\n",
       "      <td>2401909</td>\n",
       "    </tr>\n",
       "    <tr>\n",
       "      <th>2</th>\n",
       "      <td>317671787</td>\n",
       "      <td>informazione interno</td>\n",
       "      <td>infoitinterno</td>\n",
       "      <td>2296984</td>\n",
       "    </tr>\n",
       "    <tr>\n",
       "      <th>3</th>\n",
       "      <td>113410319</td>\n",
       "      <td>Vitor Santos</td>\n",
       "      <td>jornalistavitor</td>\n",
       "      <td>2211755</td>\n",
       "    </tr>\n",
       "    <tr>\n",
       "      <th>4</th>\n",
       "      <td>292619181</td>\n",
       "      <td>scarlet monahan</td>\n",
       "      <td>scarletmonahan</td>\n",
       "      <td>1904571</td>\n",
       "    </tr>\n",
       "    <tr>\n",
       "      <th>5</th>\n",
       "      <td>61608747</td>\n",
       "      <td>Real Marsha Wright® | #StaySafeBeWiseLoveEachO...</td>\n",
       "      <td>marshawright</td>\n",
       "      <td>1803883</td>\n",
       "    </tr>\n",
       "    <tr>\n",
       "      <th>6</th>\n",
       "      <td>47274731</td>\n",
       "      <td>Okezone</td>\n",
       "      <td>okezonenews</td>\n",
       "      <td>1667748</td>\n",
       "    </tr>\n",
       "    <tr>\n",
       "      <th>7</th>\n",
       "      <td>69183155</td>\n",
       "      <td>detikcom</td>\n",
       "      <td>detikcom</td>\n",
       "      <td>1638984</td>\n",
       "    </tr>\n",
       "    <tr>\n",
       "      <th>8</th>\n",
       "      <td>18040227</td>\n",
       "      <td>Ratno Wistu Jr</td>\n",
       "      <td>RatnoWistu</td>\n",
       "      <td>1638089</td>\n",
       "    </tr>\n",
       "    <tr>\n",
       "      <th>9</th>\n",
       "      <td>2359140223</td>\n",
       "      <td>जॉर्ज कुरियन</td>\n",
       "      <td>GeorgekurianINC</td>\n",
       "      <td>1537283</td>\n",
       "    </tr>\n",
       "  </tbody>\n",
       "</table>\n",
       "</div>"
      ],
      "text/plain": [
       "   userid_str                                               name  \\\n",
       "0  1179710990                                        OccuWorld 🏴   \n",
       "1   289118612                                        Tomthunkit™   \n",
       "2   317671787                               informazione interno   \n",
       "3   113410319                                       Vitor Santos   \n",
       "4   292619181                                    scarlet monahan   \n",
       "5    61608747  Real Marsha Wright® | #StaySafeBeWiseLoveEachO...   \n",
       "6    47274731                                            Okezone   \n",
       "7    69183155                                           detikcom   \n",
       "8    18040227                                     Ratno Wistu Jr   \n",
       "9  2359140223                                       जॉर्ज कुरियन   \n",
       "\n",
       "       screen_name  statuses_count  \n",
       "0        OccuWorld         3501276  \n",
       "1  TomthunkitsMind         2401909  \n",
       "2    infoitinterno         2296984  \n",
       "3  jornalistavitor         2211755  \n",
       "4   scarletmonahan         1904571  \n",
       "5     marshawright         1803883  \n",
       "6      okezonenews         1667748  \n",
       "7         detikcom         1638984  \n",
       "8       RatnoWistu         1638089  \n",
       "9  GeorgekurianINC         1537283  "
      ]
     },
     "execution_count": 24,
     "metadata": {},
     "output_type": "execute_result"
    }
   ],
   "source": [
    "column_names2 = [desc[0] for desc in cur.description]\n",
    "df2 = pd.DataFrame.from_records(result2, columns=column_names2)\n",
    "df2.head(10)"
   ]
  },
  {
   "cell_type": "markdown",
   "id": "8c792114",
   "metadata": {},
   "source": [
    "Add an Index on *screen_name*"
   ]
  },
  {
   "cell_type": "code",
   "execution_count": 8,
   "id": "adf331e4",
   "metadata": {},
   "outputs": [],
   "source": [
    "cur.execute('''\n",
    "ALTER TABLE users\n",
    "ADD INDEX screen_name_idx (screen_name)\n",
    "''')\n",
    "conn.commit()"
   ]
  },
  {
   "cell_type": "code",
   "execution_count": 21,
   "id": "2ae44b2a",
   "metadata": {},
   "outputs": [],
   "source": [
    "cur.close()\n",
    "conn.close()"
   ]
  },
  {
   "cell_type": "code",
   "execution_count": null,
   "id": "5770de2a",
   "metadata": {},
   "outputs": [],
   "source": []
  }
 ],
 "metadata": {
  "kernelspec": {
   "display_name": "Python 3 (ipykernel)",
   "language": "python",
   "name": "python3"
  },
  "language_info": {
   "codemirror_mode": {
    "name": "ipython",
    "version": 3
   },
   "file_extension": ".py",
   "mimetype": "text/x-python",
   "name": "python",
   "nbconvert_exporter": "python",
   "pygments_lexer": "ipython3",
   "version": "3.9.13"
  }
 },
 "nbformat": 4,
 "nbformat_minor": 5
}
